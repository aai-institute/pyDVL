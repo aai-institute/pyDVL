{
 "cells": [
  {
   "cell_type": "markdown",
   "metadata": {},
   "source": [
    "# TODO:\n",
    "\n",
    "* Fix the problems with the removal job:\n",
    "   - different initial value for the curves\n",
    "   - increasing by high-value removal??\n",
    "* Remove old text fragments\n",
    "* Factor out any boilerplate\n",
    "* Remove leftovers\n",
    "* Actually perform the analysis using the values"
   ]
  },
  {
   "cell_type": "markdown",
   "metadata": {},
   "source": [
    "# Data-OOB for random forests and bagged classifiers"
   ]
  },
  {
   "cell_type": "markdown",
   "metadata": {},
   "source": [
    "This notebook illustrates the use of [Data-OOB][../../value/data-oob] from Kwon and Zou \"[Data-OOB: Out-of-bag Estimate as a Simple and Efficient Data Value](https://proceedings.mlr.press/v202/kwon23e.html)\" (ICML 2023), to compute values for bagged models.\n",
    "\n",
    "We will work with the [adult classification dataset](https://archive.ics.uci.edu/dataset/2/adult) from the UCI repository. It's an imbalanced dataset where the objective is to predict whether a person earns more than $50K a year (the \"positive\" class) based on a set of features such as age, education, occupation, etc. After training a random forest on this dataset, we will compute the Data-OOB values and analyze them.\n"
   ]
  },
  {
   "cell_type": "markdown",
   "metadata": {},
   "source": [
    "## Setup\n",
    "\n",
    "<div class=\"alert alert-info\">\n",
    "\n",
    "If you are reading this in the documentation, some boilerplate (including most plotting code) has been omitted for convenience.\n",
    "\n",
    "</div>"
   ]
  },
  {
   "cell_type": "markdown",
   "metadata": {
    "tags": [
     "hide"
    ]
   },
   "source": [
    "We begin by importing the main libraries and setting some defaults."
   ]
  },
  {
   "cell_type": "code",
   "execution_count": null,
   "metadata": {
    "ExecuteTime": {
     "end_time": "2024-11-21T13:42:27.489342Z",
     "start_time": "2024-11-21T13:42:25.637695Z"
    },
    "slideshow": {
     "slide_type": ""
    },
    "tags": [
     "hide"
    ]
   },
   "outputs": [],
   "source": [
    "%load_ext autoreload\n",
    "\n",
    "import os\n",
    "import random\n",
    "\n",
    "import matplotlib\n",
    "import matplotlib.pyplot as plt\n",
    "import numpy as np\n",
    "\n",
    "from pydvl.reporting.plots import plot_ci_array, plot_ci_values\n",
    "from support.common import ThresholdTunerCV, load_adult_data, \\\n",
    "    load_adult_data_raw\n",
    "\n",
    "matplotlib.rcParams[\"axes.facecolor\"] = (1, 1, 1, 0)\n",
    "plt.rcParams[\"axes.facecolor\"] = (1, 1, 1, 0)\n",
    "plt.rcParams[\"figure.facecolor\"] = (1, 1, 1, 0)\n",
    "MEAN_COLORS = [\"dodgerblue\", \"indianred\", \"limegreen\", \"darkorange\",\n",
    "               \"darkorchid\"]\n",
    "SHADE_COLORS = [\"lightskyblue\", \"firebrick\", \"seagreen\", \"gold\", \"plum\"]\n",
    "\n",
    "is_CI = os.environ.get(\"CI\")\n",
    "random_state = 24\n",
    "random.seed(random_state);"
   ]
  },
  {
   "cell_type": "code",
   "execution_count": null,
   "metadata": {
    "ExecuteTime": {
     "end_time": "2024-11-21T13:42:43.748256Z",
     "start_time": "2024-11-21T13:42:43.744196Z"
    }
   },
   "outputs": [],
   "source": [
    "from sklearn.ensemble import RandomForestClassifier\n",
    "from sklearn.metrics import f1_score\n",
    "from pydvl.valuation import DataOOBValuation, Dataset"
   ]
  },
  {
   "cell_type": "markdown",
   "metadata": {},
   "source": [
    "\n",
    "With a helper function we download the data, encode the categorical variables using [TargetEncoder](https://scikit-learn.org/stable/modules/generated/sklearn.preprocessing.TargetEncoder.html), and split it into training and testing sets. We must be careful to stratify the split by the target variable (income)."
   ]
  },
  {
   "cell_type": "code",
   "execution_count": null,
   "metadata": {
    "ExecuteTime": {
     "end_time": "2024-11-21T13:42:53.999969Z",
     "start_time": "2024-11-21T13:42:53.799936Z"
    },
    "tags": [
     "hide-output"
    ]
   },
   "outputs": [],
   "source": [
    "train, test = load_adult_data(train_size=0.6, random_state=random_state)"
   ]
  },
  {
   "cell_type": "code",
   "execution_count": null,
   "metadata": {
    "ExecuteTime": {
     "end_time": "2024-11-21T13:42:56.400972Z",
     "start_time": "2024-11-21T13:42:56.396323Z"
    },
    "tags": [
     "hide"
    ]
   },
   "outputs": [],
   "source": [
    "if is_CI:  # Subsample 1% of the data for faster testing\n",
    "    from support.common import subsample_dataset\n",
    "\n",
    "    train = subsample_dataset(train, 0.01)\n",
    "    test = subsample_dataset(test, 0.01)"
   ]
  },
  {
   "cell_type": "code",
   "execution_count": null,
   "metadata": {
    "ExecuteTime": {
     "end_time": "2024-11-21T13:42:58.947427Z",
     "start_time": "2024-11-21T13:42:58.936728Z"
    }
   },
   "outputs": [],
   "source": [
    "from support.common import subsample_dataset\n",
    "\n",
    "train = subsample_dataset(train, 0.2)\n",
    "test = subsample_dataset(test, 0.2)"
   ]
  },
  {
   "cell_type": "markdown",
   "metadata": {},
   "source": [
    "Usually we would carefully look at the features, check for missing values, outliers, etc. But for the sake of this example, we will skip this step and jump straight into training a model. We will only look at the class distribution since it will matter later:"
   ]
  },
  {
   "cell_type": "code",
   "execution_count": null,
   "metadata": {
    "ExecuteTime": {
     "end_time": "2024-11-21T13:43:01.875396Z",
     "start_time": "2024-11-21T13:43:01.870446Z"
    },
    "tags": [
     "hide-input"
    ]
   },
   "outputs": [],
   "source": [
    "print(f\"Class distribution: {100 * train.y.mean():.1f}% positive, \"\n",
    "      f\"{100 * (1 - train.y.mean()):.1f}% negative\")"
   ]
  },
  {
   "cell_type": "markdown",
   "metadata": {},
   "source": [
    "As a quick baseline, we train a standard sklearn [RandomForestClassifier](https://scikit-learn.org/stable/modules/generated/sklearn.ensemble.RandomForestClassifier.html). Since the dataset is imbalanced, besides the accuracy we look at the confusion matrix, and notice that despite weighting the class by their inverse frequency with `class_weight=\"balanced\"`, the model is not very good at predicting the minority (\"positive\", or \"1\") class: in the figure below we see a high rate of false negatives. This will play a role later in how we interpret the values that Data-OOB returns."
   ]
  },
  {
   "cell_type": "code",
   "execution_count": null,
   "metadata": {
    "ExecuteTime": {
     "end_time": "2024-11-21T13:43:24.904085Z",
     "start_time": "2024-11-21T13:43:24.555235Z"
    },
    "tags": [
     "hide-input"
    ]
   },
   "outputs": [],
   "source": [
    "from sklearn.metrics import ConfusionMatrixDisplay\n",
    "\n",
    "n_est = 20\n",
    "model = RandomForestClassifier(n_estimators=n_est,\n",
    "                               class_weight=\"balanced\",\n",
    "                               random_state=random_state)\n",
    "model.fit(train.x, train.y)\n",
    "accuracy = model.score(test.x, test.y)\n",
    "print(f\"Accuracy of a Random Forest with {n_est} estimators: {accuracy:.4f}\")\n",
    "disp = ConfusionMatrixDisplay.from_estimator(model, test.x, test.y,\n",
    "                                             labels=[0, 1], normalize=\"true\")"
   ]
  },
  {
   "cell_type": "markdown",
   "metadata": {
    "tags": [
     "invertible-output"
    ]
   },
   "source": [
    "## Computing the OOB values\n",
    "\n",
    "The main idea of Data-OOB is to use the out-of-bag error estimates of a bagged model to compute data values. In pyDVL, we provide a class [DataOOBValuation][pydvl.valuation.DataOOBValuation] that takes an existing classification or regression bagging model and uses the per-sample out-of-bag performance estimate for the value of each point.\n",
    "\n",
    "Let's compute and compare the Data-OOB values with three choices for the number of estimators of a random forest. After fitting the random forest, we use the [fit][pydvl.valuation.DataOOBValuation.fit] method to compute the values and store them in two [ValuationResult][pydvl.value.result.ValuationResult] objects"
   ]
  },
  {
   "cell_type": "code",
   "execution_count": null,
   "metadata": {
    "ExecuteTime": {
     "end_time": "2024-11-21T13:45:22.030123Z",
     "start_time": "2024-11-21T13:45:17.503487Z"
    }
   },
   "outputs": [],
   "source": [
    "n_estimators = [50, 100, 200]\n",
    "oob_values = []\n",
    "for i, n_est in enumerate(n_estimators, start=1):\n",
    "    classifier = RandomForestClassifier(n_estimators=n_est,\n",
    "                                        max_samples=0.7,\n",
    "                                        class_weight=\"balanced\",\n",
    "                                        random_state=random_state)\n",
    "    model = ThresholdTunerCV(classifier, n_splits=6, metric=f1_score, n_jobs=6)\n",
    "    model.fit(train.x, train.y)\n",
    "    model.n_estimators = model.base_estimator.n_estimators\n",
    "    model.max_samples = model.base_estimator.max_samples\n",
    "    model.estimators_ = model.base_estimator.estimators_\n",
    "    # model.estimators_samples = model.base_estimator.estimators_samples_\n",
    "    accuracy = model.score(test.x, test.y)\n",
    "    print(f\"Accuracy with {n_est} estimators: {accuracy:.4f}\")\n",
    "    valuation = DataOOBValuation(model)\n",
    "    valuation.fit(train)\n",
    "    oob_values.append(valuation.values())"
   ]
  },
  {
   "cell_type": "markdown",
   "metadata": {},
   "source": [
    "Even though it's not relevant to our discussion, notice how the accuracy barely changes with the number of estimators. Below, we will discuss using the values to identify \"easy\" or \"hard\" samples in the dataset, but first let's quickly look at the values themselves."
   ]
  },
  {
   "cell_type": "markdown",
   "metadata": {},
   "source": [
    "\n",
    "### The distribution of values\n",
    "\n",
    "The left-hand side of the figure below depicts value as it increases with rank and a 95% t-confidence interval. The right-hand side shows the histogram of values.\n",
    "\n",
    "We observe a long tail of high values. This is because the score $T$ used in Data-OOB (accuracy in this case) is a binary variable, and the value $\\psi_i$ is the fraction of times that all weak learners not trained on the $i$-th point classify it correctly. Given the imbalance in the dataset, many learners will always predict the majority (\"negative\", < $50K earnings / year) class and be correct on 75% of the dataset, leading to this tail. As the number of estimators increases, the chance of all of them failing on the same points decreases. The same happens when we increase the maximum depth (try it!). This behaviour is then not a deep property of Data-OOB from which to gain new insights, but rather a consequence of the dataset and the model, as we further elaborate below.\n",
    "\n",
    "*Note that a symmetric CI is actually incorrect in this situation since all values are bounded between 0 and 1 (instead we could use a bootstrapped CI if we stored the scores of all estimators in the bagging model, but this is not implemented in pyDVL).*\n"
   ]
  },
  {
   "cell_type": "code",
   "execution_count": null,
   "metadata": {
    "ExecuteTime": {
     "end_time": "2024-11-21T13:45:53.664257Z",
     "start_time": "2024-11-21T13:45:52.855319Z"
    },
    "slideshow": {
     "slide_type": ""
    },
    "tags": [
     "hide-input",
     "invertible-output"
    ]
   },
   "outputs": [],
   "source": [
    "fig, (ax1, ax2) = plt.subplots(nrows=1, ncols=2, figsize=[15, 5])\n",
    "\n",
    "for (n_est, values, mean_color, shade_color) in zip(\n",
    "        n_estimators, oob_values, MEAN_COLORS, SHADE_COLORS):\n",
    "    values.sort()\n",
    "    plot_ci_values(values,\n",
    "                   level=0.05,\n",
    "                   mean_color=mean_color,\n",
    "                   shade_color=shade_color,\n",
    "                   ax=ax1,\n",
    "                   label=f\"{n_est} estimators\")\n",
    "\n",
    "    ax2.hist(values, bins=50, color=mean_color, alpha=0.5,\n",
    "             label=f\"{n_est} estimators\")\n",
    "\n",
    "ax1.set_title(\"Point rank\")\n",
    "ax1.set_xlabel(\"Rank\")\n",
    "ax1.set_ylabel(\"Data-OOB values\")\n",
    "ax1.legend()\n",
    "ax2.set_title(\"Histogram of Data-OOB values\")\n",
    "ax2.set_xlabel(\"Value\")\n",
    "ax2.legend()\n",
    "plt.plot();"
   ]
  },
  {
   "cell_type": "markdown",
   "metadata": {},
   "source": [
    "### Interpreting the variances and the long tail\n",
    "\n",
    "Besides the actual value $\\psi_i$, [ValuationResult][pydvl.value.result.ValuationResult] objects store the number of times a sample is OOB —the quantity $\\sum_{b=1}^{B} \\mathbb{1} (w_{bi}=0)$— in the `counts` attribute, and the variance of the OOB score in the `variances` attribute. We used the latter in the plot above in order to display the confidence intervals, but their interpretation varies from one valuation method to another.\n",
    "\n",
    "For Shapley-based valuation methods, the variance is that of the marginal changes in the performance of the model when trained on subsets of the data with and without a sample, evaluated on a fixed valuation dataset. But for Data-OOB, it is the variance of the performance of the ensemble of weak learners on the sample when it is OOB. Although similar in spirit, the construction is different and can be misleading. As a matter of fact, the interpretation of the vanishing variance at the tail has little to do with valuation and everything to do with our dataset.\n",
    "\n",
    "To see this, focus on fraction of then long tails with zero variance. These are samples for which the score $T(y_i, \\hat{f}_b(x_i)) = 1$ for *every* estimator $\\hat{f}_b$ not trained on them, that is: *every weak learner in the ensemble correctly classifies these samples*. As we said above, this can happen because it is likely for weak estimators to be fitted to always predict the majority (negative) class."
   ]
  },
  {
   "cell_type": "code",
   "execution_count": null,
   "metadata": {
    "ExecuteTime": {
     "end_time": "2024-11-21T13:46:02.829503Z",
     "start_time": "2024-11-21T13:46:02.821699Z"
    },
    "tags": [
     "hide-input"
    ]
   },
   "outputs": [],
   "source": [
    "v = oob_values[0]\n",
    "from_index = \\\n",
    "    np.where(np.isclose(v.variances, 0.0) & np.isclose(v.values, 1))[0][0]\n",
    "tail = values.indices[from_index:]\n",
    "print(f\"There are {len(tail)} points with value 1 and zero variance\"\n",
    "      f\" ({100 * len(tail) / len(train):.2f}% of the data).\")\n",
    "print(f\"Of these, {100 * (train.y[tail] == 0).sum() / len(tail):.2f}% \"\n",
    "      f\"are in the majority class.\")"
   ]
  },
  {
   "cell_type": "markdown",
   "metadata": {
    "slideshow": {
     "slide_type": ""
    },
    "tags": []
   },
   "source": [
    "Simply put, the ensemble is mostly good at classifying the majority class, and the variance of the OOB score for these samples is very low. This is a common issue in imbalanced datasets, and it is one of the reasons why the OOB score might not be a good metric for model performance in these cases. For us, it shows that the values reflect only poorly fit models.\n",
    "\n",
    "We test this below by ensembling a number of constant classifiers, but how does this affect our ability to use the values for data inspection, cleaning, etc.?"
   ]
  },
  {
   "cell_type": "markdown",
   "metadata": {},
   "source": [
    "### A detour to further interpret the OOB values\n",
    "\n",
    "We can verify that the OOB values in our case reflect the imbalance of the dataset by training a [BaggingClassifier](https://scikit-learn.org/stable/modules/generated/sklearn.ensemble.BaggingClassifier.html) with constant estimators. A fraction of `n_estimators` will always pick class 1, and the rest class 0. This leads to a clear jump in the value rank plot, either around 25% or 75% of them, since, as we saw above, 25% of the samples are in the positive (\"1\") class, and 75% in the negative (\"0\").\n",
    "\n",
    "We will use three different probabilities for the constant estimators to predict class 0: 0.01, 0.5, and 0.99. Again, the idea is that the OOB values will reflect the class distribution of the dataset, and we should see a clear jump in the values around 25% and 75% of the data.\n",
    "\n",
    "The code is analogous to the above when we fitted the random forest, so it is ommitted from the documentation, but we use a custom class `ConstantBinaryClassifier` to create the constant estimators."
   ]
  },
  {
   "cell_type": "code",
   "execution_count": null,
   "metadata": {
    "ExecuteTime": {
     "end_time": "2024-11-21T13:46:21.407834Z",
     "start_time": "2024-11-21T13:46:20.151630Z"
    },
    "tags": [
     "hide-input"
    ]
   },
   "outputs": [],
   "source": [
    "from sklearn.ensemble import BaggingClassifier\n",
    "from support.common import ConstantBinaryClassifier\n",
    "\n",
    "probs = [0.01, 0.5, 0.99]\n",
    "all_values = []\n",
    "for p in probs:\n",
    "    model = BaggingClassifier(ConstantBinaryClassifier(p, random_state),\n",
    "                              n_estimators=100,\n",
    "                              max_samples=1.0,\n",
    "                              random_state=random_state)\n",
    "    model.fit(train.x, train.y)\n",
    "    score = model.score(test.x, test.y)\n",
    "    print(\n",
    "            f\"Accuracy when ~{100 * p:.1f}% of estimators always predict class 0: {score:.4f}\")\n",
    "\n",
    "    valuation = DataOOBValuation(model)\n",
    "    valuation.fit(train)\n",
    "    all_values.append(valuation.values())"
   ]
  },
  {
   "cell_type": "code",
   "execution_count": null,
   "metadata": {
    "ExecuteTime": {
     "end_time": "2024-11-21T13:46:21.773680Z",
     "start_time": "2024-11-21T13:46:21.476589Z"
    },
    "tags": [
     "hide-input"
    ]
   },
   "outputs": [],
   "source": [
    "fig, ax = plt.subplots(figsize=[15, 5])\n",
    "\n",
    "for (p, values, mean_color, shade_color) in zip(probs, all_values, MEAN_COLORS,\n",
    "                                                SHADE_COLORS):\n",
    "    values.sort(key=\"value\")\n",
    "    plot_ci_values(\n",
    "            values,\n",
    "            ax=ax,\n",
    "            level=0.01,\n",
    "            mean_color=mean_color,\n",
    "            shade_color=shade_color,\n",
    "            label=f\"Data-OOB, p={p:.2f}\",\n",
    "            )\n",
    "\n",
    "ax.axvline(0.25 * len(all_values[0]), color=\"darkorange\", linestyle=\"--\",\n",
    "           label=\"25% data\")\n",
    "ax.axvline(0.75 * len(all_values[0]), color=\"darkred\", linestyle=\"--\",\n",
    "           label=\"75% data\")\n",
    "plt.ylabel(\"Data-OOB values\")\n",
    "plt.xlabel(\"Rank\")\n",
    "plt.title(f\"Model with constant estimators\")\n",
    "plt.legend();"
   ]
  },
  {
   "cell_type": "markdown",
   "metadata": {},
   "source": [
    "## A bogus (?) conclusion\n",
    "\n",
    "The conclusion of this discussion seems to be that for this imbalanced dataset and poorly performing model, the usual intuition that extreme values characterize \"easy\" or \"hard\" points might be bogus.\n",
    " \n",
    "If we discard the datapoints with the highest values, i.e. those which the ensemble of weak learners classifies correctly every time, because we believe that those are trivial in some sense (e.g. repeated) and bias the ensemble towards stricter decisions boundaries, we obtain very mild changes. The same happens when removing low-valued points. Basically, the changes in test scores could be just noise."
   ]
  },
  {
   "cell_type": "markdown",
   "metadata": {},
   "source": [
    "## Evaluating Data-OOB values with data removal\n",
    "\n",
    "We can go beyond the simple analysis above and systematically evaluate the impact of removing data points with high or low values on the model's performance. This is a common practice in the literature. We can use the [compute_removal_score][pydvl.reporting.scores.compute_removal_score] function to do it. This function takes a [ModelUtility][pydvl.valuation.ModelUtility] object, a [ValuationResult][pydvl.value.result.ValuationResult] object, and a [Dataset][pydvl.data.dataset.Dataset] object, and computes the performance of the model after removing a fraction of the data with the highest or lowest values.\n",
    "\n",
    "Recall from above that we can construct these objects as follows:\n",
    "\n",
    "```python\n",
    "model = RandomForestClassifier(n_estimators=n_est, max_samples=max_samples, random_state=seed)\n",
    "utility = ModelUtility(model, SupervisedScorer(\"accuracy\", test, 0.0), clone_before_fit=False)\n",
    "\n",
    "valuation = DataOOBValuation(model)\n",
    "valuation.fit(train)\n",
    "values = valuation.values()\n",
    "```\n",
    "\n",
    "The details are hidden in the rendered documentation, please refer to the notebook for the full code."
   ]
  },
  {
   "cell_type": "markdown",
   "metadata": {
    "tags": [
     "hide"
    ]
   },
   "source": [
    "In order to call `run_removal_experiment()` we need to define 3 types of factories:\n",
    "\n",
    "1. A factory that returns a train-test split of the data given a random state \n",
    "2. A factory that returns a utility that evaluates a model on a given test set.\n",
    "   This is used for the performance evaluation. The model need not be the same\n",
    "   as the one used for the valuation.\n",
    "4. A factory returning a valuation method. The training set is passed to the\n",
    "   factory, in case the valuation needs to train something. E.g. for Data-OOB\n",
    "   we need the bagging model to be fitted before the valuation is computed."
   ]
  },
  {
   "cell_type": "code",
   "execution_count": null,
   "metadata": {
    "ExecuteTime": {
     "end_time": "2024-11-21T18:16:26.124375Z",
     "start_time": "2024-11-21T18:16:24.695754Z"
    }
   },
   "outputs": [],
   "source": [
    "%autoreload\n",
    "from support.common import ThresholdTunerCV\n",
    "from support.removal_experiment import run_removal_experiment"
   ]
  },
  {
   "cell_type": "code",
   "execution_count": null,
   "metadata": {
    "ExecuteTime": {
     "end_time": "2024-11-21T18:16:26.416582Z",
     "start_time": "2024-11-21T18:16:26.406307Z"
    },
    "tags": [
     "hide"
    ]
   },
   "outputs": [],
   "source": [
    "from pydvl.valuation import KNNClassifierUtility, ModelUtility, SupervisedScorer\n",
    "\n",
    "from support.removal_experiment import run_removal_experiment\n",
    "from pydvl.valuation.methods.random import RandomValuation\n",
    "from pydvl.valuation.methods.data_oob import point_wise_accuracy\n",
    "\n",
    "\n",
    "def make_data(random_state: int) -> tuple[Dataset, Dataset]:\n",
    "    return load_adult_data(train_size=0.6, random_state=random_state)\n",
    "\n",
    "\n",
    "def make_utility(test: Dataset, random_state: int) -> ModelUtility:\n",
    "    classifier = RandomForestClassifier(n_estimators=50,\n",
    "                                        max_samples=0.8,\n",
    "                                        class_weight=\"balanced\",\n",
    "                                        random_state=random_state + 1)\n",
    "    model = ThresholdTunerCV(classifier,\n",
    "                             n_splits=5,\n",
    "                             metric=f1_score,\n",
    "                             n_jobs=1,\n",
    "                             random_state=random_state)\n",
    "    return ModelUtility(model, SupervisedScorer(\"accuracy\", test, 0.0))\n",
    "\n",
    "\n",
    "def make_oob(train: Dataset, random_state: int) -> DataOOBValuation:\n",
    "    classifier = RandomForestClassifier(n_estimators=50,\n",
    "                                        max_samples=0.8,\n",
    "                                        class_weight=\"balanced\",\n",
    "                                        random_state=random_state)\n",
    "    model = ThresholdTunerCV(classifier,\n",
    "                             n_splits=5,\n",
    "                             metric=f1_score,\n",
    "                             n_jobs=1,\n",
    "                             random_state=random_state)\n",
    "    model.fit(train.x, train.y)\n",
    "    return DataOOBValuation(model, point_wise_accuracy)\n",
    "\n",
    "\n",
    "def make_random(train: Dataset, random_state: int) -> RandomValuation:\n",
    "    return RandomValuation(random_state=random_state)\n",
    "\n",
    "\n",
    "removal_percentages = np.arange(0, 0.51, 0.02)"
   ]
  },
  {
   "cell_type": "code",
   "execution_count": null,
   "metadata": {
    "ExecuteTime": {
     "end_time": "2024-11-21T18:20:07.969388Z",
     "start_time": "2024-11-21T18:16:28.143579Z"
    },
    "tags": [
     "hide"
    ]
   },
   "outputs": [],
   "source": [
    "low_scores_df, high_scores_df = \\\n",
    "    run_removal_experiment(\n",
    "            data_factory=make_data,\n",
    "            valuation_factories=[make_random, make_oob],\n",
    "            utility_factory=make_utility,  # for evaluation\n",
    "            removal_percentages=removal_percentages,\n",
    "            n_runs=10,\n",
    "            n_jobs=30,\n",
    "            random_state=random_state)"
   ]
  },
  {
   "cell_type": "code",
   "execution_count": null,
   "metadata": {
    "ExecuteTime": {
     "end_time": "2024-11-21T18:20:08.368069Z",
     "start_time": "2024-11-21T18:20:08.051785Z"
    },
    "slideshow": {
     "slide_type": ""
    },
    "tags": [
     "hide-input",
     "invertible-output"
    ]
   },
   "outputs": [],
   "source": [
    "fig, axs = plt.subplots(nrows=1, ncols=2, figsize=[15, 5])\n",
    "\n",
    "for i, scores_df in enumerate((low_scores_df, high_scores_df)):\n",
    "    for j, (method_name, df) in enumerate(scores_df.groupby(\"method_name\")):\n",
    "        plot_ci_array(\n",
    "                data=df.drop(columns=[\"method_name\"]).values,\n",
    "                level=0.05,\n",
    "                abscissa=np.round(removal_percentages, 2),\n",
    "                mean_color=MEAN_COLORS[j],\n",
    "                shade_color=SHADE_COLORS[j],\n",
    "                label=method_name,\n",
    "                ax=axs[i],\n",
    "                )\n",
    "        axs[i].legend()\n",
    "        axs[i].set_ylabel(\"Accuracy\")\n",
    "\n",
    "axs[0].set_title(\"Lowest value removal, 95% CI\")\n",
    "axs[0].set_xlabel(\"Fraction of data removed\")\n",
    "axs[1].set_title(\"Highest value removal, 95% CI\")\n",
    "axs[1].set_xlabel(\"Fraction of data removed\")\n",
    "\n",
    "plt.show();"
   ]
  },
  {
   "cell_type": "markdown",
   "metadata": {},
   "source": [
    "# FIXME: THERE'S A BUG ABOVE\n",
    "\n",
    "The accuracy curves do not start at the same value!"
   ]
  },
  {
   "cell_type": "markdown",
   "metadata": {},
   "source": [
    "## Using Data-OOB with arbitrary models\n",
    "\n",
    "Note that even though the method is designed for bagging models, in principle it can be used with any other estimator by fitting a bagging model on top of it. This can generally be quite expensive, but it might prove useful in some cases. Below is what happens when we do this with a k-nearest neighbors classifier.\n"
   ]
  },
  {
   "cell_type": "code",
   "execution_count": null,
   "metadata": {
    "ExecuteTime": {
     "end_time": "2024-11-21T22:46:03.978452Z",
     "start_time": "2024-11-21T22:39:42.943659Z"
    }
   },
   "outputs": [],
   "source": [
    "from sklearn.neighbors import KNeighborsClassifier\n",
    "\n",
    "\n",
    "# We want to use the KNN classifier as model for the utility, not the bagged model \n",
    "def make_knn_utility(test: Dataset, random_state: int) -> ModelUtility:\n",
    "    return KNNClassifierUtility(KNeighborsClassifier(n_neighbors=10), test)\n",
    "\n",
    "\n",
    "def make_oob_knn(train: Dataset, random_state: int) -> DataOOBValuation:\n",
    "    classifier = BaggingClassifier(\n",
    "            estimator=KNeighborsClassifier(n_neighbors=10),\n",
    "            max_samples=0.4,\n",
    "            n_estimators=10,\n",
    "            random_state=random_state)\n",
    "    model = ThresholdTunerCV(classifier,\n",
    "                             n_splits=5,\n",
    "                             metric=f1_score,\n",
    "                             n_jobs=1,\n",
    "                             random_state=random_state)\n",
    "    model.fit(train.x, train.y)\n",
    "    return DataOOBValuation(model, point_wise_accuracy)\n",
    "\n",
    "low_scores_df, high_scores_df = \\\n",
    "    run_removal_experiment(\n",
    "            data_factory=make_data,\n",
    "            utility_factory=make_knn_utility,\n",
    "            valuation_factories=[make_random, make_oob_knn],\n",
    "            removal_percentages=removal_percentages,\n",
    "            n_runs=20,\n",
    "            n_jobs=30)"
   ]
  },
  {
   "cell_type": "code",
   "execution_count": null,
   "metadata": {
    "ExecuteTime": {
     "end_time": "2024-11-21T22:52:42.855127Z",
     "start_time": "2024-11-21T22:52:42.545146Z"
    },
    "tags": [
     "hide-input",
     "invertible-output"
    ]
   },
   "outputs": [],
   "source": [
    "fig, axs = plt.subplots(nrows=1, ncols=2, figsize=[15, 5])\n",
    "\n",
    "for i, scores_df in enumerate((low_scores_df, high_scores_df)):\n",
    "    for j, (method_name, df) in enumerate(scores_df.groupby(\"method_name\")):\n",
    "        plot_ci_array(\n",
    "                data=df.drop(columns=[\"method_name\"]).values,\n",
    "                level=0.05,\n",
    "                abscissa=np.round(removal_percentages, 2),\n",
    "                mean_color=MEAN_COLORS[j],\n",
    "                shade_color=SHADE_COLORS[j],\n",
    "                label=method_name,\n",
    "                ax=axs[i],\n",
    "                )\n",
    "        axs[i].legend()\n",
    "        axs[i].set_ylabel(\"Accuracy\")\n",
    "\n",
    "axs[0].set_title(\"Lowest value removal, 95% CI\")\n",
    "axs[0].set_xlabel(\"Fraction of data removed\")\n",
    "axs[1].set_title(\"Highest value removal, 95% CI\")\n",
    "axs[1].set_xlabel(\"Fraction of data removed\")\n",
    "\n",
    "plt.show();"
   ]
  },
  {
   "cell_type": "markdown",
   "metadata": {},
   "source": [
    "## The impact of removing data on the three random forest models\n",
    "\n",
    "Manually removing and retraining:"
   ]
  },
  {
   "cell_type": "code",
   "execution_count": null,
   "metadata": {
    "ExecuteTime": {
     "end_time": "2024-11-21T13:11:13.175909Z",
     "start_time": "2024-11-21T13:11:13.077926Z"
    }
   },
   "outputs": [],
   "source": [
    "df = load_adult_data_raw()\n",
    "corr = df.corr(numeric_only=True)\n",
    "corr.style.background_gradient(cmap='coolwarm')"
   ]
  },
  {
   "cell_type": "code",
   "execution_count": null,
   "metadata": {
    "ExecuteTime": {
     "end_time": "2024-11-21T13:13:12.320216Z",
     "start_time": "2024-11-21T13:12:58.953700Z"
    }
   },
   "outputs": [],
   "source": [
    "train, test = load_adult_data(train_size=0.6, random_state=random_state)\n",
    "for i, values in enumerate(oob_values):\n",
    "    zero_variances = np.isclose(values.variances, 0.0)\n",
    "    to_index = \\\n",
    "        np.where(zero_variances & np.isclose(values.values, 1))[0][0]\n",
    "    from_index = \\\n",
    "        np.where(zero_variances & np.isclose(values.values, 0))[0][-1]\n",
    "    model = RandomForestClassifier(n_estimators=n_estimators[i],\n",
    "                                   max_samples=1.0,\n",
    "                                   random_state=random_state)\n",
    "    model.fit(train.x, train.y)\n",
    "    full_training_score = model.score(test.x, test.y)\n",
    "\n",
    "    model.fit(train.x[:to_index], train.y[:to_index])\n",
    "    reduced_training_score = model.score(test.x, test.y)\n",
    "    score_change = 100 * (\n",
    "            reduced_training_score - full_training_score) / full_training_score\n",
    "    fraction_of_data = 100 * to_index / len(train)\n",
    "    print(f\"Model with {n_estimators[i]} estimators:\")\n",
    "    print(f\"  Remove HIGH: Relative change in test score after training on \"\n",
    "          f\"{fraction_of_data:.2f}% of the data: {score_change:.2f}%\")\n",
    "\n",
    "    model.fit(train.x[from_index:], train.y[from_index:])\n",
    "    reduced_training_score = model.score(test.x, test.y)\n",
    "    score_change = 100 * (\n",
    "            reduced_training_score - full_training_score) / full_training_score\n",
    "    fraction_of_data = 100 * (len(train) - from_index) / len(train)\n",
    "    print(f\"  Remove LOW: Relative change in test score after training on \"\n",
    "          f\"{fraction_of_data:.2f}% of the data: {score_change:.2f}%\")"
   ]
  },
  {
   "cell_type": "markdown",
   "metadata": {},
   "source": [
    "### Removing high variance points, or training just on them\n",
    "\n",
    "=> same result"
   ]
  },
  {
   "cell_type": "code",
   "execution_count": null,
   "metadata": {
    "ExecuteTime": {
     "end_time": "2024-11-21T13:11:41.128330Z",
     "start_time": "2024-11-21T13:11:39.044280Z"
    }
   },
   "outputs": [],
   "source": [
    "variance_q95 = np.quantile(values.variances, 0.95)\n",
    "\n",
    "for i, values in enumerate(oob_values):\n",
    "    high_variance_indices = np.where(values.variances > variance_q95)[0]\n",
    "    model = RandomForestClassifier(n_estimators=n_estimators[i],\n",
    "                                   max_samples=1.0,\n",
    "                                   class_weight='balanced',\n",
    "                                   random_state=random_state)\n",
    "    model.fit(train.x, train.y)\n",
    "    full_score = model.score(test.x, test.y)\n",
    "\n",
    "    selected_x, selected_y = train.x[high_variance_indices], train.y[\n",
    "        high_variance_indices]\n",
    "    model.fit(selected_x, selected_y)\n",
    "    reduced_score = model.score(test.x, test.y)\n",
    "\n",
    "    score_change = 100 * (reduced_score - full_score) / full_score\n",
    "    fraction_of_data = 100 * len(selected_x) / len(train)\n",
    "\n",
    "    print(f\"Model with {n_estimators[i]} estimators:\")\n",
    "    print(f\"  Relative change in test score after training on \"\n",
    "          f\"{fraction_of_data:.2f}% of the data: {score_change:.2f}%\")\n",
    "\n",
    "    random_indices = np.random.choice(len(train), len(high_variance_indices),\n",
    "                                      replace=False)\n",
    "    model.fit(train.x[random_indices], train.y[random_indices])\n",
    "    random_score = model.score(test.x, test.y)\n",
    "    score_change = 100 * (random_score - full_score) / full_score\n",
    "    print(f\"  Relative change in test score after training on a random \"\n",
    "          f\"{fraction_of_data:.2f}% of the data: {score_change:.2f}%\")"
   ]
  },
  {
   "cell_type": "code",
   "execution_count": null,
   "metadata": {
    "ExecuteTime": {
     "end_time": "2024-11-20T17:49:10.832877Z",
     "start_time": "2024-11-20T17:49:10.753592Z"
    }
   },
   "outputs": [],
   "source": [
    "from sklearn.metrics import confusion_matrix\n",
    "\n",
    "model = RandomForestClassifier(n_estimators=100,\n",
    "                               max_samples=1.0,\n",
    "                               class_weight=\"balanced\")\n",
    "model.fit(train.x, train.y)\n",
    "full_score = model.score(test.x, test.y)\n",
    "confusion_matrix(test.y, model.predict(test.x), normalize='true')"
   ]
  },
  {
   "cell_type": "code",
   "execution_count": null,
   "metadata": {
    "ExecuteTime": {
     "end_time": "2024-11-20T17:52:11.207292Z",
     "start_time": "2024-11-20T17:52:10.899909Z"
    }
   },
   "outputs": [],
   "source": [
    "model.fit(train.x[high_variance_indices], train.y[high_variance_indices])\n",
    "print(f\"Using {100 * len(high_variance_indices) / len(train):.2f}% of the data\")\n",
    "confusion_matrix(test.y, model.predict(test.x), normalize='true')"
   ]
  },
  {
   "cell_type": "markdown",
   "metadata": {},
   "source": [
    "### Subsampling a random subset of the same size\n",
    "\n",
    "Yields similar accuracy (expected) but worse FNR and FPR"
   ]
  },
  {
   "cell_type": "code",
   "execution_count": null,
   "metadata": {
    "ExecuteTime": {
     "end_time": "2024-11-21T10:38:06.484426Z",
     "start_time": "2024-11-21T10:38:06.018361Z"
    }
   },
   "outputs": [],
   "source": [
    "random_indices = np.random.choice(len(train), len(high_variance_indices),\n",
    "                                  replace=False)\n",
    "model.fit(train.x[random_indices], train.y[random_indices])\n",
    "random_score = model.score(test.x, test.y)\n",
    "score_change = 100 * (random_score - full_score) / full_score\n",
    "fraction_of_data = 100 * len(random_indices) / len(train)\n",
    "print(f\"Relative change in test score after training on a random \"\n",
    "      f\"{fraction_of_data:.2f}% of the data: {score_change:.2f}%\")\n",
    "confusion_matrix(test.y, model.predict(test.x), normalize='true')"
   ]
  },
  {
   "cell_type": "markdown",
   "metadata": {},
   "source": [
    "### Calibrating the model\n",
    "\n",
    "Fails miserably:"
   ]
  },
  {
   "cell_type": "code",
   "execution_count": null,
   "metadata": {
    "ExecuteTime": {
     "end_time": "2024-11-21T09:59:41.745289Z",
     "start_time": "2024-11-21T09:59:39.757510Z"
    }
   },
   "outputs": [],
   "source": [
    "from sklearn.calibration import CalibratedClassifierCV\n",
    "\n",
    "calibrated_model = CalibratedClassifierCV(estimator=model, method='isotonic')\n",
    "calibrated_model.fit(train.x[random_indices], train.y[random_indices])\n",
    "\n",
    "fig, axs = plt.subplots(nrows=1, ncols=2, figsize=[15, 5])\n",
    "\n",
    "ConfusionMatrixDisplay.from_estimator(model, test.x, test.y,\n",
    "                                      labels=[0, 1], normalize=\"true\",\n",
    "                                      ax=axs[0])\n",
    "ConfusionMatrixDisplay.from_estimator(calibrated_model, test.x, test.y,\n",
    "                                      labels=[0, 1], normalize=\"true\",\n",
    "                                      ax=axs[1])\n",
    "\n",
    "axs[0].set_title(\"Original model\")\n",
    "axs[1].set_title(\"Calibrated model\")\n",
    "plt.show();"
   ]
  },
  {
   "cell_type": "markdown",
   "metadata": {},
   "source": [
    "### Oversampling with imblearn"
   ]
  },
  {
   "cell_type": "code",
   "execution_count": null,
   "metadata": {
    "ExecuteTime": {
     "end_time": "2024-11-21T13:23:32.967495Z",
     "start_time": "2024-11-21T13:22:49.953376Z"
    }
   },
   "outputs": [],
   "source": [
    "import matplotlib.pyplot as plt\n",
    "\n",
    "from support.common import ThresholdTunerCV, load_adult_data_raw\n",
    "\n",
    "from sklearn.model_selection import train_test_split\n",
    "from sklearn import clone\n",
    "from imblearn.over_sampling import RandomOverSampler\n",
    "from imblearn.pipeline import make_pipeline\n",
    "from sklearn.ensemble import RandomForestClassifier\n",
    "from sklearn.metrics import ConfusionMatrixDisplay, f1_score\n",
    "from sklearn.preprocessing import TargetEncoder\n",
    "\n",
    "random_state = 42\n",
    "\n",
    "df = load_adult_data_raw()\n",
    "column_names = df.columns.tolist()\n",
    "\n",
    "df[\"income\"] = df[\"income\"].cat.codes\n",
    "df.drop(columns=[\"education\"], inplace=True)  # education-num is enough\n",
    "df.dropna(inplace=True)\n",
    "column_names.remove(\"education\")\n",
    "column_names.remove(\"income\")\n",
    "\n",
    "x_train, x_test, y_train, y_test = train_test_split(\n",
    "        df.drop(columns=[\"income\"]).values,\n",
    "        df[\"income\"].values,\n",
    "        train_size=0.6,\n",
    "        random_state=random_state,\n",
    "        stratify=df[\"income\"].values,\n",
    "        )\n",
    "\n",
    "encoder = TargetEncoder(target_type=\"binary\", random_state=random_state)\n",
    "classifier = RandomForestClassifier(n_estimators=400,\n",
    "                                    max_samples=0.7,\n",
    "                                    class_weight=\"balanced\",\n",
    "                                    random_state=random_state)\n",
    "tuned_classifier = ThresholdTunerCV(classifier, n_splits=6, metric=f1_score, n_jobs=6)\n",
    "ros_sampler = RandomOverSampler(random_state=random_state)\n",
    "# smote_sampler = SMOTE(random_state=random_state)\n",
    "# adasyn_sampler = ADASYN(random_state=random_state)\n",
    "\n",
    "simple_pipeline = make_pipeline(encoder, clone(classifier))\n",
    "ros_pipeline = make_pipeline(encoder, ros_sampler, clone(classifier))\n",
    "tuned_pipeline = make_pipeline(encoder, clone(tuned_classifier))\n",
    "tuned_oversampling_pipeline = make_pipeline(encoder, ros_sampler,\n",
    "                                            clone(tuned_classifier))\n",
    "# smote_pipeline = make_pipeline(encoder, smote_sampler, clone(tuned_classifier))\n",
    "# adasyn_pipeline = make_pipeline(encoder, adasyn_sampler, clone(tuned_classifier))\n",
    "\n",
    "simple_pipeline.fit(x_train, y_train)\n",
    "full_score = simple_pipeline.score(x_test, y_test)\n",
    "print(f\"Accuracy with no oversampling: {full_score:.4f}\")\n",
    "\n",
    "ros_pipeline.fit(x_train, y_train)\n",
    "full_score = ros_pipeline.score(x_test, y_test)\n",
    "print(f\"Accuracy with random oversampling: {full_score:.4f}\")\n",
    "\n",
    "tuned_pipeline.fit(x_train, y_train)\n",
    "full_score = tuned_pipeline.score(x_test, y_test)\n",
    "print(f\"Accuracy with tuned threshold: {full_score:.4f}\")\n",
    "\n",
    "tuned_oversampling_pipeline.fit(x_train, y_train)\n",
    "full_score = tuned_oversampling_pipeline.score(x_test, y_test)\n",
    "print(f\"Accuracy with tuned threshold and ROS: {full_score:.4f}\")\n",
    "\n",
    "# smote_pipeline.fit(x_train, y_train)\n",
    "# full_score = smote_pipeline.score(x_test, y_test)\n",
    "# print(f\"Accuracy with SMOTE: {full_score:.4f}\")\n",
    "# \n",
    "# adasyn_pipeline.fit(x_train, y_train)\n",
    "# full_score = adasyn_pipeline.score(x_test, y_test)\n",
    "# print(f\"Accuracy with ADASYN: {full_score:.4f}\")\n"
   ]
  },
  {
   "cell_type": "code",
   "execution_count": null,
   "metadata": {
    "ExecuteTime": {
     "end_time": "2024-11-21T13:23:40.729686Z",
     "start_time": "2024-11-21T13:23:37.804993Z"
    }
   },
   "outputs": [],
   "source": [
    "# Sanity check: did we fit the training set well?\n",
    "(simple_pipeline.score(x_train, y_train),\n",
    " ros_pipeline.score(x_train, y_train),\n",
    " tuned_pipeline.score(x_train, y_train),\n",
    " tuned_oversampling_pipeline.score(x_train, y_train))"
   ]
  },
  {
   "cell_type": "code",
   "execution_count": null,
   "metadata": {
    "ExecuteTime": {
     "end_time": "2024-11-21T13:24:13.731707Z",
     "start_time": "2024-11-21T13:24:10.961185Z"
    }
   },
   "outputs": [],
   "source": [
    "fig, axs = plt.subplots(nrows=2, ncols=2, figsize=[12, 12])\n",
    "\n",
    "ConfusionMatrixDisplay.from_estimator(simple_pipeline, x_test, y_test,\n",
    "                                      labels=[0, 1], normalize=\"true\",\n",
    "                                      ax=axs[0][0])\n",
    "ConfusionMatrixDisplay.from_estimator(ros_pipeline, x_test, y_test,\n",
    "                                      labels=[0, 1], normalize=\"true\",\n",
    "                                      ax=axs[0][1])\n",
    "ConfusionMatrixDisplay.from_estimator(tuned_pipeline, x_test, y_test,\n",
    "                                      labels=[0, 1], normalize=\"true\",\n",
    "                                      ax=axs[1][0])\n",
    "ConfusionMatrixDisplay.from_estimator(tuned_oversampling_pipeline, x_test,\n",
    "                                      y_test,\n",
    "                                      labels=[0, 1], normalize=\"true\",\n",
    "                                      ax=axs[1][1])\n",
    "\n",
    "axs[0][0].set_title(\"No oversampling\")\n",
    "axs[0][1].set_title(\"ROS\")\n",
    "axs[1][0].set_title(\"Tuned threshold\")\n",
    "axs[1][1].set_title(\"Tuned threshold with ROS\")\n",
    "plt.show();"
   ]
  },
  {
   "cell_type": "code",
   "execution_count": null,
   "metadata": {
    "ExecuteTime": {
     "end_time": "2024-11-21T12:25:06.580020Z",
     "start_time": "2024-11-21T12:25:05.940483Z"
    }
   },
   "outputs": [],
   "source": [
    "import numpy as np\n",
    "from sklearn.metrics import precision_recall_curve\n",
    "\n",
    "y_proba = ros_pipeline.predict_proba(x_test)[:, 1]\n",
    "\n",
    "precision, recall, thresholds = precision_recall_curve(y_test, y_proba)\n",
    "f_score = 2 * precision * recall / (precision + recall)\n",
    "optimal_index = np.argmax(f_score)\n",
    "chosen_threshold = thresholds[optimal_index]\n",
    "y_pred = (y_proba >= chosen_threshold).astype(int)\n",
    "print(\n",
    "        f\"Accuracy at chosen threshold {chosen_threshold:.2f}: {np.mean(y_pred == y_test):.4f}\")\n",
    "ConfusionMatrixDisplay.from_predictions(y_test, y_pred, labels=[0, 1],\n",
    "                                        normalize=\"true\");"
   ]
  },
  {
   "cell_type": "code",
   "execution_count": null,
   "metadata": {
    "ExecuteTime": {
     "end_time": "2024-11-21T12:25:06.859513Z",
     "start_time": "2024-11-21T12:25:06.854556Z"
    }
   },
   "outputs": [],
   "source": []
  },
  {
   "cell_type": "code",
   "execution_count": null,
   "metadata": {},
   "outputs": [],
   "source": []
  }
 ],
 "metadata": {
  "celltoolbar": "Edit Metadata",
  "kernelspec": {
   "display_name": "Python 3 (ipykernel)",
   "language": "python",
   "name": "python3"
  },
  "language_info": {
   "codemirror_mode": {
    "name": "ipython",
    "version": 3
   },
   "file_extension": ".py",
   "mimetype": "text/x-python",
   "name": "python",
   "nbconvert_exporter": "python",
   "pygments_lexer": "ipython3",
   "version": "3.10.12"
  },
  "vscode": {
   "interpreter": {
    "hash": "4e000971326892723e7f31ded70802f690c31c3620f59a0f99e594aaee3047ef"
   }
  }
 },
 "nbformat": 4,
 "nbformat_minor": 4
}
