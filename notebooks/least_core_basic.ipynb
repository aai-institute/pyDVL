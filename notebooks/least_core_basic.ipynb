{
 "cells": [
  {
   "cell_type": "markdown",
   "id": "995d4271",
   "metadata": {},
   "source": [
    "# Least Core for Data Valuation\n",
    "\n",
    "This notebook introduces Least Core methods for the computation of data value using pyDVL.\n",
    "\n",
    "The Least Core is the solution to the following linear programming problem:\n",
    "\n",
    "$$\n",
    "\\begin{array}{lll}\n",
    "\\text{minimize} & \\displaystyle{e} & \\\\\n",
    "\\text{subject to} & \\displaystyle\\sum_{i\\in N} x_{i} = v(N) & \\\\\n",
    "& \\displaystyle\\sum_{i\\in S} x_{i} + e \\geq v(S) &, \\forall S \\subseteq N \\\\\n",
    "\\end{array}\n",
    "$$\n",
    "\n",
    "Its use for Data Valuation was first desribed in the paper [*If You Like Shapley Then You’ll Love the Core*](https://ojs.aaai.org/index.php/AAAI/article/view/16721) by Tom Yan and Ariel D. Procaccia.\n",
    "\n",
    "To illustrate this method we will use a synthetic dataset generated from a 50-dimensional Gaussian, just like in the paper."
   ]
  },
  {
   "cell_type": "markdown",
   "id": "aa21e5d1",
   "metadata": {},
   "source": [
    "## Setup\n",
    "\n",
    "We begin by importing the main libraries and setting some defaults.\n",
    "\n",
    "<div class=\"alert alert-info\">\n",
    "If you are reading this in the documentation, some boilerplate has been omitted for convenience.\n",
    "</div>"
   ]
  },
  {
   "cell_type": "code",
   "execution_count": 1,
   "id": "f6656599",
   "metadata": {},
   "outputs": [],
   "source": [
    "%load_ext autoreload"
   ]
  },
  {
   "cell_type": "code",
   "execution_count": 178,
   "id": "08ee61fd",
   "metadata": {},
   "outputs": [],
   "source": [
    "%autoreload\n",
    "%matplotlib inline\n",
    "\n",
    "import os\n",
    "import random\n",
    "\n",
    "import matplotlib.pyplot as plt\n",
    "import numpy as np\n",
    "import pandas as pd\n",
    "from sklearn.datasets import make_classification\n",
    "from sklearn.linear_model import LogisticRegression\n",
    "from sklearn.metrics import mean_squared_error\n",
    "from sklearn.model_selection import train_test_split\n",
    "\n",
    "plt.rcParams[\"figure.figsize\"] = (20, 6)\n",
    "plt.rcParams[\"font.size\"] = 12\n",
    "plt.rcParams[\"xtick.labelsize\"] = 12\n",
    "plt.rcParams[\"ytick.labelsize\"] = 10\n",
    "\n",
    "random_state = 16\n",
    "\n",
    "is_CI = os.environ.get(\"CI\")\n",
    "enable_cache = not is_CI\n",
    "train_size = 200 if not is_CI else 10\n",
    "\n",
    "random.seed(random_state)"
   ]
  },
  {
   "cell_type": "markdown",
   "id": "ea11d1ff",
   "metadata": {},
   "source": [
    "We will be using the following functions and classes from pyDVL."
   ]
  },
  {
   "cell_type": "code",
   "execution_count": 166,
   "id": "3155c98e",
   "metadata": {},
   "outputs": [],
   "source": [
    "%autoreload\n",
    "from pydvl.utils import (\n",
    "    Dataset,\n",
    "    Utility,\n",
    ")\n",
    "from pydvl.least_core import exact_least_core, montecarlo_least_core"
   ]
  },
  {
   "cell_type": "markdown",
   "id": "1e7d81aa",
   "metadata": {},
   "source": [
    "## Dataset"
   ]
  },
  {
   "cell_type": "code",
   "execution_count": 4,
   "id": "16d6c479",
   "metadata": {},
   "outputs": [],
   "source": [
    "X, y = make_classification(\n",
    "    n_samples=train_size * 2,\n",
    "    n_features=50,\n",
    "    n_informative=30,\n",
    "    n_classes=3,\n",
    "    random_state=random_state,\n",
    ")\n",
    "\n",
    "x_train, x_test, y_train, y_test = train_test_split(\n",
    "    X,\n",
    "    y,\n",
    "    train_size=train_size,\n",
    "    random_state=random_state,\n",
    ")\n",
    "\n",
    "full_dataset = Dataset(x_train, y_train, x_test, y_test)\n",
    "small_dataset = Dataset(x_train[:10], y_train[:10], x_test, y_test)"
   ]
  },
  {
   "cell_type": "code",
   "execution_count": 28,
   "id": "ffce8661",
   "metadata": {},
   "outputs": [],
   "source": [
    "model = LogisticRegression(max_iter=500, solver=\"liblinear\")"
   ]
  },
  {
   "cell_type": "code",
   "execution_count": 29,
   "id": "46c2f447",
   "metadata": {},
   "outputs": [
    {
     "name": "stdout",
     "output_type": "stream",
     "text": [
      "Training accuracy: 87.50%\n",
      "Testing accuracy: 62.50%\n"
     ]
    }
   ],
   "source": [
    "model.fit(full_dataset.x_train, full_dataset.y_train)\n",
    "print(\n",
    "    f\"Training accuracy: {100 * model.score(full_dataset.x_train, full_dataset.y_train):0.2f}%\"\n",
    ")\n",
    "print(\n",
    "    f\"Testing accuracy: {100 * model.score(full_dataset.x_test, full_dataset.y_test):0.2f}%\"\n",
    ")"
   ]
  },
  {
   "cell_type": "code",
   "execution_count": 30,
   "id": "e539e5ed",
   "metadata": {},
   "outputs": [
    {
     "name": "stdout",
     "output_type": "stream",
     "text": [
      "Training accuracy: 100.00%\n",
      "Testing accuracy: 47.00%\n"
     ]
    }
   ],
   "source": [
    "model.fit(small_dataset.x_train, small_dataset.y_train)\n",
    "print(\n",
    "    f\"Training accuracy: {100 * model.score(small_dataset.x_train, small_dataset.y_train):0.2f}%\"\n",
    ")\n",
    "print(\n",
    "    f\"Testing accuracy: {100 * model.score(small_dataset.x_test, small_dataset.y_test):0.2f}%\"\n",
    ")"
   ]
  },
  {
   "cell_type": "markdown",
   "id": "92b4a2d1",
   "metadata": {},
   "source": [
    "## Estimating Exact Least Core Values\n",
    "\n",
    "In this first section we will use a smaller subset of the dataset containing 10 samples in order to be able to compute exact values in a reasonable amount of time. Afterwards, we will use the Monte Carlo method with a limited budget (maximum number of subsets) to approximate these values."
   ]
  },
  {
   "cell_type": "code",
   "execution_count": 7,
   "id": "98a22915",
   "metadata": {},
   "outputs": [],
   "source": [
    "utility = Utility(model=model, data=small_dataset, enable_cache=False)"
   ]
  },
  {
   "cell_type": "code",
   "execution_count": 15,
   "id": "aa91a124",
   "metadata": {},
   "outputs": [
    {
     "data": {
      "application/vnd.jupyter.widget-view+json": {
       "model_id": "d2ddb491392e434fbf6895d6f1ee336f",
       "version_major": 2,
       "version_minor": 0
      },
      "text/plain": [
       "  0%|          | 0/1023 [00:00<?, ?it/s]"
      ]
     },
     "metadata": {},
     "output_type": "display_data"
    },
    {
     "data": {
      "text/html": [
       "<div>\n",
       "<style scoped>\n",
       "    .dataframe tbody tr th:only-of-type {\n",
       "        vertical-align: middle;\n",
       "    }\n",
       "\n",
       "    .dataframe tbody tr th {\n",
       "        vertical-align: top;\n",
       "    }\n",
       "\n",
       "    .dataframe thead th {\n",
       "        text-align: right;\n",
       "    }\n",
       "</style>\n",
       "<table border=\"1\" class=\"dataframe\">\n",
       "  <thead>\n",
       "    <tr style=\"text-align: right;\">\n",
       "      <th></th>\n",
       "      <th>0</th>\n",
       "      <th>1</th>\n",
       "      <th>2</th>\n",
       "      <th>3</th>\n",
       "      <th>4</th>\n",
       "      <th>5</th>\n",
       "      <th>6</th>\n",
       "      <th>7</th>\n",
       "      <th>8</th>\n",
       "      <th>9</th>\n",
       "    </tr>\n",
       "  </thead>\n",
       "  <tbody>\n",
       "    <tr>\n",
       "      <th>0</th>\n",
       "      <td>0.110833</td>\n",
       "      <td>-0.005</td>\n",
       "      <td>0.01</td>\n",
       "      <td>0.0275</td>\n",
       "      <td>0.0325</td>\n",
       "      <td>0.100833</td>\n",
       "      <td>0.0275</td>\n",
       "      <td>0.113333</td>\n",
       "      <td>0.015</td>\n",
       "      <td>0.0375</td>\n",
       "    </tr>\n",
       "  </tbody>\n",
       "</table>\n",
       "</div>"
      ],
      "text/plain": [
       "          0      1     2       3       4         5       6         7      8  \\\n",
       "0  0.110833 -0.005  0.01  0.0275  0.0325  0.100833  0.0275  0.113333  0.015   \n",
       "\n",
       "        9  \n",
       "0  0.0375  "
      ]
     },
     "execution_count": 15,
     "metadata": {},
     "output_type": "execute_result"
    }
   ],
   "source": [
    "exact_values = exact_least_core(u=utility, progress=True)\n",
    "exact_values_df = pd.DataFrame([exact_values.values()], columns=exact_values.keys())\n",
    "exact_values_df = exact_values_df[sorted(exact_values_df.columns)]"
   ]
  },
  {
   "cell_type": "code",
   "execution_count": 175,
   "id": "af3f7c04",
   "metadata": {},
   "outputs": [
    {
     "data": {
      "image/png": "[encoded data removed]",
      "text/plain": [
       "<Figure size 2000x600 with 1 Axes>"
      ]
     },
     "metadata": {},
     "output_type": "display_data"
    }
   ],
   "source": [
    "exact_values_df.T.plot.bar(xlabel=\"Index\", ylabel=\"Value\", color=[\"dodgerblue\"])\n",
    "plt.legend([]);"
   ]
  },
  {
   "cell_type": "code",
   "execution_count": 185,
   "id": "1091849a",
   "metadata": {},
   "outputs": [],
   "source": [
    "budget_array = np.linspace(200, 2 ** (len(small_dataset) - 1), num=10, dtype=int)\n",
    "\n",
    "all_estimated_values_df = []\n",
    "\n",
    "for budget in budget_array:\n",
    "    dfs = []\n",
    "    for i in range(50):\n",
    "        estimated_values = montecarlo_least_core(\n",
    "            u=utility, max_iterations=budget, progress=False\n",
    "        )\n",
    "        df = pd.DataFrame([estimated_values.values()], columns=estimated_values.keys())\n",
    "        df = df[sorted(df.columns)]\n",
    "        df[\"budget\"] = budget\n",
    "        dfs.append(df)\n",
    "    estimated_values_df = pd.concat(dfs)\n",
    "    all_estimated_values_df.append(estimated_values_df)\n",
    "\n",
    "values_df = pd.concat(all_estimated_values_df)"
   ]
  },
  {
   "cell_type": "code",
   "execution_count": 192,
   "id": "5482a32f",
   "metadata": {},
   "outputs": [],
   "source": [
    "errors_df = values_df.groupby(\"budget\", group_keys=True).apply(\n",
    "    lambda x: x.drop(columns=[\"budget\"]).apply(\n",
    "        lambda k: mean_squared_error(exact_values_df.T, k), axis=1\n",
    "    )\n",
    ")\n",
    "mean_errors_df = errors_df.mean(axis=1)\n",
    "std_errors_df = errors_df.std(axis=1)"
   ]
  },
  {
   "cell_type": "code",
   "execution_count": 193,
   "id": "279e04b4",
   "metadata": {},
   "outputs": [
    {
     "data": {
      "text/html": [
       "<div>\n",
       "<style scoped>\n",
       "    .dataframe tbody tr th:only-of-type {\n",
       "        vertical-align: middle;\n",
       "    }\n",
       "\n",
       "    .dataframe tbody tr th {\n",
       "        vertical-align: top;\n",
       "    }\n",
       "\n",
       "    .dataframe thead th {\n",
       "        text-align: right;\n",
       "    }\n",
       "</style>\n",
       "<table border=\"1\" class=\"dataframe\">\n",
       "  <thead>\n",
       "    <tr style=\"text-align: right;\">\n",
       "      <th></th>\n",
       "      <th>0</th>\n",
       "      <th>0</th>\n",
       "      <th>0</th>\n",
       "      <th>0</th>\n",
       "      <th>0</th>\n",
       "      <th>0</th>\n",
       "      <th>0</th>\n",
       "      <th>0</th>\n",
       "      <th>0</th>\n",
       "      <th>0</th>\n",
       "      <th>...</th>\n",
       "      <th>0</th>\n",
       "      <th>0</th>\n",
       "      <th>0</th>\n",
       "      <th>0</th>\n",
       "      <th>0</th>\n",
       "      <th>0</th>\n",
       "      <th>0</th>\n",
       "      <th>0</th>\n",
       "      <th>0</th>\n",
       "      <th>0</th>\n",
       "    </tr>\n",
       "    <tr>\n",
       "      <th>budget</th>\n",
       "      <th></th>\n",
       "      <th></th>\n",
       "      <th></th>\n",
       "      <th></th>\n",
       "      <th></th>\n",
       "      <th></th>\n",
       "      <th></th>\n",
       "      <th></th>\n",
       "      <th></th>\n",
       "      <th></th>\n",
       "      <th></th>\n",
       "      <th></th>\n",
       "      <th></th>\n",
       "      <th></th>\n",
       "      <th></th>\n",
       "      <th></th>\n",
       "      <th></th>\n",
       "      <th></th>\n",
       "      <th></th>\n",
       "      <th></th>\n",
       "      <th></th>\n",
       "    </tr>\n",
       "  </thead>\n",
       "  <tbody>\n",
       "    <tr>\n",
       "      <th>200</th>\n",
       "      <td>0.001990</td>\n",
       "      <td>0.000725</td>\n",
       "      <td>0.000370</td>\n",
       "      <td>0.001254</td>\n",
       "      <td>0.000105</td>\n",
       "      <td>0.000348</td>\n",
       "      <td>0.000314</td>\n",
       "      <td>0.000273</td>\n",
       "      <td>0.000120</td>\n",
       "      <td>0.000110</td>\n",
       "      <td>...</td>\n",
       "      <td>0.000219</td>\n",
       "      <td>0.000281</td>\n",
       "      <td>0.000252</td>\n",
       "      <td>0.000083</td>\n",
       "      <td>0.000367</td>\n",
       "      <td>0.000555</td>\n",
       "      <td>0.000172</td>\n",
       "      <td>0.000377</td>\n",
       "      <td>0.000140</td>\n",
       "      <td>0.000159</td>\n",
       "    </tr>\n",
       "    <tr>\n",
       "      <th>234</th>\n",
       "      <td>0.000139</td>\n",
       "      <td>0.000252</td>\n",
       "      <td>0.000113</td>\n",
       "      <td>0.000233</td>\n",
       "      <td>0.000334</td>\n",
       "      <td>0.000161</td>\n",
       "      <td>0.000049</td>\n",
       "      <td>0.000348</td>\n",
       "      <td>0.000436</td>\n",
       "      <td>0.000356</td>\n",
       "      <td>...</td>\n",
       "      <td>0.000424</td>\n",
       "      <td>0.000115</td>\n",
       "      <td>0.000176</td>\n",
       "      <td>0.000155</td>\n",
       "      <td>0.000101</td>\n",
       "      <td>0.000268</td>\n",
       "      <td>0.000151</td>\n",
       "      <td>0.000270</td>\n",
       "      <td>0.000393</td>\n",
       "      <td>0.000350</td>\n",
       "    </tr>\n",
       "    <tr>\n",
       "      <th>269</th>\n",
       "      <td>0.000175</td>\n",
       "      <td>0.000376</td>\n",
       "      <td>0.000113</td>\n",
       "      <td>0.000129</td>\n",
       "      <td>0.000374</td>\n",
       "      <td>0.000147</td>\n",
       "      <td>0.000429</td>\n",
       "      <td>0.000307</td>\n",
       "      <td>0.000784</td>\n",
       "      <td>0.000343</td>\n",
       "      <td>...</td>\n",
       "      <td>0.000323</td>\n",
       "      <td>0.000233</td>\n",
       "      <td>0.000183</td>\n",
       "      <td>0.000410</td>\n",
       "      <td>0.000200</td>\n",
       "      <td>0.000320</td>\n",
       "      <td>0.000370</td>\n",
       "      <td>0.000497</td>\n",
       "      <td>0.000064</td>\n",
       "      <td>0.000352</td>\n",
       "    </tr>\n",
       "    <tr>\n",
       "      <th>304</th>\n",
       "      <td>0.000402</td>\n",
       "      <td>0.000664</td>\n",
       "      <td>0.000498</td>\n",
       "      <td>0.000335</td>\n",
       "      <td>0.000201</td>\n",
       "      <td>0.000162</td>\n",
       "      <td>0.000615</td>\n",
       "      <td>0.000109</td>\n",
       "      <td>0.000172</td>\n",
       "      <td>0.000277</td>\n",
       "      <td>...</td>\n",
       "      <td>0.000170</td>\n",
       "      <td>0.000474</td>\n",
       "      <td>0.000181</td>\n",
       "      <td>0.000421</td>\n",
       "      <td>0.000373</td>\n",
       "      <td>0.000207</td>\n",
       "      <td>0.000077</td>\n",
       "      <td>0.000222</td>\n",
       "      <td>0.000222</td>\n",
       "      <td>0.000159</td>\n",
       "    </tr>\n",
       "    <tr>\n",
       "      <th>338</th>\n",
       "      <td>0.001469</td>\n",
       "      <td>0.000182</td>\n",
       "      <td>0.000502</td>\n",
       "      <td>0.000317</td>\n",
       "      <td>0.000197</td>\n",
       "      <td>0.000284</td>\n",
       "      <td>0.000448</td>\n",
       "      <td>0.000142</td>\n",
       "      <td>0.000867</td>\n",
       "      <td>0.000143</td>\n",
       "      <td>...</td>\n",
       "      <td>0.000075</td>\n",
       "      <td>0.000196</td>\n",
       "      <td>0.000131</td>\n",
       "      <td>0.000109</td>\n",
       "      <td>0.000648</td>\n",
       "      <td>0.000168</td>\n",
       "      <td>0.000253</td>\n",
       "      <td>0.000351</td>\n",
       "      <td>0.000371</td>\n",
       "      <td>0.000102</td>\n",
       "    </tr>\n",
       "    <tr>\n",
       "      <th>373</th>\n",
       "      <td>0.000207</td>\n",
       "      <td>0.000161</td>\n",
       "      <td>0.000085</td>\n",
       "      <td>0.000108</td>\n",
       "      <td>0.000181</td>\n",
       "      <td>0.000178</td>\n",
       "      <td>0.000612</td>\n",
       "      <td>0.000558</td>\n",
       "      <td>0.000268</td>\n",
       "      <td>0.000066</td>\n",
       "      <td>...</td>\n",
       "      <td>0.000282</td>\n",
       "      <td>0.000095</td>\n",
       "      <td>0.000228</td>\n",
       "      <td>0.000206</td>\n",
       "      <td>0.000086</td>\n",
       "      <td>0.000174</td>\n",
       "      <td>0.000737</td>\n",
       "      <td>0.000246</td>\n",
       "      <td>0.000113</td>\n",
       "      <td>0.000159</td>\n",
       "    </tr>\n",
       "    <tr>\n",
       "      <th>408</th>\n",
       "      <td>0.000095</td>\n",
       "      <td>0.000103</td>\n",
       "      <td>0.000254</td>\n",
       "      <td>0.000108</td>\n",
       "      <td>0.000195</td>\n",
       "      <td>0.000056</td>\n",
       "      <td>0.000088</td>\n",
       "      <td>0.000190</td>\n",
       "      <td>0.000065</td>\n",
       "      <td>0.000186</td>\n",
       "      <td>...</td>\n",
       "      <td>0.000547</td>\n",
       "      <td>0.000439</td>\n",
       "      <td>0.000182</td>\n",
       "      <td>0.000113</td>\n",
       "      <td>0.000127</td>\n",
       "      <td>0.000106</td>\n",
       "      <td>0.000453</td>\n",
       "      <td>0.000176</td>\n",
       "      <td>0.000094</td>\n",
       "      <td>0.000942</td>\n",
       "    </tr>\n",
       "    <tr>\n",
       "      <th>442</th>\n",
       "      <td>0.000162</td>\n",
       "      <td>0.000559</td>\n",
       "      <td>0.000038</td>\n",
       "      <td>0.000056</td>\n",
       "      <td>0.000241</td>\n",
       "      <td>0.000105</td>\n",
       "      <td>0.000769</td>\n",
       "      <td>0.000084</td>\n",
       "      <td>0.000152</td>\n",
       "      <td>0.000088</td>\n",
       "      <td>...</td>\n",
       "      <td>0.000211</td>\n",
       "      <td>0.000451</td>\n",
       "      <td>0.000162</td>\n",
       "      <td>0.000009</td>\n",
       "      <td>0.000105</td>\n",
       "      <td>0.000055</td>\n",
       "      <td>0.000174</td>\n",
       "      <td>0.000324</td>\n",
       "      <td>0.000242</td>\n",
       "      <td>0.000286</td>\n",
       "    </tr>\n",
       "    <tr>\n",
       "      <th>477</th>\n",
       "      <td>0.000036</td>\n",
       "      <td>0.000062</td>\n",
       "      <td>0.000134</td>\n",
       "      <td>0.000292</td>\n",
       "      <td>0.000190</td>\n",
       "      <td>0.000181</td>\n",
       "      <td>0.000139</td>\n",
       "      <td>0.000071</td>\n",
       "      <td>0.000117</td>\n",
       "      <td>0.000133</td>\n",
       "      <td>...</td>\n",
       "      <td>0.000077</td>\n",
       "      <td>0.000086</td>\n",
       "      <td>0.000265</td>\n",
       "      <td>0.000104</td>\n",
       "      <td>0.000041</td>\n",
       "      <td>0.000151</td>\n",
       "      <td>0.000211</td>\n",
       "      <td>0.000066</td>\n",
       "      <td>0.000175</td>\n",
       "      <td>0.000164</td>\n",
       "    </tr>\n",
       "    <tr>\n",
       "      <th>512</th>\n",
       "      <td>0.000226</td>\n",
       "      <td>0.000286</td>\n",
       "      <td>0.000246</td>\n",
       "      <td>0.000218</td>\n",
       "      <td>0.000235</td>\n",
       "      <td>0.000122</td>\n",
       "      <td>0.000064</td>\n",
       "      <td>0.000242</td>\n",
       "      <td>0.000209</td>\n",
       "      <td>0.000087</td>\n",
       "      <td>...</td>\n",
       "      <td>0.000136</td>\n",
       "      <td>0.000060</td>\n",
       "      <td>0.000327</td>\n",
       "      <td>0.000171</td>\n",
       "      <td>0.000180</td>\n",
       "      <td>0.000086</td>\n",
       "      <td>0.000099</td>\n",
       "      <td>0.000059</td>\n",
       "      <td>0.000328</td>\n",
       "      <td>0.000075</td>\n",
       "    </tr>\n",
       "  </tbody>\n",
       "</table>\n",
       "<p>10 rows × 50 columns</p>\n",
       "</div>"
      ],
      "text/plain": [
       "               0         0         0         0         0         0         0  \\\n",
       "budget                                                                         \n",
       "200     0.001990  0.000725  0.000370  0.001254  0.000105  0.000348  0.000314   \n",
       "234     0.000139  0.000252  0.000113  0.000233  0.000334  0.000161  0.000049   \n",
       "269     0.000175  0.000376  0.000113  0.000129  0.000374  0.000147  0.000429   \n",
       "304     0.000402  0.000664  0.000498  0.000335  0.000201  0.000162  0.000615   \n",
       "338     0.001469  0.000182  0.000502  0.000317  0.000197  0.000284  0.000448   \n",
       "373     0.000207  0.000161  0.000085  0.000108  0.000181  0.000178  0.000612   \n",
       "408     0.000095  0.000103  0.000254  0.000108  0.000195  0.000056  0.000088   \n",
       "442     0.000162  0.000559  0.000038  0.000056  0.000241  0.000105  0.000769   \n",
       "477     0.000036  0.000062  0.000134  0.000292  0.000190  0.000181  0.000139   \n",
       "512     0.000226  0.000286  0.000246  0.000218  0.000235  0.000122  0.000064   \n",
       "\n",
       "               0         0         0  ...         0         0         0  \\\n",
       "budget                                ...                                 \n",
       "200     0.000273  0.000120  0.000110  ...  0.000219  0.000281  0.000252   \n",
       "234     0.000348  0.000436  0.000356  ...  0.000424  0.000115  0.000176   \n",
       "269     0.000307  0.000784  0.000343  ...  0.000323  0.000233  0.000183   \n",
       "304     0.000109  0.000172  0.000277  ...  0.000170  0.000474  0.000181   \n",
       "338     0.000142  0.000867  0.000143  ...  0.000075  0.000196  0.000131   \n",
       "373     0.000558  0.000268  0.000066  ...  0.000282  0.000095  0.000228   \n",
       "408     0.000190  0.000065  0.000186  ...  0.000547  0.000439  0.000182   \n",
       "442     0.000084  0.000152  0.000088  ...  0.000211  0.000451  0.000162   \n",
       "477     0.000071  0.000117  0.000133  ...  0.000077  0.000086  0.000265   \n",
       "512     0.000242  0.000209  0.000087  ...  0.000136  0.000060  0.000327   \n",
       "\n",
       "               0         0         0         0         0         0         0  \n",
       "budget                                                                        \n",
       "200     0.000083  0.000367  0.000555  0.000172  0.000377  0.000140  0.000159  \n",
       "234     0.000155  0.000101  0.000268  0.000151  0.000270  0.000393  0.000350  \n",
       "269     0.000410  0.000200  0.000320  0.000370  0.000497  0.000064  0.000352  \n",
       "304     0.000421  0.000373  0.000207  0.000077  0.000222  0.000222  0.000159  \n",
       "338     0.000109  0.000648  0.000168  0.000253  0.000351  0.000371  0.000102  \n",
       "373     0.000206  0.000086  0.000174  0.000737  0.000246  0.000113  0.000159  \n",
       "408     0.000113  0.000127  0.000106  0.000453  0.000176  0.000094  0.000942  \n",
       "442     0.000009  0.000105  0.000055  0.000174  0.000324  0.000242  0.000286  \n",
       "477     0.000104  0.000041  0.000151  0.000211  0.000066  0.000175  0.000164  \n",
       "512     0.000171  0.000180  0.000086  0.000099  0.000059  0.000328  0.000075  \n",
       "\n",
       "[10 rows x 50 columns]"
      ]
     },
     "execution_count": 193,
     "metadata": {},
     "output_type": "execute_result"
    }
   ],
   "source": [
    "errors_df"
   ]
  },
  {
   "cell_type": "code",
   "execution_count": 190,
   "id": "866ff5ae",
   "metadata": {},
   "outputs": [],
   "source": [
    "from pydvl.reporting.plots import shaded_mean_std"
   ]
  },
  {
   "cell_type": "code",
   "execution_count": 195,
   "id": "306cd60f",
   "metadata": {},
   "outputs": [
    {
     "data": {
      "image/png": "[encoded data removed]",
      "text/plain": [
       "<Figure size 2000x600 with 1 Axes>"
      ]
     },
     "metadata": {},
     "output_type": "display_data"
    }
   ],
   "source": [
    "ax = shaded_mean_std(\n",
    "    errors_df.transpose(),\n",
    "    abscissa=errors_df.index,\n",
    "    num_std=1,\n",
    "    xlabel=\"Budget\",\n",
    "    ylabel=\"$l_2$ Error\",\n",
    "    label=\"Estimated values\",\n",
    "    title=\"$l_2$ approximation error of values as a function of the budget\",\n",
    ")"
   ]
  },
  {
   "cell_type": "markdown",
   "id": "d72b3a0f",
   "metadata": {},
   "source": [
    "We can see that increasing the budget does not necessarily mean that the error will decrease. This is due to the fact that we sample the subsets randomly in the Monte Carlo method and that there may be repeated subsets. "
   ]
  },
  {
   "cell_type": "code",
   "execution_count": 196,
   "id": "43b43e52",
   "metadata": {},
   "outputs": [],
   "source": [
    "best_budget = mean_errors_df.index[mean_errors_df.argmin()]\n",
    "best_iteration_df = (\n",
    "    values_df[values_df[\"budget\"] == best_budget].drop(columns=[\"budget\"]).sample(1)\n",
    ")"
   ]
  },
  {
   "cell_type": "code",
   "execution_count": 197,
   "id": "26ae5cf0",
   "metadata": {},
   "outputs": [
    {
     "data": {
      "image/png": "[encoded data removed]",
      "text/plain": [
       "<Figure size 2000x600 with 1 Axes>"
      ]
     },
     "metadata": {},
     "output_type": "display_data"
    }
   ],
   "source": [
    "pd.concat([exact_values_df, best_iteration_df]).T.plot.bar(\n",
    "    title=\"Comparison of Exact and Monte Carlo Methods\",\n",
    "    xlabel=\"Index\",\n",
    "    ylabel=\"Value\",\n",
    "    color=[\"dodgerblue\", \"indianred\"],\n",
    ")\n",
    "plt.legend([\"Exact\", \"Monte Carlo\"]);"
   ]
  },
  {
   "cell_type": "markdown",
   "id": "886ea343",
   "metadata": {},
   "source": [
    "## Data Removal"
   ]
  },
  {
   "cell_type": "code",
   "execution_count": 198,
   "id": "019b6c45",
   "metadata": {},
   "outputs": [],
   "source": [
    "utility = Utility(model=model, data=full_dataset, enable_cache=False)"
   ]
  },
  {
   "cell_type": "markdown",
   "id": "d73e30a4",
   "metadata": {},
   "source": [
    "### Remove Best"
   ]
  },
  {
   "cell_type": "code",
   "execution_count": 96,
   "id": "3c94c53d",
   "metadata": {},
   "outputs": [
    {
     "data": {
      "text/plain": [
       "array([ 5000, 10000, 25000, 50000])"
      ]
     },
     "execution_count": 96,
     "metadata": {},
     "output_type": "execute_result"
    }
   ],
   "source": [
    "budget_array = np.array([5000, 10000, 25000, 50000])\n",
    "budget_array"
   ]
  },
  {
   "cell_type": "code",
   "execution_count": null,
   "id": "802b41e6",
   "metadata": {},
   "outputs": [],
   "source": [
    "all_estimated_values_df = []\n",
    "\n",
    "for budget in budget_array:\n",
    "    dfs = []\n",
    "    for i in range(10):\n",
    "        estimated_values = montecarlo_least_core(\n",
    "            u=utility, max_iterations=budget, progress=False\n",
    "        )\n",
    "        df = pd.DataFrame([estimated_values.values()], columns=estimated_values.keys())\n",
    "        df[\"max_iterations\"] = max_iterations\n",
    "        dfs.append(df)\n",
    "    estimated_values_df = pd.concat(dfs)\n",
    "    all_estimated_values_df.append(estimated_values_df)"
   ]
  },
  {
   "cell_type": "markdown",
   "id": "9f4f0ba7",
   "metadata": {},
   "source": [
    "### Remove Worst"
   ]
  }
 ],
 "metadata": {
  "kernelspec": {
   "display_name": "Python 3 (ipykernel)",
   "language": "python",
   "name": "python3"
  },
  "language_info": {
   "codemirror_mode": {
    "name": "ipython",
    "version": 3
   },
   "file_extension": ".py",
   "mimetype": "text/x-python",
   "name": "python",
   "nbconvert_exporter": "python",
   "pygments_lexer": "ipython3",
   "version": "3.8.13"
  }
 },
 "nbformat": 4,
 "nbformat_minor": 5
}
