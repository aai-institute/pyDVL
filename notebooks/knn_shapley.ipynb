{
 "cells": [
  {
   "cell_type": "markdown",
   "id": "108271eb",
   "metadata": {},
   "source": [
    "# KNN Shapley"
   ]
  },
  {
   "cell_type": "code",
   "execution_count": null,
   "id": "63453186",
   "metadata": {},
   "outputs": [],
   "source": [
    "%load_ext autoreload"
   ]
  },
  {
   "cell_type": "code",
   "execution_count": null,
   "id": "95fbbb01",
   "metadata": {},
   "outputs": [],
   "source": [
    "%autoreload\n",
    "import os\n",
    "import sys\n",
    "from pathlib import Path\n",
    "\n",
    "import matplotlib.pyplot as plt\n",
    "import numpy as np\n",
    "from sklearn.neighbors import KNeighborsClassifier\n",
    "from sklearn import datasets\n",
    "\n",
    "from valuation.shapley.knn import exact_knn_shapley\n",
    "from valuation.utils import Dataset"
   ]
  },
  {
   "cell_type": "code",
   "execution_count": null,
   "id": "7c96fb19",
   "metadata": {},
   "outputs": [],
   "source": [
    "# Add path to notebooks directory to be able to import from plots.py\n",
    "# First one is needed when running the notebook directly\n",
    "sys.path.insert(0, os.fspath(Path(\".\").resolve()))\n",
    "# Second one is needed when testing the notebook \n",
    "sys.path.insert(0, os.fspath(Path(\".\").resolve() / \"notebooks\"))"
   ]
  },
  {
   "cell_type": "code",
   "execution_count": null,
   "id": "597207cb",
   "metadata": {},
   "outputs": [],
   "source": [
    "%autoreload\n",
    "from plots import plot_iris"
   ]
  },
  {
   "cell_type": "code",
   "execution_count": null,
   "id": "7eed1d8d",
   "metadata": {},
   "outputs": [],
   "source": [
    "data = Dataset.from_sklearn(datasets.load_iris())"
   ]
  },
  {
   "cell_type": "code",
   "execution_count": null,
   "id": "58bb9b4e",
   "metadata": {},
   "outputs": [],
   "source": [
    "knn = KNeighborsClassifier(n_neighbors=5)\n",
    "values = exact_knn_shapley(data, knn)"
   ]
  },
  {
   "cell_type": "code",
   "execution_count": null,
   "id": "c64eedd4",
   "metadata": {},
   "outputs": [],
   "source": [
    "effective = [k for k,v in values.items() if abs(v) > 0.]\n",
    "values = np.array([values[k] for k in effective])"
   ]
  },
  {
   "cell_type": "code",
   "execution_count": null,
   "id": "467f635a",
   "metadata": {},
   "outputs": [],
   "source": [
    "plot_iris(data)"
   ]
  },
  {
   "cell_type": "code",
   "execution_count": null,
   "id": "14982134",
   "metadata": {},
   "outputs": [],
   "source": [
    "plot_iris(data, effective, values, plot_test=True)"
   ]
  }
 ],
 "metadata": {
  "kernelspec": {
   "display_name": "Python 3 (ipykernel)",
   "language": "python",
   "name": "python3"
  },
  "language_info": {
   "codemirror_mode": {
    "name": "ipython",
    "version": 3
   },
   "file_extension": ".py",
   "mimetype": "text/x-python",
   "name": "python",
   "nbconvert_exporter": "python",
   "pygments_lexer": "ipython3",
   "version": "3.8.10"
  }
 },
 "nbformat": 4,
 "nbformat_minor": 5
}
