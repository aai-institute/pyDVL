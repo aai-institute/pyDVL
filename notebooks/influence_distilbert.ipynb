{
 "cells": [
  {
   "cell_type": "code",
   "execution_count": 1,
   "metadata": {},
   "outputs": [
    {
     "name": "stderr",
     "output_type": "stream",
     "text": [
      "/Users/fabio/miniconda3/envs/pydvl_env/lib/python3.9/site-packages/tqdm/auto.py:21: TqdmWarning: IProgress not found. Please update jupyter and ipywidgets. See https://ipywidgets.readthedocs.io/en/stable/user_install.html\n",
      "  from .autonotebook import tqdm as notebook_tqdm\n",
      "Found cached dataset imdb (/Users/fabio/.cache/huggingface/datasets/imdb/plain_text/1.0.0/d613c88cf8fa3bab83b4ded3713f1f74830d1100e171db75bbddb80b3345c9c0)\n",
      "100%|██████████| 3/3 [00:00<00:00, 410.90it/s]\n"
     ]
    }
   ],
   "source": [
    "from datasets import load_dataset\n",
    "import torch\n",
    "from pydvl.influence.torch import EkfacInfluence\n",
    "\n",
    "imdb = load_dataset(\"imdb\")"
   ]
  },
  {
   "cell_type": "code",
   "execution_count": 2,
   "metadata": {},
   "outputs": [
    {
     "name": "stderr",
     "output_type": "stream",
     "text": [
      "Loading cached shuffled indices for dataset at /Users/fabio/.cache/huggingface/datasets/imdb/plain_text/1.0.0/d613c88cf8fa3bab83b4ded3713f1f74830d1100e171db75bbddb80b3345c9c0/cache-9c48ce5d173413c7.arrow\n",
      "Loading cached shuffled indices for dataset at /Users/fabio/.cache/huggingface/datasets/imdb/plain_text/1.0.0/d613c88cf8fa3bab83b4ded3713f1f74830d1100e171db75bbddb80b3345c9c0/cache-d00218895ddb9236.arrow\n"
     ]
    }
   ],
   "source": [
    "small_train_dataset = (\n",
    "    imdb[\"train\"].shuffle(seed=42).select([i for i in list(range(60))])\n",
    ")\n",
    "small_test_dataset = imdb[\"test\"].shuffle(seed=4).select([i for i in list(range(15))])"
   ]
  },
  {
   "cell_type": "code",
   "execution_count": 3,
   "metadata": {},
   "outputs": [
    {
     "name": "stdout",
     "output_type": "stream",
     "text": [
      "Positive probability: 99.57591891288757%\n",
      "Negative probability: 0.42408257722854614%\n"
     ]
    }
   ],
   "source": [
    "import torch.nn.functional as F\n",
    "from transformers import AutoTokenizer, AutoModelForSequenceClassification\n",
    "\n",
    "tokenizer = AutoTokenizer.from_pretrained(\"assemblyai/distilbert-base-uncased-sst2\")\n",
    "model = AutoModelForSequenceClassification.from_pretrained(\n",
    "    \"assemblyai/distilbert-base-uncased-sst2\"\n",
    ")\n",
    "\n",
    "tokenized_segments = tokenizer(\n",
    "    [\"Pydvl is the best data valuation library, and it is fully open-source!\"],\n",
    "    return_tensors=\"pt\",\n",
    "    padding=True,\n",
    "    truncation=True,\n",
    ")\n",
    "tokenized_segments_input_ids, tokenized_segments_attention_mask = (\n",
    "    tokenized_segments.input_ids,\n",
    "    tokenized_segments.attention_mask,\n",
    ")\n",
    "model_predictions = F.softmax(\n",
    "    model(\n",
    "        input_ids=tokenized_segments_input_ids,\n",
    "        attention_mask=tokenized_segments_attention_mask,\n",
    "    )[\"logits\"],\n",
    "    dim=1,\n",
    ")\n",
    "\n",
    "print(\"Positive probability: \" + str(model_predictions[0][1].item() * 100) + \"%\")\n",
    "print(\"Negative probability: \" + str(model_predictions[0][0].item() * 100) + \"%\")"
   ]
  },
  {
   "cell_type": "code",
   "execution_count": 4,
   "metadata": {},
   "outputs": [
    {
     "name": "stderr",
     "output_type": "stream",
     "text": [
      "Loading cached processed dataset at /Users/fabio/.cache/huggingface/datasets/imdb/plain_text/1.0.0/d613c88cf8fa3bab83b4ded3713f1f74830d1100e171db75bbddb80b3345c9c0/cache-844f976fdb8a2b78.arrow\n",
      "Loading cached processed dataset at /Users/fabio/.cache/huggingface/datasets/imdb/plain_text/1.0.0/d613c88cf8fa3bab83b4ded3713f1f74830d1100e171db75bbddb80b3345c9c0/cache-7a61d4de4e064d18.arrow\n"
     ]
    }
   ],
   "source": [
    "def preprocess_function(examples):\n",
    "    return tokenizer(examples[\"text\"], truncation=True, padding=True)\n",
    "\n",
    "\n",
    "tokenized_train = small_train_dataset.map(preprocess_function, batched=True)\n",
    "tokenized_test = small_test_dataset.map(preprocess_function, batched=True)"
   ]
  },
  {
   "cell_type": "code",
   "execution_count": 5,
   "metadata": {},
   "outputs": [],
   "source": [
    "class ImdbDataset(torch.utils.data.Dataset):\n",
    "    def __init__(self, encodings, attn_mask, labels):\n",
    "        self.encodings = encodings\n",
    "        self.attn_mask = attn_mask\n",
    "        self.labels = labels\n",
    "\n",
    "    def __getitem__(self, idx):\n",
    "        x = torch.tensor([self.encodings[idx], self.attn_mask[idx]])\n",
    "        y = torch.tensor(self.labels[idx])\n",
    "        return x, y\n",
    "\n",
    "    def __len__(self):\n",
    "        return len(self.labels)"
   ]
  },
  {
   "cell_type": "code",
   "execution_count": 6,
   "metadata": {},
   "outputs": [],
   "source": [
    "train_dataset = ImdbDataset(\n",
    "    tokenized_train[\"input_ids\"],\n",
    "    tokenized_train[\"attention_mask\"],\n",
    "    tokenized_train[\"label\"],\n",
    ")\n",
    "test_dataset = ImdbDataset(\n",
    "    tokenized_test[\"input_ids\"],\n",
    "    tokenized_test[\"attention_mask\"],\n",
    "    tokenized_test[\"label\"],\n",
    ")"
   ]
  },
  {
   "cell_type": "code",
   "execution_count": 7,
   "metadata": {},
   "outputs": [],
   "source": [
    "class PatchedModel(torch.nn.Module):\n",
    "    def __init__(self, model):\n",
    "        super().__init__()\n",
    "        self.model = model\n",
    "\n",
    "    def forward(self, x):\n",
    "        return self.model(x[:, 0], x[:, 1])[\"logits\"]"
   ]
  },
  {
   "cell_type": "code",
   "execution_count": 8,
   "metadata": {},
   "outputs": [],
   "source": [
    "for param in model.named_parameters():\n",
    "    param[1].requires_grad = False\n",
    "\n",
    "for m_name, module in model.named_modules():\n",
    "    if len(list(module.children())) == 0 and len(list(module.parameters())) > 0:\n",
    "        if isinstance(module, torch.nn.Linear):\n",
    "            for p_name, param in module.named_parameters():\n",
    "                if (\n",
    "                    \"ffn\" in m_name\n",
    "                    or \"pre_classifier\" in m_name\n",
    "                    or \"classifier\" in m_name\n",
    "                ):\n",
    "                    param.requires_grad = True"
   ]
  },
  {
   "cell_type": "code",
   "execution_count": 9,
   "metadata": {},
   "outputs": [
    {
     "name": "stdout",
     "output_type": "stream",
     "text": [
      "distilbert.transformer.layer.0.ffn.lin1.weight torch.Size([3072, 768])\n",
      "distilbert.transformer.layer.0.ffn.lin1.bias torch.Size([3072])\n",
      "distilbert.transformer.layer.0.ffn.lin2.weight torch.Size([768, 3072])\n",
      "distilbert.transformer.layer.0.ffn.lin2.bias torch.Size([768])\n",
      "distilbert.transformer.layer.1.ffn.lin1.weight torch.Size([3072, 768])\n",
      "distilbert.transformer.layer.1.ffn.lin1.bias torch.Size([3072])\n",
      "distilbert.transformer.layer.1.ffn.lin2.weight torch.Size([768, 3072])\n",
      "distilbert.transformer.layer.1.ffn.lin2.bias torch.Size([768])\n",
      "distilbert.transformer.layer.2.ffn.lin1.weight torch.Size([3072, 768])\n",
      "distilbert.transformer.layer.2.ffn.lin1.bias torch.Size([3072])\n",
      "distilbert.transformer.layer.2.ffn.lin2.weight torch.Size([768, 3072])\n",
      "distilbert.transformer.layer.2.ffn.lin2.bias torch.Size([768])\n",
      "distilbert.transformer.layer.3.ffn.lin1.weight torch.Size([3072, 768])\n",
      "distilbert.transformer.layer.3.ffn.lin1.bias torch.Size([3072])\n",
      "distilbert.transformer.layer.3.ffn.lin2.weight torch.Size([768, 3072])\n",
      "distilbert.transformer.layer.3.ffn.lin2.bias torch.Size([768])\n",
      "distilbert.transformer.layer.4.ffn.lin1.weight torch.Size([3072, 768])\n",
      "distilbert.transformer.layer.4.ffn.lin1.bias torch.Size([3072])\n",
      "distilbert.transformer.layer.4.ffn.lin2.weight torch.Size([768, 3072])\n",
      "distilbert.transformer.layer.4.ffn.lin2.bias torch.Size([768])\n",
      "distilbert.transformer.layer.5.ffn.lin1.weight torch.Size([3072, 768])\n",
      "distilbert.transformer.layer.5.ffn.lin1.bias torch.Size([3072])\n",
      "distilbert.transformer.layer.5.ffn.lin2.weight torch.Size([768, 3072])\n",
      "distilbert.transformer.layer.5.ffn.lin2.bias torch.Size([768])\n",
      "pre_classifier.weight torch.Size([768, 768])\n",
      "pre_classifier.bias torch.Size([768])\n",
      "classifier.weight torch.Size([2, 768])\n",
      "classifier.bias torch.Size([2])\n"
     ]
    }
   ],
   "source": [
    "for param in model.named_parameters():\n",
    "    if param[1].requires_grad:\n",
    "        print(param[0], param[1].shape)"
   ]
  },
  {
   "cell_type": "code",
   "execution_count": 40,
   "metadata": {},
   "outputs": [],
   "source": [
    "train_dataloader = torch.utils.data.DataLoader(\n",
    "    train_dataset, batch_size=5, shuffle=True\n",
    ")\n",
    "test_dataloader = torch.utils.data.DataLoader(test_dataset, batch_size=3, shuffle=True)"
   ]
  },
  {
   "cell_type": "code",
   "execution_count": 11,
   "metadata": {},
   "outputs": [
    {
     "data": {
      "text/plain": [
       "<pydvl.influence.torch.influence_function_model.EkfacInfluence at 0x7fd193c5de20>"
      ]
     },
     "execution_count": 11,
     "metadata": {},
     "output_type": "execute_result"
    }
   ],
   "source": [
    "patched_model = PatchedModel(model)\n",
    "patched_model.eval()\n",
    "\n",
    "ekfac_influence_model = EkfacInfluence(\n",
    "    patched_model,\n",
    "    hessian_regularization=0.1,\n",
    ")\n",
    "ekfac_influence_model = ekfac_influence_model.fit(train_dataloader)\n",
    "ekfac_influence_model.update_diag(train_dataloader)"
   ]
  },
  {
   "cell_type": "code",
   "execution_count": 41,
   "metadata": {},
   "outputs": [],
   "source": [
    "first_test_batch = next(iter(test_dataloader))\n",
    "first_train_batch = next(iter(train_dataloader))"
   ]
  },
  {
   "cell_type": "code",
   "execution_count": 42,
   "metadata": {},
   "outputs": [],
   "source": [
    "first_train_batch[1][0] = 1 - first_train_batch[1][0]"
   ]
  },
  {
   "cell_type": "code",
   "execution_count": 43,
   "metadata": {},
   "outputs": [
    {
     "name": "stderr",
     "output_type": "stream",
     "text": [
      "/Users/fabio/miniconda3/envs/pydvl_env/lib/python3.9/site-packages/transformers/models/distilbert/modeling_distilbert.py:222: UserWarning: There is a performance drop because we have not yet implemented the batching rule for aten::masked_fill.Tensor. Please file us an issue on GitHub so that we can prioritize its implementation. (Triggered internally at /Users/runner/work/pytorch/pytorch/pytorch/aten/src/ATen/functorch/BatchedFallback.cpp:84.)\n",
      "  scores = scores.masked_fill(\n"
     ]
    }
   ],
   "source": [
    "ekfac_train_influences = ekfac_influence_model.influences(\n",
    "    *first_test_batch, *first_train_batch, mode=\"up\"\n",
    ")"
   ]
  },
  {
   "cell_type": "code",
   "execution_count": 44,
   "metadata": {},
   "outputs": [
    {
     "data": {
      "text/plain": [
       "tensor([-5.8491e+01,  1.5467e+00, -8.5055e-03,  9.9609e-01, -5.1906e+00])"
      ]
     },
     "execution_count": 44,
     "metadata": {},
     "output_type": "execute_result"
    }
   ],
   "source": [
    "torch.mean(ekfac_train_influences, axis=0)"
   ]
  },
  {
   "cell_type": "code",
   "execution_count": 16,
   "metadata": {},
   "outputs": [],
   "source": [
    "first_train_batch[0][0] = first_test_batch[0][0]\n",
    "first_train_batch[1][0] = first_test_batch[1][0]"
   ]
  },
  {
   "cell_type": "code",
   "execution_count": 17,
   "metadata": {},
   "outputs": [],
   "source": [
    "ekfac_train_influences = ekfac_influence_model.influences(\n",
    "    *first_test_batch, *first_train_batch, mode=\"up\"\n",
    ")"
   ]
  },
  {
   "cell_type": "code",
   "execution_count": 18,
   "metadata": {},
   "outputs": [
    {
     "data": {
      "text/plain": [
       "tensor(1)"
      ]
     },
     "execution_count": 18,
     "metadata": {},
     "output_type": "execute_result"
    }
   ],
   "source": [
    "first_train_batch[1][0]"
   ]
  },
  {
   "cell_type": "code",
   "execution_count": 19,
   "metadata": {},
   "outputs": [
    {
     "data": {
      "text/plain": [
       "tensor(3356.6882)"
      ]
     },
     "execution_count": 19,
     "metadata": {},
     "output_type": "execute_result"
    }
   ],
   "source": [
    "ekfac_train_influences[0][0]"
   ]
  },
  {
   "cell_type": "code",
   "execution_count": 20,
   "metadata": {},
   "outputs": [
    {
     "data": {
      "text/plain": [
       "tensor(796.5195)"
      ]
     },
     "execution_count": 20,
     "metadata": {},
     "output_type": "execute_result"
    }
   ],
   "source": [
    "torch.mean(ekfac_train_influences[0])"
   ]
  },
  {
   "cell_type": "code",
   "execution_count": 21,
   "metadata": {},
   "outputs": [
    {
     "data": {
      "text/plain": [
       "torch.Size([3, 5])"
      ]
     },
     "execution_count": 21,
     "metadata": {},
     "output_type": "execute_result"
    }
   ],
   "source": [
    "ekfac_train_influences.shape"
   ]
  },
  {
   "cell_type": "code",
   "execution_count": 29,
   "metadata": {},
   "outputs": [],
   "source": [
    "ekfac_train_influences = ekfac_influence_model.influences_by_layer(\n",
    "    *first_test_batch, *first_train_batch, mode=\"up\"\n",
    ")"
   ]
  },
  {
   "cell_type": "code",
   "execution_count": 31,
   "metadata": {},
   "outputs": [],
   "source": [
    "influences = torch.zeros(size=(3, 5))\n",
    "for layer_id, value in ekfac_train_influences.items():\n",
    "    influences += value"
   ]
  },
  {
   "cell_type": "code",
   "execution_count": 38,
   "metadata": {},
   "outputs": [
    {
     "data": {
      "text/plain": [
       "tensor([ 598.4623,   27.0340,    4.7846, 1015.5076,  -10.5945],\n",
       "       grad_fn=<MulBackward0>)"
      ]
     },
     "execution_count": 38,
     "metadata": {},
     "output_type": "execute_result"
    }
   ],
   "source": [
    "torch.mean(influences, axis=0) * (598.4626 / 48.8362)"
   ]
  },
  {
   "cell_type": "code",
   "execution_count": 39,
   "metadata": {},
   "outputs": [
    {
     "data": {
      "text/plain": [
       "12.254487449883488"
      ]
     },
     "execution_count": 39,
     "metadata": {},
     "output_type": "execute_result"
    }
   ],
   "source": [
    "(598.4626 / 48.8362)"
   ]
  }
 ],
 "metadata": {
  "kernelspec": {
   "display_name": "pydvl_env",
   "language": "python",
   "name": "python3"
  },
  "language_info": {
   "codemirror_mode": {
    "name": "ipython",
    "version": 3
   },
   "file_extension": ".py",
   "mimetype": "text/x-python",
   "name": "python",
   "nbconvert_exporter": "python",
   "pygments_lexer": "ipython3",
   "version": "3.9.16"
  }
 },
 "nbformat": 4,
 "nbformat_minor": 2
}
