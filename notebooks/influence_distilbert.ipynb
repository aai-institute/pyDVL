{
 "cells": [
  {
   "cell_type": "code",
   "execution_count": 1,
   "metadata": {},
   "outputs": [
    {
     "name": "stderr",
     "output_type": "stream",
     "text": [
      "/Users/fabio/miniconda3/envs/pydvl_env/lib/python3.9/site-packages/tqdm/auto.py:21: TqdmWarning: IProgress not found. Please update jupyter and ipywidgets. See https://ipywidgets.readthedocs.io/en/stable/user_install.html\n",
      "  from .autonotebook import tqdm as notebook_tqdm\n",
      "Found cached dataset imdb (/Users/fabio/.cache/huggingface/datasets/imdb/plain_text/1.0.0/d613c88cf8fa3bab83b4ded3713f1f74830d1100e171db75bbddb80b3345c9c0)\n",
      "100%|██████████| 3/3 [00:00<00:00, 365.94it/s]\n"
     ]
    }
   ],
   "source": [
    "from datasets import load_dataset\n",
    "import torch\n",
    "\n",
    "imdb = load_dataset(\"imdb\")"
   ]
  },
  {
   "cell_type": "code",
   "execution_count": 2,
   "metadata": {},
   "outputs": [
    {
     "name": "stderr",
     "output_type": "stream",
     "text": [
      "Loading cached shuffled indices for dataset at /Users/fabio/.cache/huggingface/datasets/imdb/plain_text/1.0.0/d613c88cf8fa3bab83b4ded3713f1f74830d1100e171db75bbddb80b3345c9c0/cache-9c48ce5d173413c7.arrow\n",
      "Loading cached shuffled indices for dataset at /Users/fabio/.cache/huggingface/datasets/imdb/plain_text/1.0.0/d613c88cf8fa3bab83b4ded3713f1f74830d1100e171db75bbddb80b3345c9c0/cache-d00218895ddb9236.arrow\n"
     ]
    }
   ],
   "source": [
    "small_train_dataset = (\n",
    "    imdb[\"train\"].shuffle(seed=42).select([i for i in list(range(30))])\n",
    ")\n",
    "small_test_dataset = imdb[\"test\"].shuffle(seed=4).select([i for i in list(range(3))])"
   ]
  },
  {
   "cell_type": "code",
   "execution_count": 3,
   "metadata": {},
   "outputs": [
    {
     "name": "stdout",
     "output_type": "stream",
     "text": [
      "Positive probability: 96.0169792175293%\n",
      "Negative probability: 3.9830222725868225%\n"
     ]
    }
   ],
   "source": [
    "import torch.nn.functional as F\n",
    "from transformers import AutoTokenizer, AutoModelForSequenceClassification\n",
    "\n",
    "tokenizer = AutoTokenizer.from_pretrained(\"assemblyai/distilbert-base-uncased-sst2\")\n",
    "model = AutoModelForSequenceClassification.from_pretrained(\n",
    "    \"assemblyai/distilbert-base-uncased-sst2\"\n",
    ")\n",
    "\n",
    "tokenized_segments = tokenizer(\n",
    "    [\n",
    "        \"AssemblyAI is the best speech-to-text API for modern developers with performance being second to none!\"\n",
    "    ],\n",
    "    return_tensors=\"pt\",\n",
    "    padding=True,\n",
    "    truncation=True,\n",
    ")\n",
    "tokenized_segments_input_ids, tokenized_segments_attention_mask = (\n",
    "    tokenized_segments.input_ids,\n",
    "    tokenized_segments.attention_mask,\n",
    ")\n",
    "model_predictions = F.softmax(\n",
    "    model(\n",
    "        input_ids=tokenized_segments_input_ids,\n",
    "        attention_mask=tokenized_segments_attention_mask,\n",
    "    )[\"logits\"],\n",
    "    dim=1,\n",
    ")\n",
    "\n",
    "print(\"Positive probability: \" + str(model_predictions[0][1].item() * 100) + \"%\")\n",
    "print(\"Negative probability: \" + str(model_predictions[0][0].item() * 100) + \"%\")"
   ]
  },
  {
   "cell_type": "code",
   "execution_count": 4,
   "metadata": {},
   "outputs": [
    {
     "name": "stderr",
     "output_type": "stream",
     "text": [
      "Loading cached processed dataset at /Users/fabio/.cache/huggingface/datasets/imdb/plain_text/1.0.0/d613c88cf8fa3bab83b4ded3713f1f74830d1100e171db75bbddb80b3345c9c0/cache-2171cbc40247bcf4.arrow\n",
      "Loading cached processed dataset at /Users/fabio/.cache/huggingface/datasets/imdb/plain_text/1.0.0/d613c88cf8fa3bab83b4ded3713f1f74830d1100e171db75bbddb80b3345c9c0/cache-66cb6f78496beb63.arrow\n"
     ]
    }
   ],
   "source": [
    "def preprocess_function(examples):\n",
    "    return tokenizer(examples[\"text\"], truncation=True, padding=True)\n",
    "\n",
    "\n",
    "tokenized_train = small_train_dataset.map(preprocess_function, batched=True)\n",
    "tokenized_test = small_test_dataset.map(preprocess_function, batched=True)"
   ]
  },
  {
   "cell_type": "code",
   "execution_count": 5,
   "metadata": {},
   "outputs": [],
   "source": [
    "class ImdbDataset(torch.utils.data.Dataset):\n",
    "    def __init__(self, encodings, attn_mask, labels):\n",
    "        self.encodings = encodings\n",
    "        self.attn_mask = attn_mask\n",
    "        self.labels = labels\n",
    "\n",
    "    def __getitem__(self, idx):\n",
    "        x = torch.tensor([self.encodings[idx], self.attn_mask[idx]])\n",
    "        y = torch.tensor(self.labels[idx])\n",
    "        return x, y\n",
    "\n",
    "    def __len__(self):\n",
    "        return len(self.labels)"
   ]
  },
  {
   "cell_type": "code",
   "execution_count": 6,
   "metadata": {},
   "outputs": [],
   "source": [
    "train_dataset = ImdbDataset(\n",
    "    tokenized_train[\"input_ids\"],\n",
    "    tokenized_train[\"attention_mask\"],\n",
    "    tokenized_train[\"label\"],\n",
    ")\n",
    "test_dataset = ImdbDataset(\n",
    "    tokenized_test[\"input_ids\"],\n",
    "    tokenized_test[\"attention_mask\"],\n",
    "    tokenized_test[\"label\"],\n",
    ")"
   ]
  },
  {
   "cell_type": "code",
   "execution_count": 7,
   "metadata": {},
   "outputs": [],
   "source": [
    "class PatchedModel(torch.nn.Module):\n",
    "    def __init__(self, model):\n",
    "        super().__init__()\n",
    "        self.model = model\n",
    "\n",
    "    def forward(self, x):\n",
    "        return self.model(x[:, 0], x[:, 1])[\"logits\"]"
   ]
  },
  {
   "cell_type": "code",
   "execution_count": 8,
   "metadata": {},
   "outputs": [],
   "source": [
    "for param in model.named_parameters():\n",
    "    param[1].requires_grad = False\n",
    "\n",
    "for m_name, module in model.named_modules():\n",
    "    if len(list(module.children())) == 0 and len(list(module.parameters())) > 0:\n",
    "        if isinstance(module, torch.nn.Linear):\n",
    "            for p_name, param in module.named_parameters():\n",
    "                if (\n",
    "                    \"ffn\" in m_name\n",
    "                    or \"pre_classifier\" in m_name\n",
    "                    or \"classifier\" in m_name\n",
    "                ):\n",
    "                    param.requires_grad = True"
   ]
  },
  {
   "cell_type": "code",
   "execution_count": 9,
   "metadata": {},
   "outputs": [
    {
     "name": "stdout",
     "output_type": "stream",
     "text": [
      "distilbert.transformer.layer.0.ffn.lin1.weight torch.Size([3072, 768])\n",
      "distilbert.transformer.layer.0.ffn.lin1.bias torch.Size([3072])\n",
      "distilbert.transformer.layer.0.ffn.lin2.weight torch.Size([768, 3072])\n",
      "distilbert.transformer.layer.0.ffn.lin2.bias torch.Size([768])\n",
      "distilbert.transformer.layer.1.ffn.lin1.weight torch.Size([3072, 768])\n",
      "distilbert.transformer.layer.1.ffn.lin1.bias torch.Size([3072])\n",
      "distilbert.transformer.layer.1.ffn.lin2.weight torch.Size([768, 3072])\n",
      "distilbert.transformer.layer.1.ffn.lin2.bias torch.Size([768])\n",
      "distilbert.transformer.layer.2.ffn.lin1.weight torch.Size([3072, 768])\n",
      "distilbert.transformer.layer.2.ffn.lin1.bias torch.Size([3072])\n",
      "distilbert.transformer.layer.2.ffn.lin2.weight torch.Size([768, 3072])\n",
      "distilbert.transformer.layer.2.ffn.lin2.bias torch.Size([768])\n",
      "distilbert.transformer.layer.3.ffn.lin1.weight torch.Size([3072, 768])\n",
      "distilbert.transformer.layer.3.ffn.lin1.bias torch.Size([3072])\n",
      "distilbert.transformer.layer.3.ffn.lin2.weight torch.Size([768, 3072])\n",
      "distilbert.transformer.layer.3.ffn.lin2.bias torch.Size([768])\n",
      "distilbert.transformer.layer.4.ffn.lin1.weight torch.Size([3072, 768])\n",
      "distilbert.transformer.layer.4.ffn.lin1.bias torch.Size([3072])\n",
      "distilbert.transformer.layer.4.ffn.lin2.weight torch.Size([768, 3072])\n",
      "distilbert.transformer.layer.4.ffn.lin2.bias torch.Size([768])\n",
      "distilbert.transformer.layer.5.ffn.lin1.weight torch.Size([3072, 768])\n",
      "distilbert.transformer.layer.5.ffn.lin1.bias torch.Size([3072])\n",
      "distilbert.transformer.layer.5.ffn.lin2.weight torch.Size([768, 3072])\n",
      "distilbert.transformer.layer.5.ffn.lin2.bias torch.Size([768])\n",
      "pre_classifier.weight torch.Size([768, 768])\n",
      "pre_classifier.bias torch.Size([768])\n",
      "classifier.weight torch.Size([2, 768])\n",
      "classifier.bias torch.Size([2])\n"
     ]
    }
   ],
   "source": [
    "for param in model.named_parameters():\n",
    "    if param[1].requires_grad:\n",
    "        print(param[0], param[1].shape)"
   ]
  },
  {
   "cell_type": "code",
   "execution_count": 10,
   "metadata": {},
   "outputs": [],
   "source": [
    "train_dataloader = torch.utils.data.DataLoader(\n",
    "    train_dataset, batch_size=3, shuffle=True\n",
    ")\n",
    "test_dataloader = torch.utils.data.DataLoader(test_dataset, batch_size=3, shuffle=True)"
   ]
  },
  {
   "cell_type": "code",
   "execution_count": 11,
   "metadata": {},
   "outputs": [],
   "source": [
    "first_batch = next(iter(test_dataloader))"
   ]
  },
  {
   "cell_type": "code",
   "execution_count": 12,
   "metadata": {},
   "outputs": [
    {
     "data": {
      "text/plain": [
       "torch.Size([3, 2, 364])"
      ]
     },
     "execution_count": 12,
     "metadata": {},
     "output_type": "execute_result"
    }
   ],
   "source": [
    "first_batch[0].shape"
   ]
  },
  {
   "cell_type": "code",
   "execution_count": 13,
   "metadata": {},
   "outputs": [
    {
     "name": "stderr",
     "output_type": "stream",
     "text": [
      "Batch Test Gradients: 100%|██████████| 1/1 [00:01<00:00,  1.36s/it]\n",
      "Batch Split Input Gradients: 100%|██████████| 10/10 [00:24<00:00,  2.50s/it]\n"
     ]
    }
   ],
   "source": [
    "from pydvl.influence import compute_influences\n",
    "from pydvl.influence.torch import TorchTwiceDifferentiable\n",
    "\n",
    "patched_model = PatchedModel(model)\n",
    "patched_model.eval()\n",
    "\n",
    "ekfac_train_influences = compute_influences(\n",
    "    TorchTwiceDifferentiable(patched_model, F.cross_entropy),\n",
    "    training_data=train_dataloader,\n",
    "    test_data=test_dataloader,\n",
    "    influence_type=\"up\",\n",
    "    inversion_method=\"ekfac\",\n",
    "    hessian_regularization=0.1,\n",
    "    progress=True,\n",
    ")"
   ]
  },
  {
   "cell_type": "code",
   "execution_count": 15,
   "metadata": {},
   "outputs": [
    {
     "data": {
      "text/plain": [
       "torch.Size([3, 30])"
      ]
     },
     "execution_count": 15,
     "metadata": {},
     "output_type": "execute_result"
    }
   ],
   "source": [
    "ekfac_train_influences.shape"
   ]
  }
 ],
 "metadata": {
  "kernelspec": {
   "display_name": "pydvl_env",
   "language": "python",
   "name": "python3"
  },
  "language_info": {
   "codemirror_mode": {
    "name": "ipython",
    "version": 3
   },
   "file_extension": ".py",
   "mimetype": "text/x-python",
   "name": "python",
   "nbconvert_exporter": "python",
   "pygments_lexer": "ipython3",
   "version": "3.9.16"
  }
 },
 "nbformat": 4,
 "nbformat_minor": 2
}
