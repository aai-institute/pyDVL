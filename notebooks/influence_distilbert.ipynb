{
 "cells": [
  {
   "cell_type": "code",
   "execution_count": 1,
   "metadata": {},
   "outputs": [
    {
     "name": "stderr",
     "output_type": "stream",
     "text": [
      "/Users/fabio/miniconda3/envs/pydvl_env/lib/python3.9/site-packages/tqdm/auto.py:21: TqdmWarning: IProgress not found. Please update jupyter and ipywidgets. See https://ipywidgets.readthedocs.io/en/stable/user_install.html\n",
      "  from .autonotebook import tqdm as notebook_tqdm\n",
      "Found cached dataset imdb (/Users/fabio/.cache/huggingface/datasets/imdb/plain_text/1.0.0/d613c88cf8fa3bab83b4ded3713f1f74830d1100e171db75bbddb80b3345c9c0)\n",
      "100%|██████████| 3/3 [00:00<00:00, 378.50it/s]\n"
     ]
    }
   ],
   "source": [
    "from datasets import load_dataset\n",
    "import torch\n",
    "from pydvl.influence.torch import EkfacInfluence\n",
    "\n",
    "imdb = load_dataset(\"imdb\")"
   ]
  },
  {
   "cell_type": "code",
   "execution_count": 2,
   "metadata": {},
   "outputs": [
    {
     "name": "stderr",
     "output_type": "stream",
     "text": [
      "Loading cached shuffled indices for dataset at /Users/fabio/.cache/huggingface/datasets/imdb/plain_text/1.0.0/d613c88cf8fa3bab83b4ded3713f1f74830d1100e171db75bbddb80b3345c9c0/cache-9c48ce5d173413c7.arrow\n",
      "Loading cached shuffled indices for dataset at /Users/fabio/.cache/huggingface/datasets/imdb/plain_text/1.0.0/d613c88cf8fa3bab83b4ded3713f1f74830d1100e171db75bbddb80b3345c9c0/cache-d00218895ddb9236.arrow\n"
     ]
    }
   ],
   "source": [
    "small_train_dataset = (\n",
    "    imdb[\"train\"].shuffle(seed=42).select([i for i in list(range(10))])\n",
    ")\n",
    "small_test_dataset = imdb[\"test\"].shuffle(seed=4).select([i for i in list(range(5))])"
   ]
  },
  {
   "cell_type": "code",
   "execution_count": 3,
   "metadata": {},
   "outputs": [
    {
     "name": "stdout",
     "output_type": "stream",
     "text": [
      "Positive probability: 99.57591891288757%\n",
      "Negative probability: 0.42408257722854614%\n"
     ]
    }
   ],
   "source": [
    "import torch.nn.functional as F\n",
    "from transformers import AutoTokenizer, AutoModelForSequenceClassification\n",
    "\n",
    "tokenizer = AutoTokenizer.from_pretrained(\"assemblyai/distilbert-base-uncased-sst2\")\n",
    "model = AutoModelForSequenceClassification.from_pretrained(\n",
    "    \"assemblyai/distilbert-base-uncased-sst2\"\n",
    ")\n",
    "\n",
    "tokenized_segments = tokenizer(\n",
    "    [\"Pydvl is the best data valuation library, and it is fully open-source!\"],\n",
    "    return_tensors=\"pt\",\n",
    "    padding=True,\n",
    "    truncation=True,\n",
    ")\n",
    "tokenized_segments_input_ids, tokenized_segments_attention_mask = (\n",
    "    tokenized_segments.input_ids,\n",
    "    tokenized_segments.attention_mask,\n",
    ")\n",
    "model_predictions = F.softmax(\n",
    "    model(\n",
    "        input_ids=tokenized_segments_input_ids,\n",
    "        attention_mask=tokenized_segments_attention_mask,\n",
    "    )[\"logits\"],\n",
    "    dim=1,\n",
    ")\n",
    "\n",
    "print(\"Positive probability: \" + str(model_predictions[0][1].item() * 100) + \"%\")\n",
    "print(\"Negative probability: \" + str(model_predictions[0][0].item() * 100) + \"%\")"
   ]
  },
  {
   "cell_type": "code",
   "execution_count": 4,
   "metadata": {},
   "outputs": [
    {
     "name": "stderr",
     "output_type": "stream",
     "text": [
      "Loading cached processed dataset at /Users/fabio/.cache/huggingface/datasets/imdb/plain_text/1.0.0/d613c88cf8fa3bab83b4ded3713f1f74830d1100e171db75bbddb80b3345c9c0/cache-e2c3a4e5d7ae70bc.arrow\n"
     ]
    },
    {
     "name": "stderr",
     "output_type": "stream",
     "text": [
      "Loading cached processed dataset at /Users/fabio/.cache/huggingface/datasets/imdb/plain_text/1.0.0/d613c88cf8fa3bab83b4ded3713f1f74830d1100e171db75bbddb80b3345c9c0/cache-f11a8e18a76ea3e7.arrow\n"
     ]
    }
   ],
   "source": [
    "def preprocess_function(examples):\n",
    "    return tokenizer(examples[\"text\"], truncation=True, padding=True)\n",
    "\n",
    "\n",
    "tokenized_train = small_train_dataset.map(preprocess_function, batched=True)\n",
    "tokenized_test = small_test_dataset.map(preprocess_function, batched=True)"
   ]
  },
  {
   "cell_type": "code",
   "execution_count": 5,
   "metadata": {},
   "outputs": [],
   "source": [
    "class ImdbDataset(torch.utils.data.Dataset):\n",
    "    def __init__(self, encodings, attn_mask, labels):\n",
    "        self.encodings = encodings\n",
    "        self.attn_mask = attn_mask\n",
    "        self.labels = labels\n",
    "\n",
    "    def __getitem__(self, idx):\n",
    "        x = torch.tensor([self.encodings[idx], self.attn_mask[idx]])\n",
    "        y = torch.tensor(self.labels[idx])\n",
    "        return x, y\n",
    "\n",
    "    def __len__(self):\n",
    "        return len(self.labels)"
   ]
  },
  {
   "cell_type": "code",
   "execution_count": 6,
   "metadata": {},
   "outputs": [],
   "source": [
    "train_dataset = ImdbDataset(\n",
    "    tokenized_train[\"input_ids\"],\n",
    "    tokenized_train[\"attention_mask\"],\n",
    "    tokenized_train[\"label\"],\n",
    ")\n",
    "test_dataset = ImdbDataset(\n",
    "    tokenized_test[\"input_ids\"],\n",
    "    tokenized_test[\"attention_mask\"],\n",
    "    tokenized_test[\"label\"],\n",
    ")"
   ]
  },
  {
   "cell_type": "code",
   "execution_count": 7,
   "metadata": {},
   "outputs": [],
   "source": [
    "class PatchedModel(torch.nn.Module):\n",
    "    def __init__(self, model):\n",
    "        super().__init__()\n",
    "        self.model = model\n",
    "\n",
    "    def forward(self, x):\n",
    "        return self.model(x[:, 0], x[:, 1])[\"logits\"]"
   ]
  },
  {
   "cell_type": "code",
   "execution_count": 8,
   "metadata": {},
   "outputs": [],
   "source": [
    "for param in model.named_parameters():\n",
    "    param[1].requires_grad = False\n",
    "\n",
    "for m_name, module in model.named_modules():\n",
    "    if len(list(module.children())) == 0 and len(list(module.parameters())) > 0:\n",
    "        if isinstance(module, torch.nn.Linear):\n",
    "            for p_name, param in module.named_parameters():\n",
    "                if (\n",
    "                    \"ffn\" in m_name\n",
    "                    or \"pre_classifier\" in m_name\n",
    "                    or \"classifier\" in m_name\n",
    "                ):\n",
    "                    param.requires_grad = True"
   ]
  },
  {
   "cell_type": "code",
   "execution_count": 9,
   "metadata": {},
   "outputs": [
    {
     "name": "stdout",
     "output_type": "stream",
     "text": [
      "distilbert.transformer.layer.0.ffn.lin1.weight torch.Size([3072, 768])\n",
      "distilbert.transformer.layer.0.ffn.lin1.bias torch.Size([3072])\n",
      "distilbert.transformer.layer.0.ffn.lin2.weight torch.Size([768, 3072])\n",
      "distilbert.transformer.layer.0.ffn.lin2.bias torch.Size([768])\n",
      "distilbert.transformer.layer.1.ffn.lin1.weight torch.Size([3072, 768])\n",
      "distilbert.transformer.layer.1.ffn.lin1.bias torch.Size([3072])\n",
      "distilbert.transformer.layer.1.ffn.lin2.weight torch.Size([768, 3072])\n",
      "distilbert.transformer.layer.1.ffn.lin2.bias torch.Size([768])\n",
      "distilbert.transformer.layer.2.ffn.lin1.weight torch.Size([3072, 768])\n",
      "distilbert.transformer.layer.2.ffn.lin1.bias torch.Size([3072])\n",
      "distilbert.transformer.layer.2.ffn.lin2.weight torch.Size([768, 3072])\n",
      "distilbert.transformer.layer.2.ffn.lin2.bias torch.Size([768])\n",
      "distilbert.transformer.layer.3.ffn.lin1.weight torch.Size([3072, 768])\n",
      "distilbert.transformer.layer.3.ffn.lin1.bias torch.Size([3072])\n",
      "distilbert.transformer.layer.3.ffn.lin2.weight torch.Size([768, 3072])\n",
      "distilbert.transformer.layer.3.ffn.lin2.bias torch.Size([768])\n",
      "distilbert.transformer.layer.4.ffn.lin1.weight torch.Size([3072, 768])\n",
      "distilbert.transformer.layer.4.ffn.lin1.bias torch.Size([3072])\n",
      "distilbert.transformer.layer.4.ffn.lin2.weight torch.Size([768, 3072])\n",
      "distilbert.transformer.layer.4.ffn.lin2.bias torch.Size([768])\n",
      "distilbert.transformer.layer.5.ffn.lin1.weight torch.Size([3072, 768])\n",
      "distilbert.transformer.layer.5.ffn.lin1.bias torch.Size([3072])\n",
      "distilbert.transformer.layer.5.ffn.lin2.weight torch.Size([768, 3072])\n",
      "distilbert.transformer.layer.5.ffn.lin2.bias torch.Size([768])\n",
      "pre_classifier.weight torch.Size([768, 768])\n",
      "pre_classifier.bias torch.Size([768])\n",
      "classifier.weight torch.Size([2, 768])\n",
      "classifier.bias torch.Size([2])\n"
     ]
    }
   ],
   "source": [
    "for param in model.named_parameters():\n",
    "    if param[1].requires_grad:\n",
    "        print(param[0], param[1].shape)"
   ]
  },
  {
   "cell_type": "code",
   "execution_count": 10,
   "metadata": {},
   "outputs": [],
   "source": [
    "train_dataloader = torch.utils.data.DataLoader(\n",
    "    train_dataset, batch_size=5, shuffle=True\n",
    ")\n",
    "test_dataloader = torch.utils.data.DataLoader(test_dataset, batch_size=3, shuffle=True)"
   ]
  },
  {
   "cell_type": "code",
   "execution_count": 11,
   "metadata": {},
   "outputs": [
    {
     "name": "stderr",
     "output_type": "stream",
     "text": [
      "K-FAC blocks: 100%|██████████| 2/2 [00:10<00:00,  5.09s/it]\n"
     ]
    }
   ],
   "source": [
    "patched_model = PatchedModel(model)\n",
    "patched_model.eval()\n",
    "\n",
    "ekfac_influence_model = EkfacInfluence(\n",
    "    patched_model,\n",
    "    progress=True,\n",
    ")\n",
    "ekfac_influence_model = ekfac_influence_model.fit(train_dataloader)\n",
    "# ekfac_influence_model.update_diag(train_dataloader)"
   ]
  },
  {
   "cell_type": "code",
   "execution_count": 31,
   "metadata": {},
   "outputs": [],
   "source": [
    "first_test_batch = next(iter(test_dataloader))\n",
    "first_train_batch = next(iter(train_dataloader))"
   ]
  },
  {
   "cell_type": "code",
   "execution_count": 91,
   "metadata": {},
   "outputs": [
    {
     "name": "stderr",
     "output_type": "stream",
     "text": [
      "/Users/fabio/miniconda3/envs/pydvl_env/lib/python3.9/site-packages/transformers/models/distilbert/modeling_distilbert.py:222: UserWarning: There is a performance drop because we have not yet implemented the batching rule for aten::masked_fill.Tensor. Please file us an issue on GitHub so that we can prioritize its implementation. (Triggered internally at /Users/runner/work/pytorch/pytorch/pytorch/aten/src/ATen/functorch/BatchedFallback.cpp:84.)\n",
      "  scores = scores.masked_fill(\n"
     ]
    }
   ],
   "source": [
    "influences_by_reg_value = ekfac_influence_model.explore_hessian_regularization(\n",
    "    *first_train_batch, regularization_values=[1e-9, 1e-7, 1e-5, 100]\n",
    ")"
   ]
  },
  {
   "cell_type": "code",
   "execution_count": 92,
   "metadata": {},
   "outputs": [],
   "source": [
    "import pandas as pd\n",
    "\n",
    "cols = [\"reg_value\", \"layer_id\", \"mean_infl\"]\n",
    "infl_df = pd.DataFrame(influences_by_reg_value, columns=cols)\n",
    "for reg_value in influences_by_reg_value:\n",
    "    for layer_id, layer_influences in influences_by_reg_value[reg_value].items():\n",
    "        mean_infl = torch.mean(layer_influences, dim=0).detach().numpy()\n",
    "        infl_df = pd.concat(\n",
    "            [infl_df, pd.DataFrame([[reg_value, layer_id, mean_infl]], columns=cols)]\n",
    "        )"
   ]
  },
  {
   "cell_type": "code",
   "execution_count": 93,
   "metadata": {},
   "outputs": [
    {
     "name": "stdout",
     "output_type": "stream",
     "text": [
      "Layer model.classifier\n",
      "Reg value 1e-07\n",
      "Pearson 0.9999999999982297\n",
      "Spearman 0.9999999999999999\n",
      "Reg value 1e-05\n",
      "Pearson 0.9999999999198821\n",
      "Spearman 0.9999999999999999\n",
      "Reg value 100.0\n",
      "Pearson 0.9890089520584947\n",
      "Spearman 0.8999999999999998\n",
      "Layer model.distilbert.transformer.layer.0.ffn.lin1\n",
      "Reg value 1e-07\n",
      "Pearson 0.9999619048425001\n",
      "Spearman 0.9999999999999999\n",
      "Reg value 1e-05\n",
      "Pearson 0.9987266503875496\n",
      "Spearman 0.9999999999999999\n",
      "Reg value 100.0\n",
      "Pearson 0.9774404060098946\n",
      "Spearman 0.8999999999999998\n",
      "Layer model.distilbert.transformer.layer.0.ffn.lin2\n",
      "Reg value 1e-07\n",
      "Pearson 0.9999336542986618\n",
      "Spearman 0.9999999999999999\n",
      "Reg value 1e-05\n",
      "Pearson 0.9990544073004429\n",
      "Spearman 0.9999999999999999\n",
      "Reg value 100.0\n",
      "Pearson 0.9976124885796617\n",
      "Spearman 0.8999999999999998\n",
      "Layer model.distilbert.transformer.layer.1.ffn.lin1\n",
      "Reg value 1e-07\n",
      "Pearson 0.9999533857529216\n",
      "Spearman 0.9999999999999999\n",
      "Reg value 1e-05\n",
      "Pearson 0.9989482437845721\n",
      "Spearman 0.9999999999999999\n",
      "Reg value 100.0\n",
      "Pearson 0.9964914007888204\n",
      "Spearman 0.8999999999999998\n",
      "Layer model.distilbert.transformer.layer.1.ffn.lin2\n",
      "Reg value 1e-07\n",
      "Pearson 0.9999916136560949\n",
      "Spearman 0.9999999999999999\n",
      "Reg value 1e-05\n",
      "Pearson 0.9996741637855644\n",
      "Spearman 0.9999999999999999\n",
      "Reg value 100.0\n",
      "Pearson 0.9989650038819474\n",
      "Spearman 0.8999999999999998\n",
      "Layer model.distilbert.transformer.layer.2.ffn.lin1\n",
      "Reg value 1e-07\n",
      "Pearson 0.9999850429340159\n",
      "Spearman 0.8999999999999998\n",
      "Reg value 1e-05\n",
      "Pearson 0.9990860089585984\n",
      "Spearman 0.9999999999999999\n",
      "Reg value 100.0\n",
      "Pearson 0.9973567654881873\n",
      "Spearman 0.8999999999999998\n",
      "Layer model.distilbert.transformer.layer.2.ffn.lin2\n",
      "Reg value 1e-07\n",
      "Pearson 0.9999891945547907\n",
      "Spearman 0.9999999999999999\n",
      "Reg value 1e-05\n",
      "Pearson 0.999929272221139\n",
      "Spearman 0.9999999999999999\n",
      "Reg value 100.0\n",
      "Pearson 0.999878601294667\n",
      "Spearman 0.8999999999999998\n",
      "Layer model.distilbert.transformer.layer.3.ffn.lin1\n",
      "Reg value 1e-07\n",
      "Pearson 0.9999743929131351\n",
      "Spearman 0.9999999999999999\n",
      "Reg value 1e-05\n",
      "Pearson 0.9999964961833777\n",
      "Spearman 0.9999999999999999\n",
      "Reg value 100.0\n",
      "Pearson 0.997409030920537\n",
      "Spearman 0.8999999999999998\n",
      "Layer model.distilbert.transformer.layer.3.ffn.lin2\n",
      "Reg value 1e-07\n",
      "Pearson 0.9999547452419874\n",
      "Spearman 0.9999999999999999\n",
      "Reg value 1e-05\n",
      "Pearson 0.9988697971574463\n",
      "Spearman 0.9999999999999999\n",
      "Reg value 100.0\n",
      "Pearson 0.989390370961956\n",
      "Spearman 0.8999999999999998\n",
      "Layer model.distilbert.transformer.layer.4.ffn.lin1\n",
      "Reg value 1e-07\n",
      "Pearson 0.9996088710756871\n",
      "Spearman 0.8999999999999998\n",
      "Reg value 1e-05\n",
      "Pearson 0.9989685809131104\n",
      "Spearman 0.9999999999999999\n",
      "Reg value 100.0\n",
      "Pearson 0.957268685281599\n",
      "Spearman 0.8999999999999998\n",
      "Layer model.distilbert.transformer.layer.4.ffn.lin2\n",
      "Reg value 1e-07\n",
      "Pearson 0.9993781838562021\n",
      "Spearman 0.8999999999999998\n",
      "Reg value 1e-05\n",
      "Pearson 0.9999471200780226\n",
      "Spearman 0.9999999999999999\n",
      "Reg value 100.0\n",
      "Pearson 0.9274370208460007\n",
      "Spearman 0.8999999999999998\n",
      "Layer model.distilbert.transformer.layer.5.ffn.lin1\n",
      "Reg value 1e-07\n",
      "Pearson 0.9999999510148485\n",
      "Spearman 0.9999999999999999\n",
      "Reg value 1e-05\n",
      "Pearson 0.9999647286519302\n",
      "Spearman 0.9999999999999999\n",
      "Reg value 100.0\n",
      "Pearson 0.9423928206889953\n",
      "Spearman 0.7999999999999999\n",
      "Layer model.distilbert.transformer.layer.5.ffn.lin2\n",
      "Reg value 1e-07\n",
      "Pearson 0.9999445978598823\n",
      "Spearman 0.9999999999999999\n",
      "Reg value 1e-05\n",
      "Pearson 0.9884469308546968\n",
      "Spearman 0.9999999999999999\n",
      "Reg value 100.0\n",
      "Pearson 0.9681394800845086\n",
      "Spearman 0.7999999999999999\n",
      "Layer model.pre_classifier\n",
      "Reg value 1e-07\n",
      "Pearson 0.9999999976033913\n",
      "Spearman 0.9999999999999999\n",
      "Reg value 1e-05\n",
      "Pearson 0.9999813416700254\n",
      "Spearman 0.9999999999999999\n",
      "Reg value 100.0\n",
      "Pearson 0.8385744133096472\n",
      "Spearman 0.7999999999999999\n"
     ]
    }
   ],
   "source": [
    "from scipy.stats import pearsonr, spearmanr\n",
    "\n",
    "for layer_id, group_df in infl_df.groupby(\"layer_id\"):\n",
    "    print(\"Layer\", layer_id)\n",
    "    for idx, mean_infl in enumerate(group_df[\"mean_infl\"]):\n",
    "        if idx == 0:\n",
    "            continue\n",
    "        print(\"Reg value\", group_df[\"reg_value\"].iloc[idx])\n",
    "        print(\n",
    "            \"Pearson\",\n",
    "            pearsonr(mean_infl, group_df[\"mean_infl\"].iloc[idx - 1]).statistic,\n",
    "        )\n",
    "        print(\n",
    "            \"Spearman\",\n",
    "            spearmanr(mean_infl, group_df[\"mean_infl\"].iloc[idx - 1]).statistic,\n",
    "        )"
   ]
  },
  {
   "cell_type": "code",
   "execution_count": 13,
   "metadata": {},
   "outputs": [],
   "source": [
    "first_train_batch[1][0] = 1 - first_train_batch[1][0]"
   ]
  },
  {
   "cell_type": "code",
   "execution_count": 14,
   "metadata": {},
   "outputs": [
    {
     "name": "stderr",
     "output_type": "stream",
     "text": [
      "/Users/fabio/miniconda3/envs/pydvl_env/lib/python3.9/site-packages/transformers/models/distilbert/modeling_distilbert.py:222: UserWarning: There is a performance drop because we have not yet implemented the batching rule for aten::masked_fill.Tensor. Please file us an issue on GitHub so that we can prioritize its implementation. (Triggered internally at /Users/runner/work/pytorch/pytorch/pytorch/aten/src/ATen/functorch/BatchedFallback.cpp:84.)\n",
      "  scores = scores.masked_fill(\n"
     ]
    }
   ],
   "source": [
    "ekfac_train_influences = ekfac_influence_model.influences(\n",
    "    *first_test_batch, *first_train_batch, mode=\"up\"\n",
    ")"
   ]
  },
  {
   "cell_type": "code",
   "execution_count": 15,
   "metadata": {},
   "outputs": [
    {
     "data": {
      "text/plain": [
       "tensor([[ 3.2714e+01,  2.1226e+02, -3.1409e+00, -8.7363e+01,  3.4665e+02],\n",
       "        [-2.8046e+02,  2.0380e+02, -6.3348e-01, -3.5344e+01,  1.5909e+02],\n",
       "        [-8.7853e-01, -4.7143e+00,  2.3439e-01,  1.0359e+00, -5.3958e+00]])"
      ]
     },
     "execution_count": 15,
     "metadata": {},
     "output_type": "execute_result"
    }
   ],
   "source": [
    "ekfac_train_influences"
   ]
  },
  {
   "cell_type": "code",
   "execution_count": 16,
   "metadata": {},
   "outputs": [
    {
     "data": {
      "text/plain": [
       "tensor([-82.8759, 137.1154,  -1.1800, -40.5570, 166.7804])"
      ]
     },
     "execution_count": 16,
     "metadata": {},
     "output_type": "execute_result"
    }
   ],
   "source": [
    "torch.mean(ekfac_train_influences, axis=0)"
   ]
  },
  {
   "cell_type": "code",
   "execution_count": 17,
   "metadata": {},
   "outputs": [
    {
     "data": {
      "text/plain": [
       "tensor(32.7142)"
      ]
     },
     "execution_count": 17,
     "metadata": {},
     "output_type": "execute_result"
    }
   ],
   "source": [
    "ekfac_train_influences[0][0]"
   ]
  },
  {
   "cell_type": "code",
   "execution_count": 18,
   "metadata": {},
   "outputs": [
    {
     "data": {
      "text/plain": [
       "tensor(100.2229)"
      ]
     },
     "execution_count": 18,
     "metadata": {},
     "output_type": "execute_result"
    }
   ],
   "source": [
    "torch.mean(ekfac_train_influences[0])"
   ]
  },
  {
   "cell_type": "code",
   "execution_count": 19,
   "metadata": {},
   "outputs": [
    {
     "data": {
      "text/plain": [
       "torch.Size([3, 5])"
      ]
     },
     "execution_count": 19,
     "metadata": {},
     "output_type": "execute_result"
    }
   ],
   "source": [
    "ekfac_train_influences.shape"
   ]
  },
  {
   "cell_type": "code",
   "execution_count": 20,
   "metadata": {},
   "outputs": [],
   "source": [
    "ekfac_train_influences = ekfac_influence_model.influences_by_layer(\n",
    "    *first_test_batch, *first_train_batch, mode=\"up\"\n",
    ")"
   ]
  },
  {
   "cell_type": "code",
   "execution_count": 21,
   "metadata": {},
   "outputs": [],
   "source": [
    "influences = torch.zeros(size=(3, 5))\n",
    "for layer_id, value in ekfac_train_influences.items():\n",
    "    influences += value"
   ]
  },
  {
   "cell_type": "code",
   "execution_count": 26,
   "metadata": {},
   "outputs": [],
   "source": [
    "idx = (0, 2)\n",
    "infl_across_layers = []\n",
    "for layer_id, value in ekfac_train_influences.items():\n",
    "    infl_across_layers.append(value[idx].item())"
   ]
  },
  {
   "cell_type": "code",
   "execution_count": 27,
   "metadata": {},
   "outputs": [
    {
     "data": {
      "text/plain": [
       "[<matplotlib.lines.Line2D at 0x7f75a989bc70>]"
      ]
     },
     "execution_count": 27,
     "metadata": {},
     "output_type": "execute_result"
    },
    {
     "data": {
      "image/png": "[encoded data removed]",
      "text/plain": [
       "<Figure size 640x480 with 1 Axes>"
      ]
     },
     "metadata": {},
     "output_type": "display_data"
    }
   ],
   "source": [
    "import matplotlib.pyplot as plt\n",
    "\n",
    "plt.plot(infl_across_layers)"
   ]
  }
 ],
 "metadata": {
  "kernelspec": {
   "display_name": "pydvl_env",
   "language": "python",
   "name": "python3"
  },
  "language_info": {
   "codemirror_mode": {
    "name": "ipython",
    "version": 3
   },
   "file_extension": ".py",
   "mimetype": "text/x-python",
   "name": "python",
   "nbconvert_exporter": "python",
   "pygments_lexer": "ipython3",
   "version": "3.9.16"
  }
 },
 "nbformat": 4,
 "nbformat_minor": 2
}
