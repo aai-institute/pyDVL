{
 "cells": [
  {
   "cell_type": "markdown",
   "metadata": {},
   "source": [
    "# Banzhaf Semi-values for data valuation\n",
    "\n",
    "This notebook showcases [Data Banzhaf: A Robust Data Valuation Framework for Machine Learning](https://proceedings.mlr.press/v206/wang23e.html) by Wang, and Jia.\n",
    "\n",
    "Computing Banzhaf semi-values using pyDVL follows basically the same procedure as all other semi-value-based methods like Shapley values. However, Data-Banzhaf tends to be more robust to stochasticity in the training process than other semi-values. A property that we study here.\n",
    "\n",
    "Additionally, we compare two sampling techniques: the standard permutation-based Monte Carlo sampling, and the so-called MSR (Maximum Sample Reuse) principle.\n",
    "\n",
    "In order to highlight the strengths of Data-Banzhaf, we require a stochastic model. For this reason, we use a CNN to classify handwritten digits from the [scikit-learn toy datasets](https://scikit-learn.org/stable/datasets/toy_dataset.html#optical-recognition-of-handwritten-digits-dataset)."
   ]
  },
  {
   "cell_type": "markdown",
   "metadata": {},
   "source": [
    "## Setup\n",
    "\n",
    "<div class=\"alert alert-info\">\n",
    "\n",
    "If you are reading this in the documentation, some boilerplate (including most plotting code) has been omitted for convenience.\n",
    "\n",
    "</div>"
   ]
  },
  {
   "cell_type": "code",
   "execution_count": 6,
   "metadata": {
    "tags": [
     "hide"
    ]
   },
   "outputs": [],
   "source": [
    "from __future__ import annotations\n",
    "\n",
    "%matplotlib inline\n",
    "\n",
    "import os\n",
    "import random\n",
    "import warnings\n",
    "from collections import OrderedDict, defaultdict\n",
    "from copy import deepcopy\n",
    "from typing import Type\n",
    "\n",
    "import matplotlib.pyplot as plt\n",
    "import numpy as np\n",
    "import torch\n",
    "from support.banzhaf import load_digits_dataset\n",
    "\n",
    "from pydvl.reporting.plots import plot_shapley\n",
    "\n",
    "warnings.filterwarnings(\"ignore\")\n",
    "\n",
    "plt.ioff()  # Prevent jupyter from automatically plotting\n",
    "plt.rcParams[\"figure.figsize\"] = (20, 6)\n",
    "plt.rcParams[\"font.size\"] = 12\n",
    "plt.rcParams[\"xtick.labelsize\"] = 10\n",
    "plt.rcParams[\"ytick.labelsize\"] = 10\n",
    "plt.rcParams[\"axes.facecolor\"] = (1, 1, 1, 0)\n",
    "plt.rcParams[\"figure.facecolor\"] = (1, 1, 1, 0)\n",
    "\n",
    "is_CI = os.environ.get(\"CI\")\n",
    "device = \"cuda\" if torch.cuda.is_available() else \"cpu\"\n",
    "random_state = 42\n",
    "n_jobs = 6\n",
    "n_epochs = 24\n",
    "batch_size = 256\n",
    "random.seed(random_state)\n",
    "torch.manual_seed(random_state);"
   ]
  },
  {
   "cell_type": "markdown",
   "metadata": {},
   "source": [
    "## The dataset\n",
    "\n",
    "The data consists of ~1800 grayscale images of 8x8 pixels with 16 shades of gray. These images contain handwritten digits from 0 to 9. The helper function `load_digits_dataset()` downloads and prepares it for usage returning two [Datasets][pydvl.valuation.dataset.Dataset]."
   ]
  },
  {
   "cell_type": "code",
   "execution_count": 7,
   "metadata": {
    "editable": true,
    "slideshow": {
     "slide_type": ""
    },
    "tags": []
   },
   "outputs": [],
   "source": [
    "train, test = load_digits_dataset(\n",
    "    train_size=0.7, random_state=random_state, device=device\n",
    ")"
   ]
  },
  {
   "cell_type": "code",
   "execution_count": 8,
   "metadata": {
    "tags": [
     "hide-input",
     "invertible-output"
    ]
   },
   "outputs": [
    {
     "data": {
      "image/png": "[encoded data removed]",
      "text/plain": [
       "<Figure size 1200x300 with 4 Axes>"
      ]
     },
     "metadata": {
      "needs_background": "light"
     },
     "output_type": "display_data"
    }
   ],
   "source": [
    "fig, axes = plt.subplots(1, 4, figsize=(12, 3))\n",
    "for i in range(4):\n",
    "    ax = axes[i]\n",
    "    ax.imshow(train.data().x[i].reshape((8, 8)).cpu(), cmap=\"gray\")\n",
    "    ax.set_xlabel(f\"Label: {train.data().y[i]}\")\n",
    "plt.suptitle(\"Example images from the dataset\")\n",
    "plt.tight_layout()\n",
    "plt.show();"
   ]
  },
  {
   "cell_type": "markdown",
   "metadata": {},
   "source": [
    "## Creating the utility and computing Banzhaf semi-values\n",
    "\n",
    "Now we can calculate the contribution of each training sample to the model performance. We use a simple CNN written in torch, and wrapped into an object to convert numpy arrays into tensors (as of v0.9.2 valuation methods in pyDVL work only with numpy arrays). Note that any model that implements the protocol [SupervisedModel][pydvl.utils.types.SupervisedModel], which is just the standard sklearn interface of `fit()`,`predict()` and `score()` can be used to construct the utility."
   ]
  },
  {
   "cell_type": "code",
   "execution_count": 9,
   "metadata": {
    "tags": [
     "hide"
    ]
   },
   "outputs": [],
   "source": [
    "# Reduce computation time in CI\n",
    "if is_CI:\n",
    "    train = train[:10]\n",
    "    test = test[:10]\n",
    "    n_jobs = 1\n",
    "    n_epochs = 1\n",
    "    batch_size = 1"
   ]
  },
  {
   "cell_type": "code",
   "execution_count": 10,
   "metadata": {},
   "outputs": [],
   "source": [
    "from support.banzhaf import SimpleCNN, TorchClassifierModel\n",
    "\n",
    "device = torch.device(\"cuda\" if torch.cuda.is_available() else \"cpu\")\n",
    "model = TorchClassifierModel(\n",
    "    model_factory=SimpleCNN,\n",
    "    lr=0.01,\n",
    "    epochs=n_epochs,\n",
    "    batch_size=batch_size,\n",
    "    device=device,\n",
    ")\n",
    "model.fit(*train.data())"
   ]
  },
  {
   "cell_type": "code",
   "execution_count": 11,
   "metadata": {
    "tags": [
     "hide-input"
    ]
   },
   "outputs": [
    {
     "name": "stdout",
     "output_type": "stream",
     "text": [
      "Training accuracy: 0.980\n",
      "Test accuracy: 0.952\n"
     ]
    }
   ],
   "source": [
    "print(f\"Training accuracy: {model.score(*train.data()):.3f}\")\n",
    "print(f\"Test accuracy: {model.score(*test.data()):.3f}\")"
   ]
  },
  {
   "cell_type": "markdown",
   "metadata": {},
   "source": [
    "As with all other model-based valuation methods, for Data Banzhaf we need a scoring function to measure performance of the model over the test set. We will use accuracy, but it can be anything, like e.g. $R^2$, using strings from the [standard sklearn scoring methods](https://scikit-learn.org/stable/modules/model_evaluation.html), passed to [SupervisedScorer][pydvl.valuation.scorers.supervised.SupervisedScorer].\n",
    "\n",
    "We group our torch model and the scoring function into an instance of [ModelUtility][pydvl.valuation.utility.ModelUtility]."
   ]
  },
  {
   "cell_type": "code",
   "execution_count": 16,
   "metadata": {},
   "outputs": [],
   "source": [
    "from pydvl.valuation.samplers import PermutationSampler, RelativeTruncation\n",
    "from pydvl.valuation.scorers import SupervisedScorer\n",
    "from pydvl.valuation.stopping import MinUpdates\n",
    "from pydvl.valuation.utility import ModelUtility\n",
    "\n",
    "accuracy_over_test_set = SupervisedScorer(\n",
    "    model, test_data=test, default=0.0, range=(0, 1)\n",
    ")\n",
    "\n",
    "utility = ModelUtility(model=model, scorer=accuracy_over_test_set)"
   ]
  },
  {
   "cell_type": "markdown",
   "metadata": {},
   "source": [
    "In order to compute the Banzhaf semi-values, we use [BanzhafValuation][pydvl.valuation.methods.banzhaf.BanzhafValuation], which also requires choosing a sampler and a stopping criterion.\n",
    "\n",
    "We use the standard [PermutationSampler][pydvl.valuation.samplers.permutation.PermutationSampler], and choose to stop computation using the [MinUpdates][pydvl.valuation.stopping.MinUpdates] stopping criterion, which terminates after a fixed number of value updates. This is a simple stopping criterion, but it is not very efficient. We will later compare it to [RankCorrelation][pydvl.valuation.stopping.RankCorrelation], which terminates after the change in Spearman correlation between two successive iterations is below a certain threshold.\n",
    "\n",
    "We also define a relative [TruncationPolicy][pydvl.valuation.samplers.truncation.TruncationPolicy], which is a policy used to early-stop computation of marginal values in permutations, once the utility is close to the total utility. This is a heuristic to speed up computation introduced in the Data-Shapley paper called Truncated Monte Carlo Shapley. Note how we tell it to wait until at least 30% of every permutation has been processed in order to start evaluation. This is to ensure that noise doesn't stop the computation too early."
   ]
  },
  {
   "cell_type": "code",
   "execution_count": 17,
   "metadata": {},
   "outputs": [],
   "source": [
    "truncation = RelativeTruncation(rtol=0.05, burn_in_fraction=0.3)\n",
    "sampler = PermutationSampler(truncation=truncation)\n",
    "stopping = MinUpdates(100)"
   ]
  },
  {
   "cell_type": "code",
   "execution_count": 18,
   "metadata": {
    "tags": [
     "hide"
    ]
   },
   "outputs": [],
   "source": [
    "if is_CI:\n",
    "    from pydvl.valuation.stopping import MaxChecks\n",
    "\n",
    "    stopping = MaxChecks(1)  # Stop after 1 utility evaluation"
   ]
  },
  {
   "cell_type": "markdown",
   "metadata": {},
   "source": [
    "We now instantiate and fit the valuation. Note how parallelization is just a matter of using joblib's context manager `parallel_config` in order to set the number of jobs."
   ]
  },
  {
   "cell_type": "code",
   "execution_count": 19,
   "metadata": {
    "tags": [
     "hide-output"
    ]
   },
   "outputs": [
    {
     "data": {
      "application/vnd.jupyter.widget-view+json": {
       "model_id": "decc8f2b57a0483fb549297ab2769010",
       "version_major": 2,
       "version_minor": 0
      },
      "text/plain": [
       "BanzhafValuation: MinUpdates(n_updates=100): 0.00%|          | [00:00<?, ?%/s]"
      ]
     },
     "metadata": {},
     "output_type": "display_data"
    }
   ],
   "source": [
    "from joblib import parallel_config\n",
    "\n",
    "from pydvl.valuation.methods import BanzhafValuation\n",
    "\n",
    "valuation = BanzhafValuation(utility, sampler=sampler, is_done=stopping, progress=True)\n",
    "\n",
    "with parallel_config(n_jobs=n_jobs):\n",
    "    valuation.fit(train)\n",
    "\n",
    "values = valuation.values()\n",
    "values.sort(key=\"value\")\n",
    "df = values.to_dataframe(column=\"banzhaf_value\")"
   ]
  },
  {
   "cell_type": "markdown",
   "metadata": {},
   "source": [
    "For convenience, we have transformed the values into a dataframe. It includes columns with the mean, variance and number of updates of the Monte Carlo estimates for the values:"
   ]
  },
  {
   "cell_type": "code",
   "execution_count": 20,
   "metadata": {
    "tags": [
     "hide-input"
    ]
   },
   "outputs": [
    {
     "data": {
      "text/html": [
       "<div>\n",
       "<style scoped>\n",
       "    .dataframe tbody tr th:only-of-type {\n",
       "        vertical-align: middle;\n",
       "    }\n",
       "\n",
       "    .dataframe tbody tr th {\n",
       "        vertical-align: top;\n",
       "    }\n",
       "\n",
       "    .dataframe thead th {\n",
       "        text-align: right;\n",
       "    }\n",
       "</style>\n",
       "<table border=\"1\" class=\"dataframe\">\n",
       "  <thead>\n",
       "    <tr style=\"text-align: right;\">\n",
       "      <th></th>\n",
       "      <th>banzhaf_value</th>\n",
       "      <th>banzhaf_value_variances</th>\n",
       "      <th>banzhaf_value_counts</th>\n",
       "    </tr>\n",
       "  </thead>\n",
       "  <tbody>\n",
       "    <tr>\n",
       "      <th>928</th>\n",
       "      <td>-1.182930e-38</td>\n",
       "      <td>2.168880e-97</td>\n",
       "      <td>100</td>\n",
       "    </tr>\n",
       "    <tr>\n",
       "      <th>836</th>\n",
       "      <td>-2.066099e-39</td>\n",
       "      <td>8.055882e-101</td>\n",
       "      <td>100</td>\n",
       "    </tr>\n",
       "    <tr>\n",
       "      <th>738</th>\n",
       "      <td>-3.882122e-40</td>\n",
       "      <td>2.663983e-106</td>\n",
       "      <td>100</td>\n",
       "    </tr>\n",
       "    <tr>\n",
       "      <th>484</th>\n",
       "      <td>-2.059382e-40</td>\n",
       "      <td>3.906133e-104</td>\n",
       "      <td>100</td>\n",
       "    </tr>\n",
       "    <tr>\n",
       "      <th>534</th>\n",
       "      <td>-2.441414e-41</td>\n",
       "      <td>1.379095e-109</td>\n",
       "      <td>100</td>\n",
       "    </tr>\n",
       "    <tr>\n",
       "      <th>...</th>\n",
       "      <td>...</td>\n",
       "      <td>...</td>\n",
       "      <td>...</td>\n",
       "    </tr>\n",
       "    <tr>\n",
       "      <th>367</th>\n",
       "      <td>1.038178e-41</td>\n",
       "      <td>1.010994e-97</td>\n",
       "      <td>100</td>\n",
       "    </tr>\n",
       "    <tr>\n",
       "      <th>86</th>\n",
       "      <td>1.894345e-40</td>\n",
       "      <td>3.499065e-91</td>\n",
       "      <td>100</td>\n",
       "    </tr>\n",
       "    <tr>\n",
       "      <th>792</th>\n",
       "      <td>7.891136e-40</td>\n",
       "      <td>5.083617e-103</td>\n",
       "      <td>100</td>\n",
       "    </tr>\n",
       "    <tr>\n",
       "      <th>891</th>\n",
       "      <td>1.282575e-39</td>\n",
       "      <td>9.227107e-97</td>\n",
       "      <td>100</td>\n",
       "    </tr>\n",
       "    <tr>\n",
       "      <th>1088</th>\n",
       "      <td>7.846212e-38</td>\n",
       "      <td>6.561939e-93</td>\n",
       "      <td>100</td>\n",
       "    </tr>\n",
       "  </tbody>\n",
       "</table>\n",
       "<p>1257 rows × 3 columns</p>\n",
       "</div>"
      ],
      "text/plain": [
       "      banzhaf_value  banzhaf_value_variances  banzhaf_value_counts\n",
       "928   -1.182930e-38             2.168880e-97                   100\n",
       "836   -2.066099e-39            8.055882e-101                   100\n",
       "738   -3.882122e-40            2.663983e-106                   100\n",
       "484   -2.059382e-40            3.906133e-104                   100\n",
       "534   -2.441414e-41            1.379095e-109                   100\n",
       "...             ...                      ...                   ...\n",
       "367    1.038178e-41             1.010994e-97                   100\n",
       "86     1.894345e-40             3.499065e-91                   100\n",
       "792    7.891136e-40            5.083617e-103                   100\n",
       "891    1.282575e-39             9.227107e-97                   100\n",
       "1088   7.846212e-38             6.561939e-93                   100\n",
       "\n",
       "[1257 rows x 3 columns]"
      ]
     },
     "execution_count": 20,
     "metadata": {},
     "output_type": "execute_result"
    }
   ],
   "source": [
    "df"
   ]
  },
  {
   "cell_type": "markdown",
   "metadata": {},
   "source": [
    "Let us plot the results. In the next cell we will take the 10 images with the lowest score and plot their values with 95% Normal confidence intervals. Keep in mind that Permutation Monte Carlo Banzhaf is typically very noisy, and it can take many steps to arrive at a clean estimate."
   ]
  },
  {
   "cell_type": "code",
   "execution_count": 21,
   "metadata": {
    "tags": [
     "hide-input",
     "invertible-output"
    ]
   },
   "outputs": [
    {
     "data": {
      "image/png": "[encoded data removed]",
      "text/plain": [
       "<Figure size 2000x600 with 1 Axes>"
      ]
     },
     "metadata": {
      "needs_background": "light"
     },
     "output_type": "display_data"
    }
   ],
   "source": [
    "low_values = df.iloc[:10].copy()\n",
    "low_values.index = low_values.index.map(str)\n",
    "plot_shapley(\n",
    "    low_values,\n",
    "    level=0.05,\n",
    "    title=\"Images with low values\",\n",
    "    xlabel=\"Image\",\n",
    "    ylabel=\"Banzhaf value\",\n",
    "    prefix=\"banzhaf_value\",\n",
    ")\n",
    "plt.show();"
   ]
  },
  {
   "cell_type": "markdown",
   "metadata": {},
   "source": [
    "## Evaluation on anomalous data\n",
    "\n",
    "An interesting use-case for data valuation is finding anomalous data. Maybe some of the data is really noisy or has been mislabeled. To simulate this for our dataset, we will change some of the labels and add noise to some images. Intuitively, these anomalous data points should then have a lower value.\n",
    "\n",
    "To evaluate this, let us first check the average value of the 10 data points with the highest value, as these will be the ones that we modify:"
   ]
  },
  {
   "cell_type": "code",
   "execution_count": 22,
   "metadata": {
    "editable": true,
    "slideshow": {
     "slide_type": ""
    },
    "tags": [
     "hide-input"
    ]
   },
   "outputs": [
    {
     "name": "stdout",
     "output_type": "stream",
     "text": [
      "Average value of top 10 data points: 8.073507668960686e-39\n"
     ]
    }
   ],
   "source": [
    "high_values = df.iloc[-10:].copy()\n",
    "print(f\"Average value of top 10 data points: {high_values['banzhaf_value'].mean()}\")"
   ]
  },
  {
   "cell_type": "markdown",
   "metadata": {},
   "source": [
    "For the first 5 images, we will falsify their label, for images 6-10, we will add some noise."
   ]
  },
  {
   "cell_type": "code",
   "execution_count": 43,
   "metadata": {},
   "outputs": [],
   "source": [
    "x_train_anomalous = deepcopy(train.data().x)\n",
    "y_train_anomalous = deepcopy(train.data().y)\n",
    "anomalous_indices = high_values.index.map(int).values\n",
    "\n",
    "# Change the label of the first 5 images\n",
    "y_train_anomalous[anomalous_indices[:5]] = torch.remainder(\n",
    "    y_train_anomalous[anomalous_indices[:5]] + 1, 10\n",
    ")\n",
    "# Add noise to images 6-10\n",
    "current_images = x_train_anomalous[anomalous_indices[5:10]]\n",
    "noisy_images = current_images + 0.5 * torch.randn_like(current_images)\n",
    "noisy_images[noisy_images < 0] = 0.0\n",
    "noisy_images[noisy_images > 1] = 1.0\n",
    "x_train_anomalous[anomalous_indices[5:10]] = noisy_images"
   ]
  },
  {
   "cell_type": "code",
   "execution_count": 44,
   "metadata": {
    "tags": [
     "hide-input",
     "invertible-output"
    ]
   },
   "outputs": [
    {
     "data": {
      "image/png": "[encoded data removed]",
      "text/plain": [
       "<Figure size 900x500 with 10 Axes>"
      ]
     },
     "metadata": {
      "needs_background": "light"
     },
     "output_type": "display_data"
    }
   ],
   "source": [
    "fig, axes = plt.subplots(2, 5, figsize=(9, 5))\n",
    "for i in range(5):\n",
    "    axes[0, i].imshow(current_images[i].reshape((8, 8)).cpu(), cmap=\"gray\")\n",
    "    axes[1, i].imshow(noisy_images[i].reshape((8, 8)).cpu(), cmap=\"gray\")\n",
    "    axes[0, i].set_xlabel(f\"Original: {train.data().y[anomalous_indices[5 + i]]}\")\n",
    "    axes[1, i].set_xlabel(f\"Noisy: {y_train_anomalous[anomalous_indices[5 + i]]}\")\n",
    "plt.suptitle(\"Original and noisy versions of images 6-10\")\n",
    "plt.tight_layout()\n",
    "plt.show();"
   ]
  },
  {
   "cell_type": "code",
   "execution_count": 45,
   "metadata": {},
   "outputs": [
    {
     "data": {
      "application/vnd.jupyter.widget-view+json": {
       "model_id": "d21062c78f534783800e8abb3623b0db",
       "version_major": 2,
       "version_minor": 0
      },
      "text/plain": [
       "BanzhafValuation: MinUpdates(n_updates=100): 0.00%|          | [00:00<?, ?%/s]"
      ]
     },
     "metadata": {},
     "output_type": "display_data"
    },
    {
     "ename": "BrokenProcessPool",
     "evalue": "A task has failed to un-serialize. Please ensure that the arguments of the function are all picklable.",
     "output_type": "error",
     "traceback": [
      "\u001b[0;31m---------------------------------------------------------------------------\u001b[0m",
      "\u001b[0;31m_RemoteTraceback\u001b[0m                          Traceback (most recent call last)",
      "\u001b[0;31m_RemoteTraceback\u001b[0m: \n\"\"\"\nTraceback (most recent call last):\n  File \"/home/miguel/devel/aai/tfl/pydvl-doc-updates/venv/lib/python3.10/site-packages/joblib/externals/loky/process_executor.py\", line 426, in _process_worker\n    call_item = call_queue.get(block=True, timeout=timeout)\n  File \"/usr/lib/python3.10/multiprocessing/queues.py\", line 122, in get\n    return _ForkingPickler.loads(res)\n  File \"/home/miguel/Devel/aai/tfl/pydvl-doc-updates/notebooks/support/banzhaf.py\", line 15, in <module>\n    from pydvl.valuation.scorers.torch import TorchModelScorer\n  File \"/home/miguel/devel/aai/tfl/pydvl-doc-updates/src/pydvl/valuation/scorers/torch.py\", line 6, in <module>\n    from notebooks.support.banzhaf import TorchClassifierModel, logger\n  File \"/home/miguel/devel/aai/tfl/pydvl-doc-updates/notebooks/support/banzhaf.py\", line 15, in <module>\n    from pydvl.valuation.scorers.torch import TorchModelScorer\nImportError: cannot import name 'TorchModelScorer' from partially initialized module 'pydvl.valuation.scorers.torch' (most likely due to a circular import) (/home/miguel/devel/aai/tfl/pydvl-doc-updates/src/pydvl/valuation/scorers/torch.py)\n\"\"\"",
      "\nThe above exception was the direct cause of the following exception:\n",
      "\u001b[0;31mBrokenProcessPool\u001b[0m                         Traceback (most recent call last)",
      "Cell \u001b[0;32mIn[45], line 12\u001b[0m\n\u001b[1;32m      7\u001b[0m anomalous_valuation \u001b[38;5;241m=\u001b[39m BanzhafValuation(\n\u001b[1;32m      8\u001b[0m     utility, sampler\u001b[38;5;241m=\u001b[39msampler, is_done\u001b[38;5;241m=\u001b[39mstopping\u001b[38;5;241m.\u001b[39mreset(), progress\u001b[38;5;241m=\u001b[39m\u001b[38;5;28;01mTrue\u001b[39;00m\n\u001b[1;32m      9\u001b[0m )\n\u001b[1;32m     11\u001b[0m \u001b[38;5;28;01mwith\u001b[39;00m parallel_config(n_jobs\u001b[38;5;241m=\u001b[39mn_jobs):\n\u001b[0;32m---> 12\u001b[0m     \u001b[43manomalous_valuation\u001b[49m\u001b[38;5;241;43m.\u001b[39;49m\u001b[43mfit\u001b[49m\u001b[43m(\u001b[49m\u001b[43manomalous_dataset\u001b[49m\u001b[43m)\u001b[49m\n\u001b[1;32m     14\u001b[0m anomalous_values \u001b[38;5;241m=\u001b[39m anomalous_valuation\u001b[38;5;241m.\u001b[39mvalues()\n\u001b[1;32m     15\u001b[0m anomalous_values\u001b[38;5;241m.\u001b[39msort(key\u001b[38;5;241m=\u001b[39m\u001b[38;5;124m\"\u001b[39m\u001b[38;5;124mvalue\u001b[39m\u001b[38;5;124m\"\u001b[39m)\n",
      "File \u001b[0;32m~/devel/aai/tfl/pydvl-doc-updates/src/pydvl/utils/functional.py:234\u001b[0m, in \u001b[0;36msuppress_warnings.<locals>.decorator.<locals>.wrapper\u001b[0;34m(self, *args, **kwargs)\u001b[0m\n\u001b[1;32m    230\u001b[0m     \u001b[38;5;28;01mraise\u001b[39;00m \u001b[38;5;167;01mAttributeError\u001b[39;00m(\n\u001b[1;32m    231\u001b[0m         \u001b[38;5;124mf\u001b[39m\u001b[38;5;124m\"\u001b[39m\u001b[38;5;124mInstance has no attribute \u001b[39m\u001b[38;5;124m'\u001b[39m\u001b[38;5;132;01m{\u001b[39;00mflag\u001b[38;5;132;01m}\u001b[39;00m\u001b[38;5;124m'\u001b[39m\u001b[38;5;124m for suppress_warnings\u001b[39m\u001b[38;5;124m\"\u001b[39m\n\u001b[1;32m    232\u001b[0m     )\n\u001b[1;32m    233\u001b[0m \u001b[38;5;28;01mif\u001b[39;00m flag \u001b[38;5;129;01mand\u001b[39;00m \u001b[38;5;28mgetattr\u001b[39m(\u001b[38;5;28mself\u001b[39m, flag, \u001b[38;5;28;01mFalse\u001b[39;00m):\n\u001b[0;32m--> 234\u001b[0m     \u001b[38;5;28;01mreturn\u001b[39;00m \u001b[43mfn\u001b[49m\u001b[43m(\u001b[49m\u001b[38;5;28;43mself\u001b[39;49m\u001b[43m,\u001b[49m\u001b[43m \u001b[49m\u001b[38;5;241;43m*\u001b[39;49m\u001b[43margs\u001b[49m\u001b[43m,\u001b[49m\u001b[43m \u001b[49m\u001b[38;5;241;43m*\u001b[39;49m\u001b[38;5;241;43m*\u001b[39;49m\u001b[43mkwargs\u001b[49m\u001b[43m)\u001b[49m\n\u001b[1;32m    235\u001b[0m \u001b[38;5;28;01mwith\u001b[39;00m warnings\u001b[38;5;241m.\u001b[39mcatch_warnings():\n\u001b[1;32m    236\u001b[0m     \u001b[38;5;28;01mfor\u001b[39;00m category \u001b[38;5;129;01min\u001b[39;00m categories:\n",
      "File \u001b[0;32m~/devel/aai/tfl/pydvl-doc-updates/src/pydvl/valuation/methods/semivalue.py:161\u001b[0m, in \u001b[0;36mSemivalueValuation.fit\u001b[0;34m(self, data)\u001b[0m\n\u001b[1;32m    156\u001b[0m \u001b[38;5;28;01mwith\u001b[39;00m make_parallel_flag() \u001b[38;5;28;01mas\u001b[39;00m flag:\n\u001b[1;32m    157\u001b[0m     delayed_evals \u001b[38;5;241m=\u001b[39m parallel(\n\u001b[1;32m    158\u001b[0m         processor(batch\u001b[38;5;241m=\u001b[39m\u001b[38;5;28mlist\u001b[39m(batch), is_interrupted\u001b[38;5;241m=\u001b[39mflag)\n\u001b[1;32m    159\u001b[0m         \u001b[38;5;28;01mfor\u001b[39;00m batch \u001b[38;5;129;01min\u001b[39;00m \u001b[38;5;28mself\u001b[39m\u001b[38;5;241m.\u001b[39msampler\u001b[38;5;241m.\u001b[39mgenerate_batches(data\u001b[38;5;241m.\u001b[39mindices)\n\u001b[1;32m    160\u001b[0m     )\n\u001b[0;32m--> 161\u001b[0m     \u001b[38;5;28;01mfor\u001b[39;00m batch \u001b[38;5;129;01min\u001b[39;00m Progress(delayed_evals, \u001b[38;5;28mself\u001b[39m\u001b[38;5;241m.\u001b[39mis_done, \u001b[38;5;241m*\u001b[39m\u001b[38;5;241m*\u001b[39m\u001b[38;5;28mself\u001b[39m\u001b[38;5;241m.\u001b[39mtqdm_args):\n\u001b[1;32m    162\u001b[0m         \u001b[38;5;28;01mfor\u001b[39;00m update \u001b[38;5;129;01min\u001b[39;00m batch:\n\u001b[1;32m    163\u001b[0m             \u001b[38;5;28mself\u001b[39m\u001b[38;5;241m.\u001b[39mresult \u001b[38;5;241m=\u001b[39m updater(update)\n",
      "File \u001b[0;32m~/devel/aai/tfl/pydvl-doc-updates/src/pydvl/utils/progress.py:127\u001b[0m, in \u001b[0;36mProgress.__iter__\u001b[0;34m(self)\u001b[0m\n\u001b[1;32m    125\u001b[0m \u001b[38;5;28mself\u001b[39m\u001b[38;5;241m.\u001b[39mpbar\u001b[38;5;241m.\u001b[39mreset()\n\u001b[1;32m    126\u001b[0m \u001b[38;5;28;01mtry\u001b[39;00m:\n\u001b[0;32m--> 127\u001b[0m     \u001b[38;5;28;01mfor\u001b[39;00m item \u001b[38;5;129;01min\u001b[39;00m \u001b[38;5;28mself\u001b[39m\u001b[38;5;241m.\u001b[39miterable:\n\u001b[1;32m    128\u001b[0m         \u001b[38;5;28mself\u001b[39m\u001b[38;5;241m.\u001b[39mupdate()\n\u001b[1;32m    129\u001b[0m         \u001b[38;5;28;01myield\u001b[39;00m item\n",
      "File \u001b[0;32m~/devel/aai/tfl/pydvl-doc-updates/venv/lib/python3.10/site-packages/joblib/parallel.py:1650\u001b[0m, in \u001b[0;36mParallel._get_outputs\u001b[0;34m(self, iterator, pre_dispatch)\u001b[0m\n\u001b[1;32m   1647\u001b[0m     \u001b[38;5;28;01myield\u001b[39;00m\n\u001b[1;32m   1649\u001b[0m     \u001b[38;5;28;01mwith\u001b[39;00m \u001b[38;5;28mself\u001b[39m\u001b[38;5;241m.\u001b[39m_backend\u001b[38;5;241m.\u001b[39mretrieval_context():\n\u001b[0;32m-> 1650\u001b[0m         \u001b[38;5;28;01myield from\u001b[39;00m \u001b[38;5;28mself\u001b[39m\u001b[38;5;241m.\u001b[39m_retrieve()\n\u001b[1;32m   1652\u001b[0m \u001b[38;5;28;01mexcept\u001b[39;00m \u001b[38;5;167;01mGeneratorExit\u001b[39;00m:\n\u001b[1;32m   1653\u001b[0m     \u001b[38;5;66;03m# The generator has been garbage collected before being fully\u001b[39;00m\n\u001b[1;32m   1654\u001b[0m     \u001b[38;5;66;03m# consumed. This aborts the remaining tasks if possible and warn\u001b[39;00m\n\u001b[1;32m   1655\u001b[0m     \u001b[38;5;66;03m# the user if necessary.\u001b[39;00m\n\u001b[1;32m   1656\u001b[0m     \u001b[38;5;28mself\u001b[39m\u001b[38;5;241m.\u001b[39m_exception \u001b[38;5;241m=\u001b[39m \u001b[38;5;28;01mTrue\u001b[39;00m\n",
      "File \u001b[0;32m~/devel/aai/tfl/pydvl-doc-updates/venv/lib/python3.10/site-packages/joblib/parallel.py:1754\u001b[0m, in \u001b[0;36mParallel._retrieve\u001b[0;34m(self)\u001b[0m\n\u001b[1;32m   1747\u001b[0m \u001b[38;5;28;01mwhile\u001b[39;00m \u001b[38;5;28mself\u001b[39m\u001b[38;5;241m.\u001b[39m_wait_retrieval():\n\u001b[1;32m   1748\u001b[0m \n\u001b[1;32m   1749\u001b[0m     \u001b[38;5;66;03m# If the callback thread of a worker has signaled that its task\u001b[39;00m\n\u001b[1;32m   1750\u001b[0m     \u001b[38;5;66;03m# triggered an exception, or if the retrieval loop has raised an\u001b[39;00m\n\u001b[1;32m   1751\u001b[0m     \u001b[38;5;66;03m# exception (e.g. `GeneratorExit`), exit the loop and surface the\u001b[39;00m\n\u001b[1;32m   1752\u001b[0m     \u001b[38;5;66;03m# worker traceback.\u001b[39;00m\n\u001b[1;32m   1753\u001b[0m     \u001b[38;5;28;01mif\u001b[39;00m \u001b[38;5;28mself\u001b[39m\u001b[38;5;241m.\u001b[39m_aborting:\n\u001b[0;32m-> 1754\u001b[0m         \u001b[38;5;28;43mself\u001b[39;49m\u001b[38;5;241;43m.\u001b[39;49m\u001b[43m_raise_error_fast\u001b[49m\u001b[43m(\u001b[49m\u001b[43m)\u001b[49m\n\u001b[1;32m   1755\u001b[0m         \u001b[38;5;28;01mbreak\u001b[39;00m\n\u001b[1;32m   1757\u001b[0m     \u001b[38;5;66;03m# If the next job is not ready for retrieval yet, we just wait for\u001b[39;00m\n\u001b[1;32m   1758\u001b[0m     \u001b[38;5;66;03m# async callbacks to progress.\u001b[39;00m\n",
      "File \u001b[0;32m~/devel/aai/tfl/pydvl-doc-updates/venv/lib/python3.10/site-packages/joblib/parallel.py:1789\u001b[0m, in \u001b[0;36mParallel._raise_error_fast\u001b[0;34m(self)\u001b[0m\n\u001b[1;32m   1785\u001b[0m \u001b[38;5;66;03m# If this error job exists, immediately raise the error by\u001b[39;00m\n\u001b[1;32m   1786\u001b[0m \u001b[38;5;66;03m# calling get_result. This job might not exists if abort has been\u001b[39;00m\n\u001b[1;32m   1787\u001b[0m \u001b[38;5;66;03m# called directly or if the generator is gc'ed.\u001b[39;00m\n\u001b[1;32m   1788\u001b[0m \u001b[38;5;28;01mif\u001b[39;00m error_job \u001b[38;5;129;01mis\u001b[39;00m \u001b[38;5;129;01mnot\u001b[39;00m \u001b[38;5;28;01mNone\u001b[39;00m:\n\u001b[0;32m-> 1789\u001b[0m     \u001b[43merror_job\u001b[49m\u001b[38;5;241;43m.\u001b[39;49m\u001b[43mget_result\u001b[49m\u001b[43m(\u001b[49m\u001b[38;5;28;43mself\u001b[39;49m\u001b[38;5;241;43m.\u001b[39;49m\u001b[43mtimeout\u001b[49m\u001b[43m)\u001b[49m\n",
      "File \u001b[0;32m~/devel/aai/tfl/pydvl-doc-updates/venv/lib/python3.10/site-packages/joblib/parallel.py:745\u001b[0m, in \u001b[0;36mBatchCompletionCallBack.get_result\u001b[0;34m(self, timeout)\u001b[0m\n\u001b[1;32m    739\u001b[0m backend \u001b[38;5;241m=\u001b[39m \u001b[38;5;28mself\u001b[39m\u001b[38;5;241m.\u001b[39mparallel\u001b[38;5;241m.\u001b[39m_backend\n\u001b[1;32m    741\u001b[0m \u001b[38;5;28;01mif\u001b[39;00m backend\u001b[38;5;241m.\u001b[39msupports_retrieve_callback:\n\u001b[1;32m    742\u001b[0m     \u001b[38;5;66;03m# We assume that the result has already been retrieved by the\u001b[39;00m\n\u001b[1;32m    743\u001b[0m     \u001b[38;5;66;03m# callback thread, and is stored internally. It's just waiting to\u001b[39;00m\n\u001b[1;32m    744\u001b[0m     \u001b[38;5;66;03m# be returned.\u001b[39;00m\n\u001b[0;32m--> 745\u001b[0m     \u001b[38;5;28;01mreturn\u001b[39;00m \u001b[38;5;28;43mself\u001b[39;49m\u001b[38;5;241;43m.\u001b[39;49m\u001b[43m_return_or_raise\u001b[49m\u001b[43m(\u001b[49m\u001b[43m)\u001b[49m\n\u001b[1;32m    747\u001b[0m \u001b[38;5;66;03m# For other backends, the main thread needs to run the retrieval step.\u001b[39;00m\n\u001b[1;32m    748\u001b[0m \u001b[38;5;28;01mtry\u001b[39;00m:\n",
      "File \u001b[0;32m~/devel/aai/tfl/pydvl-doc-updates/venv/lib/python3.10/site-packages/joblib/parallel.py:763\u001b[0m, in \u001b[0;36mBatchCompletionCallBack._return_or_raise\u001b[0;34m(self)\u001b[0m\n\u001b[1;32m    761\u001b[0m \u001b[38;5;28;01mtry\u001b[39;00m:\n\u001b[1;32m    762\u001b[0m     \u001b[38;5;28;01mif\u001b[39;00m \u001b[38;5;28mself\u001b[39m\u001b[38;5;241m.\u001b[39mstatus \u001b[38;5;241m==\u001b[39m TASK_ERROR:\n\u001b[0;32m--> 763\u001b[0m         \u001b[38;5;28;01mraise\u001b[39;00m \u001b[38;5;28mself\u001b[39m\u001b[38;5;241m.\u001b[39m_result\n\u001b[1;32m    764\u001b[0m     \u001b[38;5;28;01mreturn\u001b[39;00m \u001b[38;5;28mself\u001b[39m\u001b[38;5;241m.\u001b[39m_result\n\u001b[1;32m    765\u001b[0m \u001b[38;5;28;01mfinally\u001b[39;00m:\n",
      "\u001b[0;31mBrokenProcessPool\u001b[0m: A task has failed to un-serialize. Please ensure that the arguments of the function are all picklable."
     ]
    }
   ],
   "source": [
    "from pydvl.valuation.dataset import Dataset\n",
    "\n",
    "anomalous_dataset = Dataset(x=x_train_anomalous, y=y_train_anomalous)\n",
    "\n",
    "# Note that we reuse the same stopping criterion. fit() resets it, but\n",
    "# to be sure we can always call stopping.reset()\n",
    "anomalous_valuation = BanzhafValuation(\n",
    "    utility, sampler=sampler, is_done=stopping.reset(), progress=True\n",
    ")\n",
    "\n",
    "with parallel_config(n_jobs=n_jobs):\n",
    "    anomalous_valuation.fit(anomalous_dataset)\n",
    "\n",
    "anomalous_values = anomalous_valuation.values()\n",
    "anomalous_values.sort(key=\"value\")\n",
    "anomalous_df = anomalous_values.to_dataframe(column=\"banzhaf_value\")"
   ]
  },
  {
   "cell_type": "markdown",
   "metadata": {},
   "source": [
    "Let us now look at how the value has changed for the images that we manipulated:"
   ]
  },
  {
   "cell_type": "code",
   "execution_count": null,
   "metadata": {
    "tags": [
     "hide-input",
     "invertible-output"
    ]
   },
   "outputs": [],
   "source": [
    "from scipy.stats import norm\n",
    "\n",
    "plot_data = anomalous_df.loc[anomalous_indices].copy()\n",
    "plot_data[\"original_banzhaf_value\"] = df.loc[anomalous_indices][\"banzhaf_value\"]\n",
    "plot_data[\"original_banzhaf_value_variances\"] = df.loc[anomalous_indices][\n",
    "    \"banzhaf_value_variances\"\n",
    "]\n",
    "plot_data[\"original_banzhaf_value_counts\"] = df.loc[anomalous_indices][\n",
    "    \"banzhaf_value_counts\"\n",
    "]\n",
    "\n",
    "fig, ax = plt.subplots(1, 1, figsize=(10, 5))\n",
    "stderr = np.sqrt(\n",
    "    plot_data[\"banzhaf_value_variances\"]\n",
    "    / np.maximum(1.0, plot_data[\"banzhaf_value_counts\"])\n",
    ")\n",
    "yerr = norm.ppf(1 - 0.05 / 2) * stderr\n",
    "original_stderr = np.sqrt(\n",
    "    plot_data[\"original_banzhaf_value_variances\"]\n",
    "    / np.maximum(1.0, plot_data[\"original_banzhaf_value_counts\"])\n",
    ")\n",
    "original_yerr = norm.ppf(1 - 0.05 / 2) * original_stderr\n",
    "ax.errorbar(\n",
    "    x=plot_data.index.map(str),\n",
    "    y=np.log(plot_data[\"banzhaf_value\"]),\n",
    "    yerr=yerr,\n",
    "    fmt=\"o\",\n",
    "    capsize=6,\n",
    "    color=\"red\",\n",
    "    label=\"Anomalous\",\n",
    ")\n",
    "ax.errorbar(\n",
    "    x=plot_data.index.map(str),\n",
    "    y=np.log(plot_data[\"original_banzhaf_value\"]),\n",
    "    yerr=original_yerr,\n",
    "    fmt=\"o\",\n",
    "    capsize=6,\n",
    "    color=\"green\",\n",
    "    label=\"Original\",\n",
    ")\n",
    "ax.set_xlabel(\"Image\")\n",
    "ax.set_ylabel(\"Banzhaf Value\")\n",
    "ax.set_title(\"Data values of anomalous images\")\n",
    "plt.legend()\n",
    "plt.xticks(rotation=60)\n",
    "plt.show();"
   ]
  },
  {
   "cell_type": "markdown",
   "metadata": {},
   "source": [
    "As can be seen in this figure, the valuation of the data points has decreased significantly by adding noise or falsifying their labels. This shows the potential of using Banzhaf values or other data valuation methods to detect mislabeled data points or noisy input data."
   ]
  },
  {
   "cell_type": "code",
   "execution_count": null,
   "metadata": {
    "tags": [
     "hide-input"
    ]
   },
   "outputs": [],
   "source": [
    "print(\n",
    "    f\"Average value of original data points: {plot_data['original_banzhaf_value'].mean()}\"\n",
    ")\n",
    "print(\n",
    "    f\"Average value of modified, anomalous data points: {plot_data['banzhaf_value'].mean()}\"\n",
    ")\n",
    "print(\n",
    "    \"For reference, these are the average data values of all data points used for training (anomalous):\"\n",
    ")\n",
    "print(anomalous_df.mean())\n",
    "print(\"These are the average data values of all points (original data):\")\n",
    "print(df.mean())"
   ]
  },
  {
   "cell_type": "markdown",
   "metadata": {},
   "source": [
    "### Maximum Sample Reuse Banzhaf\n",
    "\n",
    "Despite the previous results already being useful, we had to retrain the model a number of times and yet the variance of the value estimates was high. This has consequences for the stability of the top-k ranking of points, which decreases the applicability of the method. We will now use a different sampling method called Maximum Sample Reuse (MSR) which reuses every sample for updating the Banzhaf values. The method was introduced by the authors of Data-Banzhaf and is much more sample-efficient, as we will show."
   ]
  },
  {
   "cell_type": "markdown",
   "metadata": {},
   "source": [
    "All that is required to compute the values with MSR is using [MSRSampler][pydvl.valuation.samplers.msr.MSRSampler] as sampler.\n",
    "\n",
    "Because values converge much faster, we can use a better stopping criterion. Instead of fixing the number of value updates with [MinUpdates][pydvl.valuation.stopping.MinUpdates], we use [RankCorrelation][pydvl.valuation.stopping.RankCorrelation] to stop when the change in Spearman correlation between the ranking of two successive iterations is below a threshold. Despite the much stricter stopping criterion, fitting the Banzhaf values with the MSR sampler is much faster."
   ]
  },
  {
   "cell_type": "code",
   "execution_count": null,
   "metadata": {
    "tags": [
     "hide-output"
    ]
   },
   "outputs": [],
   "source": [
    "from pydvl.valuation.samplers import MSRSampler\n",
    "from pydvl.valuation.stopping import RankCorrelation\n",
    "\n",
    "valuation = BanzhafValuation(\n",
    "    utility,\n",
    "    sampler=MSRSampler(batch_size=32, seed=random_state),\n",
    "    is_done=RankCorrelation(rtol=1e-4, burn_in=64),\n",
    "    progress=True,\n",
    ")\n",
    "\n",
    "with parallel_config(n_jobs=n_jobs):\n",
    "    valuation.fit(train)\n",
    "\n",
    "msr_values = valuation.values()\n",
    "msr_values.sort(key=\"value\")\n",
    "msr_df = msr_values.to_dataframe(column=\"banzhaf_value\")"
   ]
  },
  {
   "cell_type": "markdown",
   "metadata": {},
   "source": [
    "Inspection of the values reveals (generally) much lower variances. Notice the number of updates to each value as well."
   ]
  },
  {
   "cell_type": "code",
   "execution_count": null,
   "metadata": {
    "tags": [
     "hide-input"
    ]
   },
   "outputs": [],
   "source": [
    "msr_df"
   ]
  },
  {
   "cell_type": "code",
   "execution_count": null,
   "metadata": {
    "tags": [
     "hide-input",
     "invertible-output"
    ]
   },
   "outputs": [],
   "source": [
    "high_values = msr_df.iloc[-10:]\n",
    "high_values.index = high_values.index.map(str)\n",
    "_ = plot_shapley(\n",
    "    high_values,\n",
    "    title=\"Images with high values\",\n",
    "    xlabel=\"Image\",\n",
    "    ylabel=\"Banzhaf Value\",\n",
    "    prefix=\"banzhaf_value\",\n",
    ")\n",
    "plt.show();"
   ]
  },
  {
   "cell_type": "code",
   "execution_count": null,
   "metadata": {
    "tags": [
     "hide-input",
     "invertible-output"
    ]
   },
   "outputs": [],
   "source": [
    "low_values = msr_df.iloc[:10]\n",
    "low_values.index = low_values.index.map(str)\n",
    "_ = plot_shapley(\n",
    "    low_values,\n",
    "    title=\"Images with low values\",\n",
    "    xlabel=\"Image\",\n",
    "    ylabel=\"Banzhaf value\",\n",
    "    prefix=\"banzhaf_value\",\n",
    ")\n",
    "plt.show();"
   ]
  },
  {
   "cell_type": "code",
   "execution_count": null,
   "metadata": {
    "tags": [
     "hide-input",
     "invertible-output"
    ]
   },
   "outputs": [],
   "source": [
    "low_images = train[low_values.index.map(int)].data().x\n",
    "low_labels = train[low_values.index.map(int)].data().y\n",
    "high_images = train[high_values.index.map(int)].data().x\n",
    "high_labels = train[high_values.index.map(int)].data().y\n",
    "\n",
    "fig, axes = plt.subplots(2, 5, figsize=(9, 5))\n",
    "for i in range(5):\n",
    "    axes[0, i].imshow(np.reshape(low_images[i], (8, 8)), cmap=\"gray\")\n",
    "    axes[1, i].imshow(np.reshape(high_images[i], (8, 8)), cmap=\"gray\")\n",
    "    axes[0, i].set_xlabel(f\"Label: {low_labels[i]}\")\n",
    "    axes[1, i].set_xlabel(f\"Label: {high_labels[i]}\")\n",
    "\n",
    "axes[0, 0].set_ylabel(\"Low values\")\n",
    "axes[1, 0].set_ylabel(\"High values\")\n",
    "plt.suptitle(\"Images with low and high values\")\n",
    "plt.tight_layout()\n",
    "plt.show();"
   ]
  },
  {
   "cell_type": "markdown",
   "metadata": {},
   "source": [
    "### Compare convergence speed of Banzhaf and MSR Banzhaf Values\n",
    "\n",
    "Conventional margin-based samplers produce require evaluating the utility twice to do one update of the value, and permutation samplers do instead $n+1$ evaluations for $n$ updates. Maximum Sample Reuse (MSR) updates instead all indices in every sample that the utility evaluates. We compare the convergence rates of these methods.\n",
    "\n",
    "In order to do so, we will compute the semi-values using different samplers and use a high number of iterations to make sure that the values have converged."
   ]
  },
  {
   "cell_type": "code",
   "execution_count": null,
   "metadata": {},
   "outputs": [],
   "source": [
    "max_checks = 1000\n",
    "moving_avg = 200"
   ]
  },
  {
   "cell_type": "code",
   "execution_count": null,
   "metadata": {
    "tags": [
     "hide"
    ]
   },
   "outputs": [],
   "source": [
    "if is_CI:\n",
    "    from sklearn.linear_model import SGDClassifier\n",
    "\n",
    "    max_checks = 1\n",
    "    moving_avg = 1\n",
    "    utility = ModelUtility(\n",
    "        model=SGDClassifier(max_iter=2), scorer=accuracy_over_test_set\n",
    "    )"
   ]
  },
  {
   "cell_type": "code",
   "execution_count": null,
   "metadata": {},
   "outputs": [],
   "source": [
    "from pydvl.valuation import IndexSampler, SemivalueValuation, ValuationResult\n",
    "from pydvl.valuation.stopping import HistoryDeviation, MaxChecks\n",
    "\n",
    "\n",
    "def compute_semivalues_and_history(\n",
    "    method_t: Type[SemivalueValuation],\n",
    "    sampler_t: Type[IndexSampler],\n",
    "    sampler_args: dict,\n",
    "    max_checks: int,\n",
    "    progress: bool = True,\n",
    "):\n",
    "    history = HistoryDeviation(n_steps=max_checks, rtol=1e-6)\n",
    "    valuation = method_t(\n",
    "        utility,\n",
    "        sampler=sampler_t(**sampler_args, seed=random_state),\n",
    "        is_done=MaxChecks(max_checks + 2) | history,\n",
    "        progress=progress,\n",
    "    )\n",
    "    with parallel_config(n_jobs=n_jobs):\n",
    "        valuation.fit(train)\n",
    "\n",
    "    return history, valuation.values()"
   ]
  },
  {
   "cell_type": "code",
   "execution_count": null,
   "metadata": {},
   "outputs": [],
   "source": [
    "from pydvl.valuation.samplers import (\n",
    "    AntitheticSampler,\n",
    "    HarmonicSampleSize,\n",
    "    RandomIndexIteration,\n",
    "    RandomSizeIteration,\n",
    "    StratifiedSampler,\n",
    "    UniformSampler,\n",
    ")\n",
    "\n",
    "experiments = OrderedDict(\n",
    "    [\n",
    "        (\n",
    "            PermutationSampler,\n",
    "            {\n",
    "                \"name\": \"Permutation\",\n",
    "                \"truncation\": RelativeTruncation(rtol=0.05, burn_in_fraction=0.5),\n",
    "            },\n",
    "        ),\n",
    "        (MSRSampler, {\"name\": \"MSR\", \"kwargs\": {\"batch_size\": 16}}),\n",
    "        (UniformSampler, {\"name\": \"Uniform\", \"kwargs\": {}}),\n",
    "        (AntitheticSampler, {\"name\": \"Antithetic\", \"kwargs\": {}}),\n",
    "        (\n",
    "            StratifiedSampler,\n",
    "            {\n",
    "                \"name\": \"Stratified\",\n",
    "                \"kwargs\": {\n",
    "                    \"sample_sizes\": HarmonicSampleSize(1),\n",
    "                    \"sample_sizes_iteration\": RandomSizeIteration,\n",
    "                    \"index_iteration\": RandomIndexIteration,\n",
    "                },\n",
    "            },\n",
    "        ),\n",
    "    ]\n",
    ")\n",
    "\n",
    "results = {}\n",
    "history = {}\n",
    "\n",
    "for sampler_t, params in experiments.items():\n",
    "    history[sampler_t], results[sampler_t] = compute_semivalues_and_history(\n",
    "        BanzhafValuation, sampler_t, params.get(\"kwargs\", {}), max_checks\n",
    "    )"
   ]
  },
  {
   "cell_type": "code",
   "execution_count": null,
   "metadata": {
    "tags": [
     "hide-input",
     "invertible-output"
    ]
   },
   "outputs": [],
   "source": [
    "# Compare convergence speed of all methods\n",
    "all_values = {\n",
    "    sampler_t: history[sampler_t].memory.data for sampler_t in experiments.keys()\n",
    "}\n",
    "distances = {sampler_t: [] for sampler_t in experiments.keys()}\n",
    "moving_avgs = {}\n",
    "\n",
    "for sampler_t, params in experiments.items():\n",
    "    for iteration in range(max_checks):\n",
    "        abs_dist = np.abs(\n",
    "            all_values[sampler_t][:, iteration]\n",
    "            - all_values[sampler_t][:, iteration + 1]\n",
    "        )\n",
    "        if abs_dist.max() == 0.0:\n",
    "            distances[sampler_t].append(0.0)\n",
    "        else:\n",
    "            distances[sampler_t].append(np.mean(abs_dist[abs_dist > 0]))\n",
    "    moving_avgs[sampler_t] = np.convolve(\n",
    "        distances[sampler_t], np.ones(moving_avg) / moving_avg, mode=\"same\"\n",
    "    )\n",
    "\n",
    "fig, ax = plt.subplots(1, 1)\n",
    "for sampler_t, params in experiments.items():\n",
    "    ax.plot(list(range(max_checks)), moving_avgs[sampler_t], label=params[\"name\"])\n",
    "ax.set_xlabel(\"Iteration\")\n",
    "ax.set_ylabel(\"Mean semi-value change between iterations\")\n",
    "ax.set_title(\"Convergence speed of different samplers\")\n",
    "plt.yscale(\"log\")\n",
    "plt.ylim(1e-5, 1)\n",
    "plt.legend()\n",
    "plt.show();"
   ]
  },
  {
   "cell_type": "markdown",
   "metadata": {},
   "source": [
    "The plot above visualizes the convergence speed of different samplers used for Banzhaf semi-value calculation. It shows the average magnitude of how much the semi-values are updated in every step of the algorithm.\n",
    "\n",
    "As you can see, **MSR Banzhaf** stabilizes much faster. After 1000 iterations (subsets sampled and evaluated with the utility), Permutation Monte Carlo Banzhaf has evaluated the marginal function about 5 times per data point (we are using 200 data points). For MSR, the semi-value of each data point was updated 1000 times. Due to this, the values converge much faster wrt. the number of utility evaluations, which is the key advantage of MSR sampling.\n",
    "\n",
    "MSR sampling does come at a cost, however, which is that the updates to the semi-values are more noisy than in other methods.  We will analyze the impact of this tradeoff in the next sections. First, let us look at how similar all the computed semi-values are. They are all Banzhaf values, so in a perfect world, all samplers should result in the exact same semi-values. However, due to randomness in the utility (recall that we use a neural network) and randomness in the samplers, the resulting values are likely never exactly the same. Another quality measure is that a good sampler would lead to very consistent values, a bad one to less consistent values. Let us first examine how similar the results are, then we'll look at consistency."
   ]
  },
  {
   "cell_type": "markdown",
   "metadata": {},
   "source": [
    "### Similarity of the semi-values computed using different samplers"
   ]
  },
  {
   "cell_type": "code",
   "execution_count": null,
   "metadata": {
    "tags": [
     "hide"
    ]
   },
   "outputs": [],
   "source": [
    "top_consistency = np.zeros((len(experiments), len(experiments)))\n",
    "low_consistency = np.zeros((len(experiments), len(experiments)))\n",
    "twenty_percent = train.data().x.shape[0] // 5\n",
    "\n",
    "for i, (sampler1_t, sampler1_values) in enumerate(results.items()):\n",
    "    for j, (sampler2_t, sampler2_values) in enumerate(results.items()):\n",
    "        sampler1_values.sort(key=\"value\")\n",
    "        sampler2_values.sort(key=\"value\")\n",
    "        top_20_1 = set(sampler1_values.indices[-twenty_percent:].tolist())\n",
    "        lower_20_1 = set(sampler1_values.indices[:twenty_percent].tolist())\n",
    "        top_20_2 = set(sampler2_values.indices[-twenty_percent:].tolist())\n",
    "        lower_20_2 = set(sampler2_values.indices[:twenty_percent].tolist())\n",
    "        top_consistency[i, j] = len(top_20_1.intersection(top_20_2))\n",
    "        low_consistency[i, j] = len(lower_20_1.intersection(lower_20_2))"
   ]
  },
  {
   "cell_type": "code",
   "execution_count": null,
   "metadata": {
    "tags": [
     "hide-input",
     "invertible-output"
    ]
   },
   "outputs": [],
   "source": [
    "names = [v[\"name\"] for _, v in experiments.items()]\n",
    "fix, axes = plt.subplots(1, 2, figsize=(10, 5))\n",
    "axes[0].matshow(top_consistency, vmin=0, vmax=twenty_percent)\n",
    "mat2 = axes[1].matshow(low_consistency, vmin=0, vmax=twenty_percent)\n",
    "axes[0].set_xticks(np.arange(len(experiments)), names, rotation=90)\n",
    "axes[1].set_xticks(np.arange(len(experiments)), names, rotation=90)\n",
    "for (i, j), z in np.ndenumerate(top_consistency):\n",
    "    axes[0].text(j, i, f\"{int(z)}\", ha=\"center\", va=\"center\", c=\"white\")\n",
    "for (i, j), z in np.ndenumerate(low_consistency):\n",
    "    axes[1].text(j, i, f\"{int(z)}\", ha=\"center\", va=\"center\", c=\"white\")\n",
    "\n",
    "axes[0].set_yticks(np.arange(len(experiments)), names)\n",
    "axes[1].set_yticks(np.arange(len(experiments)), names)\n",
    "axes[0].set_title(\"Top 20% of points\")\n",
    "axes[1].set_title(\"Low 20% of points\")\n",
    "fig.colorbar(mat2)\n",
    "plt.suptitle(\"Overlapping high and low value points between samplers\")\n",
    "plt.tight_layout()\n",
    "plt.show()"
   ]
  },
  {
   "cell_type": "markdown",
   "metadata": {},
   "source": [
    "This plot shows that the samplers lead to quite different Banzhaf semi-values, however, all of them have some points in common. The MSR Sampler does not seem to be significantly worse than any others.\n",
    "\n",
    "In an ideal setting without randomness, the overlap of points would be higher, however, the stochastic nature of the CNN model that we use together with the fact that we use only 200 data points for training, might overshadow these results. As a matter of fact we have the rather discouraging following result:"
   ]
  },
  {
   "cell_type": "code",
   "execution_count": null,
   "metadata": {
    "tags": [
     "hide-input"
    ]
   },
   "outputs": [],
   "source": [
    "all_in_common = set(results[PermutationSampler].indices.tolist())\n",
    "for sampler_t, sampler_values in results.items():\n",
    "    sampler_values.sort(key=\"value\")\n",
    "    top_20 = set(sampler_values.indices[-twenty_percent:].tolist())\n",
    "    all_in_common = all_in_common.intersection(top_20)\n",
    "print(\n",
    "    f\"Total number of top 20 points that all samplers have in common: {len(all_in_common)}\"\n",
    ")"
   ]
  },
  {
   "cell_type": "markdown",
   "metadata": {},
   "source": [
    "### Consistency of the semi-values\n",
    "\n",
    "Finally, we want to analyze how consistent the semi-values are when computed using the different samplers. In order to do this, we calculate them multiple times and check how many of the data points in the top and lowest 20% of the valuation overlap."
   ]
  },
  {
   "cell_type": "code",
   "execution_count": null,
   "metadata": {
    "tags": [
     "hide"
    ]
   },
   "outputs": [],
   "source": [
    "max_checks = 1000\n",
    "n_runs = 5"
   ]
  },
  {
   "cell_type": "code",
   "execution_count": null,
   "metadata": {
    "tags": [
     "hide"
    ]
   },
   "outputs": [],
   "source": [
    "if is_CI:\n",
    "    n_runs = 1\n",
    "    max_checks = 1"
   ]
  },
  {
   "cell_type": "code",
   "execution_count": null,
   "metadata": {
    "tags": [
     "hide"
    ]
   },
   "outputs": [],
   "source": [
    "from tqdm.notebook import tqdm\n",
    "\n",
    "all_results = defaultdict(lambda: defaultdict(list))\n",
    "snapshot_times = np.linspace(0, max_checks, 20, dtype=int)\n",
    "\n",
    "with tqdm(total=n_runs * len(experiments), position=0) as pbar:\n",
    "    for sampler_t, params in experiments.items():\n",
    "        for _ in range(n_runs):\n",
    "            history, vals = compute_semivalues_and_history(\n",
    "                BanzhafValuation,\n",
    "                sampler_t,\n",
    "                params.get(\"kwargs\", {}),\n",
    "                max_checks,\n",
    "                progress=False,\n",
    "            )\n",
    "            for step in snapshot_times:\n",
    "                raw_values = history.memory.data[step]\n",
    "                # We will want to access the indices later, so we use a fake object\n",
    "                fake_result = ValuationResult(indices=vals.indices, values=raw_values)\n",
    "                all_results[sampler_t][step].append(fake_result)\n",
    "            pbar.n += 1\n",
    "            pbar.refresh()"
   ]
  },
  {
   "cell_type": "code",
   "execution_count": null,
   "metadata": {
    "tags": [
     "hide"
    ]
   },
   "outputs": [],
   "source": [
    "# Extract results from experiments\n",
    "twenty_percent = train.data().x.shape[0] // 5\n",
    "plot_results_top = defaultdict(list)\n",
    "plot_results_low = defaultdict(list)\n",
    "for sampler_t, params in experiments.items():\n",
    "    for step in snapshot_times:\n",
    "        values_for_all_runs = all_results[sampler_t][step]\n",
    "        top_20 = None\n",
    "        lower_20 = None\n",
    "        for vals in values_for_all_runs:\n",
    "            vals.sort(key=\"value\")\n",
    "            if top_20 is None:\n",
    "                top_20 = set(vals.indices[-twenty_percent:].tolist())\n",
    "                lower_20 = set(vals.indices[:twenty_percent].tolist())\n",
    "            else:\n",
    "                top_20 = top_20.intersection(\n",
    "                    set(vals.indices[-twenty_percent:].tolist())\n",
    "                )\n",
    "                lower_20 = lower_20.intersection(\n",
    "                    set(vals.indices[:twenty_percent].tolist())\n",
    "                )\n",
    "        plot_results_top[sampler_t].append(len(top_20) / 20)\n",
    "        plot_results_low[sampler_t].append(len(lower_20) / 20)"
   ]
  },
  {
   "cell_type": "code",
   "execution_count": null,
   "metadata": {
    "tags": [
     "hide-input",
     "invertible-output"
    ]
   },
   "outputs": [],
   "source": [
    "fig, axes = plt.subplots(1, 2)\n",
    "for sampler_t, params in experiments.items():\n",
    "    axes[0].plot(snapshot_times, plot_results_top[sampler_t], label=params[\"name\"])\n",
    "    axes[1].plot(snapshot_times, plot_results_low[sampler_t], label=params[\"name\"])\n",
    "axes[0].legend()\n",
    "axes[1].legend()\n",
    "axes[0].set_xlabel(\"Number of iterations\")\n",
    "axes[1].set_xlabel(\"Number of iterations\")\n",
    "axes[0].set_ylabel(f\"Fraction of common points \\nin top 20% across {n_runs} runs\")\n",
    "axes[1].set_ylabel(f\"Fraction of common points \\nin lower 20% across {n_runs} runs\")\n",
    "fig.suptitle(f\"Consistency of samplers (max. value: {twenty_percent})\")\n",
    "fig.tight_layout()\n",
    "plt.show();"
   ]
  },
  {
   "cell_type": "markdown",
   "metadata": {},
   "source": [
    "## Conclusion\n",
    "\n",
    "MSR sampling updates the semi-value estimates for every index in the sample, much more frequently than any other sampler available, which leads to much **faster convergence**. Additionally, the sampler is more consistent with its value estimates than the other samplers, which might be caused by the higher number of value updates.\n",
    "\n",
    "There is alas no general recommendation. It is best to try different samplers when computing semi-values and test which one is best suited for your use case. Nevertheless, the MSR sampler seems like a more efficient sampler which may bring fast results and is well-suited for stochastic models."
   ]
  }
 ],
 "metadata": {
  "celltoolbar": "Edit Metadata",
  "kernelspec": {
   "display_name": "Python 3 (ipykernel)",
   "language": "python",
   "name": "python3"
  },
  "language_info": {
   "codemirror_mode": {
    "name": "ipython",
    "version": 3
   },
   "file_extension": ".py",
   "mimetype": "text/x-python",
   "name": "python",
   "nbconvert_exporter": "python",
   "pygments_lexer": "ipython3",
   "version": "3.8.19"
  },
  "vscode": {
   "interpreter": {
    "hash": "4e000971326892723e7f31ded70802f690c31c3620f59a0f99e594aaee3047ef"
   }
  }
 },
 "nbformat": 4,
 "nbformat_minor": 4
}
